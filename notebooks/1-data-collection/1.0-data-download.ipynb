{
 "cells": [
  {
   "cell_type": "markdown",
   "metadata": {},
   "source": [
    "# Dataset Downloads\n",
    "\n",
    "This notebooks handles the download of all datasets used in this study.\n"
   ]
  },
  {
   "cell_type": "code",
   "execution_count": 1,
   "metadata": {},
   "outputs": [
    {
     "name": "stdout",
     "output_type": "stream",
     "text": [
      "Download path: C:\\Users\\luisg\\Repositories\\deep-waters\\data\\raw\n"
     ]
    }
   ],
   "source": [
    "import codecs\n",
    "import os\n",
    "import zipfile\n",
    "\n",
    "import cdsapi\n",
    "import numpy as np\n",
    "import pandas as pd\n",
    "import xarray as xr\n",
    "from isimip_client.client import ISIMIPClient\n",
    "from tqdm.std import tqdm, trange\n",
    "\n",
    "from deepwaters.utils import ROOT_DIR, download_file, download_zip\n",
    "\n",
    "# Set download path\n",
    "DL_PATH = ROOT_DIR / \"data/raw\"\n",
    "DL_PATH.mkdir(parents=True, exist_ok=True)\n",
    "print(f\"Download path: {DL_PATH}\")"
   ]
  },
  {
   "cell_type": "markdown",
   "metadata": {},
   "source": [
    "## Mascons"
   ]
  },
  {
   "cell_type": "markdown",
   "metadata": {},
   "source": [
    "### JPL Mascons\n",
    "\n",
    "Global surface mass changes (land + ocean) updated monthly, and is provided on 0.5-degree global grids ([Dataset description](https://grace.jpl.nasa.gov/data/get-data/jpl_global_mascons/))."
   ]
  },
  {
   "cell_type": "code",
   "execution_count": 7,
   "metadata": {},
   "outputs": [],
   "source": [
    "start_date = \"2002-04-04\"\n",
    "end_date = \"2023-12-31\"\n",
    "\n",
    "dataset = \"TELLUS_GRAC-GRFO_MASCON_CRI_GRID_RL06.1_V3\"\n",
    "outdir = DL_PATH / \"targets/jpl-mascons\""
   ]
  },
  {
   "cell_type": "code",
   "execution_count": 8,
   "metadata": {},
   "outputs": [],
   "source": [
    "def to_podaac_datetime(date: str) -> str:\n",
    "    return pd.to_datetime(date).strftime(\"%Y-%m-%dT%H:%M:%SZ\")"
   ]
  },
  {
   "cell_type": "code",
   "execution_count": 9,
   "metadata": {
    "vscode": {
     "languageId": "powershell"
    }
   },
   "outputs": [
    {
     "name": "stdout",
     "output_type": "stream",
     "text": [
      "[2023-12-22 22:46:16,344] {podaac_data_downloader.py:270} INFO - Found 1 total files to download\n",
      "[2023-12-22 22:46:16,504] {podaac_data_downloader.py:305} INFO - 2023-12-22 22:46:16.504769 SKIPPED: https://archive.podaac.earthdata.nasa.gov/podaac-ops-cumulus-protected/TELLUS_GRAC-GRFO_MASCON_CRI_GRID_RL06.1_V3/GRCTellus.JPL.200204_202309.GLO.RL06.1M.MSCNv03CRI.nc\n",
      "[2023-12-22 22:46:16,504] {podaac_data_downloader.py:324} INFO - Downloaded Files: 0\n",
      "[2023-12-22 22:46:16,504] {podaac_data_downloader.py:325} INFO - Failed Files:     0\n",
      "[2023-12-22 22:46:16,504] {podaac_data_downloader.py:326} INFO - Skipped Files:    1\n",
      "[2023-12-22 22:46:16,504] {podaac_data_downloader.py:334} INFO - END\n",
      "\n",
      "\n"
     ]
    }
   ],
   "source": [
    "!(podaac-data-downloader -c { dataset } -d { outdir } -sd { to_podaac_datetime(start_date) } -ed { to_podaac_datetime(end_date) } -e \".nc\")"
   ]
  },
  {
   "cell_type": "markdown",
   "metadata": {},
   "source": [
    "Scale factors file:"
   ]
  },
  {
   "cell_type": "code",
   "execution_count": 10,
   "metadata": {},
   "outputs": [],
   "source": [
    "url = \"https://archive.podaac.earthdata.nasa.gov/podaac-ops-cumulus-docs/tellus/open/L3/mascon/docs/CLM4.SCALE_FACTOR.JPL.MSCNv03CRI.nc\"\n",
    "download_file(url, outdir)"
   ]
  },
  {
   "cell_type": "markdown",
   "metadata": {},
   "source": [
    "Placement file:"
   ]
  },
  {
   "cell_type": "code",
   "execution_count": 11,
   "metadata": {},
   "outputs": [],
   "source": [
    "url = \"https://archive.podaac.earthdata.nasa.gov/podaac-ops-cumulus-docs/tellus/open/L3/mascon/docs/JPL_MSCNv03_PLACEMENT.nc\"\n",
    "download_file(url, outdir)"
   ]
  },
  {
   "cell_type": "markdown",
   "metadata": {},
   "source": [
    "### CSR Mascons"
   ]
  },
  {
   "cell_type": "code",
   "execution_count": 12,
   "metadata": {},
   "outputs": [],
   "source": [
    "outdir = DL_PATH / \"targets/csr-mascons\"\n",
    "url = \"http://download.csr.utexas.edu/outgoing/grace/RL0602_mascons/CSR_GRACE_GRACE-FO_RL0602_Mascons_all-corrections.nc\"\n",
    "download_file(url, outdir)"
   ]
  },
  {
   "cell_type": "markdown",
   "metadata": {},
   "source": [
    "### GSFC Mascons\n",
    "\n",
    "[Website](https://earth.gsfc.nasa.gov/geo/data/grace-mascons)\n",
    "\n",
    "Summary:\n",
    "> Global mascon solution where the GAD product has been restored, meaning the ocean mascons describe ocean bottom pressure (OBP). This product is comparable to the JPL and CSR mascon products. The 1-arc-degree equal area values have been placed on an equal angle 0.5x0.5 degree grid. Land values are determined with a least squares estimator that conserves mass over each region, while ocean values have been interpolated/extrapolated.\n",
    "\n",
    "Grid: 0.5x0.5"
   ]
  },
  {
   "cell_type": "code",
   "execution_count": 2,
   "metadata": {},
   "outputs": [],
   "source": [
    "outdir = DL_PATH / \"targets/gsfc-mascons\"\n",
    "url = \"https://earth.gsfc.nasa.gov/sites/default/files/geo/gsfc.glb_.200204_202309_rl06v2.0_obp-ice6gd_halfdegree.nc\"\n",
    "download_file(url, outdir)"
   ]
  },
  {
   "cell_type": "markdown",
   "metadata": {},
   "source": [
    "## Hydrologic models\n",
    "\n",
    "### WaterGAP Global Hydrology Model (WGHM) 2.2e\n",
    "\n",
    "- [Dataset on the Goethe University Data Repository](https://gude.uni-frankfurt.de/entities/researchdata/c53bb505-a620-4860-b2a2-d5a6de74dbd9/details)\n",
    "- [Preprint of paper on WaterGAP 2.2e](https://doi.org/10.5194/gmd-2023-213)\n",
    "\n",
    "*Download links might change in the future, currently there is no public API available.*"
   ]
  },
  {
   "cell_type": "code",
   "execution_count": 4,
   "metadata": {},
   "outputs": [
    {
     "name": "stderr",
     "output_type": "stream",
     "text": [
      "100%|██████████| 4/4 [00:12<00:00,  3.12s/it, Downloading watergap22e_gswp3-w5e5]\n"
     ]
    }
   ],
   "source": [
    "outdir = DL_PATH / \"inputs/watergap22e\"\n",
    "urls = {\n",
    "    \"20crv-era5\": \"https://api.gude.uni-frankfurt.de/api/core/bitstreams/07183cd6-9d47-4cb2-bc60-00436b0ecd39/content\",\n",
    "    \"gswp3-era5\": \"https://api.gude.uni-frankfurt.de/api/core/bitstreams/879ce7c3-4d21-4ee1-a83c-e830b13b9d2e/content\",\n",
    "    \"20crv-w5e5\": \"https://api.gude.uni-frankfurt.de/api/core/bitstreams/2b22924a-0981-4f6c-886c-542d19db7783/content\",\n",
    "    \"gswp3-w5e5\": \"https://api.gude.uni-frankfurt.de/api/core/bitstreams/adee0d04-c414-420e-85ef-89d3e83e32e9/content\",\n",
    "}\n",
    "for name, url in (pbar := tqdm(urls.items())):\n",
    "    pbar.set_postfix_str(f\"Downloading watergap22e_{name}\")\n",
    "    download_file(url, outdir)"
   ]
  },
  {
   "cell_type": "markdown",
   "metadata": {},
   "source": [
    "## Weather data\n",
    "### ISIMIP 20CRv3-ERA5\n",
    "\n",
    "ISIMIP3a dataset covering 1901-2021 on a 0.5°x0.5° lat-lon grid.\n",
    "Combines 20CRv3 (1901-1978), homogenized to ERA5, with ERA5 (1979 - present).\n",
    "\n",
    "Useful links:\n",
    "- [Dataset description](https://www.isimip.org/gettingstarted/input-data-bias-adjustment/details/105/)\n",
    "- [Download link (database)](https://data.isimip.org/search/tree/ISIMIP3a/InputData/climate/atmosphere/20crv3-era5/)\n",
    "- [The Twentieth Century Reanalysis Project](https://www.psl.noaa.gov/data/20thC_Rean/)\n",
    "- [NOAA/CIRES/DOE 20th Century Reanalysis (V3)](https://www.psl.noaa.gov/data/gridded/data.20thC_ReanV3.html)\n",
    "\n",
    "| Variables | Description |\n",
    "|-----------|-------------|\n",
    "| hurs | Near-surface relative humidity |\n",
    "| huss | Near-surface relative humidity |\n",
    "| sfcWind | Near-surface relative humidity |\n",
    "| tas | Daily mean temperature |\n",
    "| tasmin | Daily minimum temp |\n",
    "| uas | eastward near-surface wind |\n",
    "| rlds | long wave downwelling radiation |\n",
    "| rsds | short wave downwelling radiation |\n",
    "| ps | surface air pressure |\n",
    "| pr | total precipitation |"
   ]
  },
  {
   "cell_type": "code",
   "execution_count": 13,
   "metadata": {},
   "outputs": [],
   "source": [
    "isimip_out = DL_PATH / \"inputs/isimip-climate\"\n",
    "client = ISIMIPClient()\n",
    "\n",
    "# search the ISIMIP repository using specifiers\n",
    "response = client.datasets(\n",
    "    simulation_round=\"ISIMIP3a\",\n",
    "    product=\"InputData\",\n",
    "    climate_forcing=[\"20crv3-era5\", \"20crv3-w5e5\"],\n",
    "    climate_scenario=\"obsclim\",\n",
    "    climate_variable=[\"pr\", \"tas\"],\n",
    ")"
   ]
  },
  {
   "cell_type": "code",
   "execution_count": 14,
   "metadata": {},
   "outputs": [
    {
     "name": "stdout",
     "output_type": "stream",
     "text": [
      "ISIMIP3a/InputData/climate/atmosphere/obsclim/global/daily/historical/20CRv3-ERA5/20crv3-era5_obsclim_pr_global_daily\n",
      "ISIMIP3a/InputData/climate/atmosphere/obsclim/global/daily/historical/20CRv3-ERA5/20crv3-era5_obsclim_tas_global_daily\n",
      "ISIMIP3a/InputData/climate/atmosphere/obsclim/global/daily/historical/20CRv3-W5E5/20crv3-w5e5_obsclim_pr_global_daily\n",
      "ISIMIP3a/InputData/climate/atmosphere/obsclim/global/daily/historical/20CRv3-W5E5/20crv3-w5e5_obsclim_tas_global_daily\n"
     ]
    }
   ],
   "source": [
    "# List returned datasets and count files\n",
    "filenum = 0\n",
    "\n",
    "for dataset in response[\"results\"]:\n",
    "    print(dataset[\"path\"])\n",
    "    filenum += len(dataset[\"files\"])"
   ]
  },
  {
   "cell_type": "code",
   "execution_count": null,
   "metadata": {},
   "outputs": [],
   "source": [
    "# Loop over files and download\n",
    "with trange(filenum) as pbar:\n",
    "    for dataset in response[\"results\"]:\n",
    "        for file in dataset[\"files\"]:\n",
    "            print(f\"Downloading file {file['name']}...\", end=\"\\r\")\n",
    "            client.download(file[\"file_url\"], path=isimip_out / dataset[\"name\"])\n",
    "            pbar.update()\n",
    "print(\"\\nDownload completed.\")"
   ]
  },
  {
   "cell_type": "markdown",
   "metadata": {},
   "source": [
    "### ERA5\n",
    "\n",
    "ERA5 data could be combined with the ISIMIP 20CRv3-ERA5 dataset to make up the missing years 2022 and 2023.\n",
    "\n",
    "- Temporal coverage: 1940 to present\n",
    "- Temporal frequency:\n",
    "  - hourly\n",
    "  - monthly averaged by hour of day (synoptic monthly means)\n",
    "  - monthly averaged\n",
    "- Spatial resolution:\n",
    "  - Reanalysis: 0.25° x 0.25° (atmosphere), 0.5° x 0.5° (ocean waves)\n",
    "  - Mean, spread and members: 0.5° x 0.5° (atmosphere), 1° x 1° (ocean waves)\n",
    "\n",
    "\n",
    "Useful links:\n",
    "- [CDS: ERA5 single levels monthly means](https://cds.climate.copernicus.eu/cdsapp#!/dataset/reanalysis-era5-single-levels-monthly-means)\n",
    "- [ERA5 data documentation](https://confluence.ecmwf.int/display/CKB/ERA5%3A+data+documentation)\n",
    "- [How to download ERA5](https://confluence.ecmwf.int/display/CKB/How+to+download+ERA5)"
   ]
  },
  {
   "cell_type": "code",
   "execution_count": 2,
   "metadata": {},
   "outputs": [
    {
     "name": "stdout",
     "output_type": "stream",
     "text": [
      "========================================\n",
      "Downloading `volumetric_soil_water_layer_1`...\n"
     ]
    },
    {
     "name": "stderr",
     "output_type": "stream",
     "text": [
      "2024-03-14 22:39:44,474 INFO Welcome to the CDS\n",
      "2024-03-14 22:39:44,475 INFO Sending request to https://cds.climate.copernicus.eu/api/v2/resources/reanalysis-era5-single-levels-monthly-means\n",
      "2024-03-14 22:39:44,686 INFO Request is queued\n",
      "2024-03-15 00:56:23,625 INFO Request is running\n",
      "2024-03-15 01:08:25,550 INFO Request is completed\n",
      "2024-03-15 01:08:25,551 INFO Downloading https://download-0003-clone.copernicus-climate.eu/cache-compute-0003/cache/data5/adaptor.mars.internal-1710461141.9315538-10566-4-e952aa10-eed0-4001-956c-3f5a8ad94fbc.nc to C:\\Users\\luisg\\Repositories\\deep-waters\\data\\raw\\inputs\\era5-monthly\\era5-monthly_volumetric_soil_water_layer_1_1940-2023.nc (1.9G)\n",
      "2024-03-15 01:09:13,939 INFO Download rate 41.3M/s  \n",
      "2024-03-15 01:09:13,999 INFO Welcome to the CDS\n",
      "2024-03-15 01:09:13,999 INFO Sending request to https://cds.climate.copernicus.eu/api/v2/resources/reanalysis-era5-single-levels-monthly-means\n",
      "2024-03-15 01:09:14,083 INFO Request is queued\n"
     ]
    },
    {
     "name": "stdout",
     "output_type": "stream",
     "text": [
      "========================================\n",
      "Downloading `volumetric_soil_water_layer_2`...\n"
     ]
    },
    {
     "name": "stderr",
     "output_type": "stream",
     "text": [
      "2024-03-15 03:05:49,819 INFO Request is running\n",
      "2024-03-15 03:15:51,435 INFO Request is completed\n",
      "2024-03-15 03:15:51,435 INFO Downloading https://download-0014-clone.copernicus-climate.eu/cache-compute-0014/cache/data6/adaptor.mars.internal-1710468887.9706395-17953-7-5667c1f5-12c6-4273-9675-61335ac12eac.nc to C:\\Users\\luisg\\Repositories\\deep-waters\\data\\raw\\inputs\\era5-monthly\\era5-monthly_volumetric_soil_water_layer_2_1940-2023.nc (1.9G)\n",
      "2024-03-15 03:17:39,744 INFO Download rate 18.4M/s  \n",
      "2024-03-15 03:17:40,080 INFO Welcome to the CDS\n",
      "2024-03-15 03:17:40,080 INFO Sending request to https://cds.climate.copernicus.eu/api/v2/resources/reanalysis-era5-single-levels-monthly-means\n",
      "2024-03-15 03:17:40,166 INFO Request is queued\n"
     ]
    },
    {
     "name": "stdout",
     "output_type": "stream",
     "text": [
      "========================================\n",
      "Downloading `volumetric_soil_water_layer_3`...\n"
     ]
    },
    {
     "name": "stderr",
     "output_type": "stream",
     "text": [
      "2024-03-15 05:42:20,626 INFO Request is running\n",
      "2024-03-15 05:54:23,812 INFO Request is completed\n",
      "2024-03-15 05:54:23,812 INFO Downloading https://download-0018.copernicus-climate.eu/cache-compute-0018/cache/data4/adaptor.mars.internal-1710478416.4711475-25374-7-20600bea-d898-49e0-8569-0d001d1042d7.nc to C:\\Users\\luisg\\Repositories\\deep-waters\\data\\raw\\inputs\\era5-monthly\\era5-monthly_volumetric_soil_water_layer_3_1940-2023.nc (1.9G)\n",
      "2024-03-15 05:57:45,825 INFO Download rate 9.9M/s   \n",
      "2024-03-15 05:57:46,159 INFO Welcome to the CDS\n",
      "2024-03-15 05:57:46,160 INFO Sending request to https://cds.climate.copernicus.eu/api/v2/resources/reanalysis-era5-single-levels-monthly-means\n",
      "2024-03-15 05:57:46,238 INFO Request is queued\n"
     ]
    },
    {
     "name": "stdout",
     "output_type": "stream",
     "text": [
      "========================================\n",
      "Downloading `volumetric_soil_water_layer_4`...\n"
     ]
    },
    {
     "name": "stderr",
     "output_type": "stream",
     "text": [
      "2024-03-15 08:50:31,150 INFO Request is running\n",
      "2024-03-15 09:04:33,274 INFO Request is completed\n",
      "2024-03-15 09:04:33,274 INFO Downloading https://download-0014-clone.copernicus-climate.eu/cache-compute-0014/cache/data8/adaptor.mars.internal-1710489730.975898-18636-16-91e6800a-38de-4d5a-afdd-b559f2d2ef47.nc to C:\\Users\\luisg\\Repositories\\deep-waters\\data\\raw\\inputs\\era5-monthly\\era5-monthly_volumetric_soil_water_layer_4_1940-2023.nc (1.9G)\n",
      "2024-03-15 09:06:00,150 INFO Download rate 23M/s    \n"
     ]
    },
    {
     "name": "stdout",
     "output_type": "stream",
     "text": [
      "Download completed.\n"
     ]
    }
   ],
   "source": [
    "START_YEAR = 1940\n",
    "END_YEAR = 2023\n",
    "VARIABLES = [\n",
    "    \"total_precipitation\",\n",
    "    \"2m_temperature\",\n",
    "    \"2m_dewpoint_temperature\",\n",
    "    \"high_vegetation_cover\",\n",
    "    \"low_vegetation_cover\",\n",
    "    \"evaporation\",\n",
    "    \"potential_evaporation\",\n",
    "    \"runoff\",\n",
    "    \"surface_pressure\",\n",
    "    \"leaf_area_index_high_vegetation\",\n",
    "    \"leaf_area_index_low_vegetation\",\n",
    "    \"sub_surface_runoff\",\n",
    "    \"surface_runoff\",\n",
    "    \"volumetric_soil_water_layer_1\",\n",
    "    \"volumetric_soil_water_layer_2\",\n",
    "    \"volumetric_soil_water_layer_3\",\n",
    "    \"volumetric_soil_water_layer_4\",\n",
    "]\n",
    "\n",
    "\n",
    "dataset_path = DL_PATH / \"inputs/era5-monthly\"\n",
    "dataset_path.mkdir(exist_ok=True)\n",
    "\n",
    "c = cdsapi.Client()\n",
    "for variable in VARIABLES:\n",
    "    print(f\"{'=' *40}\")\n",
    "    print(f\"Downloading `{variable}`...\")\n",
    "    c.retrieve(\n",
    "        \"reanalysis-era5-single-levels-monthly-means\",\n",
    "        {\n",
    "            \"product_type\": \"monthly_averaged_reanalysis\",\n",
    "            \"variable\": variable,\n",
    "            \"year\": [f\"{year}\" for year in range(START_YEAR, END_YEAR + 1)],\n",
    "            \"month\": [f\"{month:02}\" for month in range(1, 12 + 1)],\n",
    "            \"time\": \"00:00\",\n",
    "            # \"grid\": [0.5, 0.5],\n",
    "            \"format\": \"netcdf\",\n",
    "        },\n",
    "        dataset_path / f\"era5-monthly_{variable}_{START_YEAR}-{END_YEAR}.nc\",\n",
    "    )\n",
    "print(\"Download completed.\")"
   ]
  },
  {
   "cell_type": "markdown",
   "metadata": {},
   "source": [
    "### CPC Soil Moisture V2\n",
    "[Data description](https://psl.noaa.gov/data/gridded/data.cpcsoil.html)\n",
    "- Temp coverage: 1948/01 to now\n",
    "- Spatial coverage: 0.5° x 0.5°"
   ]
  },
  {
   "cell_type": "code",
   "execution_count": 2,
   "metadata": {},
   "outputs": [],
   "source": [
    "outdir = DL_PATH / \"inputs/cpc-soil\"\n",
    "url = \"https://downloads.psl.noaa.gov/Datasets/cpcsoil/soilw.mon.mean.v2.nc\"\n",
    "download_file(url, outdir)"
   ]
  },
  {
   "cell_type": "markdown",
   "metadata": {},
   "source": [
    "### NOAA Reconstructed Sea Surface Temperature\n",
    "\n",
    "Download the sea surface temperatures (SST) for calculating the Ocenanic Nino index (ONI). The ONI climate indices provided by [NOAA](https://psl.noaa.gov/data/climateindices/list/) only span to 1950.\n",
    "\n",
    "[Dataset description](https://psl.noaa.gov/data/gridded/data.noaa.ersst.v5.html)"
   ]
  },
  {
   "cell_type": "code",
   "execution_count": 2,
   "metadata": {},
   "outputs": [],
   "source": [
    "outdir = DL_PATH / \"inputs/noaa-ersst-v5\"\n",
    "url = \"https://downloads.psl.noaa.gov/Datasets/noaa.ersst.v5/sst.mnmean.nc\"\n",
    "download_file(url, outdir)"
   ]
  },
  {
   "cell_type": "markdown",
   "metadata": {},
   "source": [
    "### Glacier mass change\n",
    "\n",
    "[Dataset description](https://cds.climate.copernicus.eu/cdsapp#!/dataset/derived-gridded-glacier-mass-change?tab=overview)"
   ]
  },
  {
   "cell_type": "code",
   "execution_count": 18,
   "metadata": {},
   "outputs": [],
   "source": [
    "START_YEAR = 1975\n",
    "END_YEAR = 2021\n",
    "\n",
    "dataset_path = DL_PATH / \"inputs/wgms-fog\"\n",
    "dataset_path.mkdir(exist_ok=True)\n",
    "dataset_file = dataset_path / \"wgms_fog_2023_09.zip\"\n",
    "\n",
    "c = cdsapi.Client()\n",
    "\n",
    "c.retrieve(\n",
    "    \"derived-gridded-glacier-mass-change\",\n",
    "    {\n",
    "        \"variable\": \"glacier_mass_change\",\n",
    "        \"product_version\": \"wgms_fog_2023_09\",\n",
    "        \"format\": \"zip\",\n",
    "        \"hydrological_year\": [\n",
    "            f\"{year}_{(year + 1) % 100 :02}\" for year in range(START_YEAR, END_YEAR + 1)\n",
    "        ],\n",
    "    },\n",
    "    dataset_file,\n",
    ")\n",
    "\n",
    "print(\"Download completed.\")"
   ]
  },
  {
   "cell_type": "code",
   "execution_count": null,
   "metadata": {},
   "outputs": [],
   "source": [
    "# Extract ZIP\n",
    "zip_file = zipfile.ZipFile(dataset_file)\n",
    "zip_file.extractall(dataset_path)"
   ]
  },
  {
   "cell_type": "markdown",
   "metadata": {},
   "source": [
    "## Climate Indices\n",
    "\n",
    "- [Climate indices from NOAA](https://psl.noaa.gov/data/climateindices/list)\n",
    "- [Climate indices from CPC](https://www.cpc.ncep.noaa.gov/data/indices/ersst5.nino.mth.91-20.ascii)"
   ]
  },
  {
   "cell_type": "code",
   "execution_count": 2,
   "metadata": {},
   "outputs": [],
   "source": [
    "# Download CPC El Niño 3.4\n",
    "outdir = DL_PATH / \"inputs/climate-indices\"\n",
    "url = \"https://www.cpc.ncep.noaa.gov/data/indices/ersst5.nino.mth.91-20.ascii\"\n",
    "download_file(url, outdir)"
   ]
  },
  {
   "cell_type": "code",
   "execution_count": 3,
   "metadata": {},
   "outputs": [],
   "source": [
    "with codecs.open(outdir / \"ersst5.nino.mth.91-20.ascii\", encoding=\"utf-8-sig\") as f:\n",
    "    nino = np.array([[x for x in line.split()] for line in f])\n",
    "# Only keep El Niño anomalies\n",
    "anomalies = nino[1:, (3, 5, 7, 9)].astype(\"float32\")\n",
    "# Convert to Xarray Dataset\n",
    "time_idx = pd.date_range(\"1950-01-01\", periods=len(anomalies), freq=\"MS\")\n",
    "time_idx\n",
    "ds = xr.Dataset(\n",
    "    {\n",
    "        \"nino_12\": (\"time\", anomalies[:, 0]),\n",
    "        \"nino_3\": (\"time\", anomalies[:, 1]),\n",
    "        \"nino_4\": (\"time\", anomalies[:, 2]),\n",
    "        \"nino_34\": (\"time\", anomalies[:, 3]),\n",
    "    },\n",
    "    coords={\"time\": time_idx},\n",
    ")\n",
    "ds.to_netcdf(outdir / \"cpc-ersst5-nino-anomalies.nc\")"
   ]
  },
  {
   "cell_type": "markdown",
   "metadata": {},
   "source": [
    "## Human influences"
   ]
  },
  {
   "cell_type": "markdown",
   "metadata": {},
   "source": [
    "### ISIMIP Land Use\n",
    "\n",
    "[Data set description](https://www.isimip.org/gettingstarted/input-data-bias-adjustment/details/82/)"
   ]
  },
  {
   "cell_type": "code",
   "execution_count": 4,
   "metadata": {},
   "outputs": [
    {
     "name": "stderr",
     "output_type": "stream",
     "text": [
      "Downloading landuse: 100%|██████████| 5/5 [00:11<00:00,  2.38s/it, urbanareas]\n"
     ]
    }
   ],
   "source": [
    "outdir = DL_PATH / \"inputs/landuse\"\n",
    "urls = {\n",
    "    \"5crops\": \"https://files.isimip.org/ISIMIP3a/InputData/socioeconomic/landuse/histsoc/landuse-5crops_histsoc_annual_1901_2021.nc\",\n",
    "    \"15crops\": \"https://files.isimip.org/ISIMIP3a/InputData/socioeconomic/landuse/histsoc/landuse-15crops_histsoc_annual_1901_2021.nc\",\n",
    "    \"pastures\": \"https://files.isimip.org/ISIMIP3a/InputData/socioeconomic/landuse/histsoc/landuse-pastures_histsoc_annual_1901_2021.nc\",\n",
    "    \"totals\": \"https://files.isimip.org/ISIMIP3a/InputData/socioeconomic/landuse/histsoc/landuse-totals_histsoc_annual_1901_2021.nc\",\n",
    "    \"urbanareas\": \"https://files.isimip.org/ISIMIP3a/InputData/socioeconomic/landuse/histsoc/landuse-urbanareas_histsoc_annual_1901_2021.nc\",\n",
    "}\n",
    "for name, url in (pbar := tqdm(urls.items(), desc=\"Downloading landuse\")):\n",
    "    pbar.set_postfix_str(name)\n",
    "    download_file(url, outdir)"
   ]
  },
  {
   "cell_type": "markdown",
   "metadata": {},
   "source": [
    "### ISIMIP Lake area fraction\n",
    "\n",
    "[Data set description](https://www.isimip.org/gettingstarted/input-data-bias-adjustment/details/132/)"
   ]
  },
  {
   "cell_type": "code",
   "execution_count": 3,
   "metadata": {},
   "outputs": [],
   "source": [
    "outdir = DL_PATH / \"inputs/pctlake\"\n",
    "url = \"https://files.isimip.org/ISIMIP3a/InputData/socioeconomic/lakes/histsoc/pctlake_histsoc_1901_2021.nc\"\n",
    "download_file(url, outdir)"
   ]
  },
  {
   "cell_type": "markdown",
   "metadata": {},
   "source": [
    "## Basin shapes\n",
    "### HydroBASINS\n",
    "\n",
    "The HydroBASINS depict sub-basin boundaries at a global scale. They are a series of vectorized polygons and are available for 12 different Pfafstetter levels (with decreasing basin sizes). They were created by the HydroSHEDS project on behalf of the World Wildlife Fund. Cite: [10.1002/hyp.97409](https://doi.org/10.1002/hyp.9740)\n",
    "\n",
    "File names follow the syntax:\n",
    "\n",
    "    Hybas_XX_levYY_v1c.shp\n",
    "\n",
    "where XX indicates the region and YY indicates the Pfafstetter level (01-12). The regional extents \n",
    "are defined by a two-digit identifier:\n",
    "\n",
    "| Identifier | Region                      |\n",
    "|------------|-----------------------------|\n",
    "| af         | Africa                      |\n",
    "| ar         | North American Arctic       |\n",
    "| as         | Central and South-East Asia |\n",
    "| au         | Australia and Oceania       |\n",
    "| eu         | Europe and Middle East      |\n",
    "| gr         | Greenland                   |\n",
    "| na         | North America and Caribbean |\n",
    "| sa         | South America               |\n",
    "| si         | Siberia                     |"
   ]
  },
  {
   "cell_type": "code",
   "execution_count": null,
   "metadata": {},
   "outputs": [],
   "source": [
    "# Identifiers of basin regions\n",
    "hybas_ids = [\"af\", \"ar\", \"as\", \"au\", \"eu\", \"gr\", \"na\", \"sa\", \"si\"]\n",
    "hbas_out = DL_PATH / \"basins/hybas\"\n",
    "\n",
    "for id in tqdm(hybas_ids):\n",
    "    hybas_url = (\n",
    "        \"https://data.hydrosheds.org/file/HydroBASINS/standard/hybas_\"\n",
    "        + id\n",
    "        + \"_lev01-06_v1c.zip\"\n",
    "    )\n",
    "    download_zip(url=hybas_url, path=hbas_out)\n",
    "\n",
    "print(\"Download completed.\")"
   ]
  },
  {
   "cell_type": "markdown",
   "metadata": {},
   "source": [
    "### TRIP\n",
    "\n",
    "Mayor River Basin Templates from the [Total Runoff Integrating Pathways (TRIP)](https://hydro.iis.u-tokyo.ac.jp/~taikan/TRIPDATA/TRIPDATA.html) project.\n",
    "\n",
    "DOI: [10.1175/1087-3562(1998)002%3C0001:DOTRIP%3E2.3.CO;2](https://doi.org/10.1175/1087-3562(1998)002%3C0001:DOTRIP%3E2.3.CO;2)"
   ]
  },
  {
   "cell_type": "code",
   "execution_count": 19,
   "metadata": {},
   "outputs": [],
   "source": [
    "# Download netCDF file\n",
    "url = \"https://hydro.iis.u-tokyo.ac.jp/~taikan/TRIPDATA/Data/trip_0.5x0.5.nc\"\n",
    "path = DL_PATH / \"basins/trip\"\n",
    "download_file(url, path)"
   ]
  },
  {
   "cell_type": "code",
   "execution_count": 20,
   "metadata": {},
   "outputs": [],
   "source": [
    "# Download index file (containing basin names)\n",
    "url = \"https://hydro.iis.u-tokyo.ac.jp/~taikan/TRIPDATA/Data/rivnum05.txt\"\n",
    "download_file(url, path)"
   ]
  },
  {
   "cell_type": "markdown",
   "metadata": {},
   "source": [
    "### GRDC Major River Basins\n",
    "\n",
    "Major river basins by the Global Runoff Data Center. The basins incorporate HydroBASINS data and are named. They are available as Shapefile and geoJSON\n",
    "\n",
    "- [Description](https://www.bafg.de/GRDC/EN/02_srvcs/22_gslrs/221_MRB/riverbasins_node.html)\n",
    "- [Map and download](https://mrb.grdc.bafg.de/)"
   ]
  },
  {
   "cell_type": "code",
   "execution_count": 21,
   "metadata": {},
   "outputs": [
    {
     "name": "stdout",
     "output_type": "stream",
     "text": [
      "Download completed.\n"
     ]
    }
   ],
   "source": [
    "url = \"https://www.bafg.de/SharedDocs/ExterneLinks/GRDC/mrb_shp_zip.zip?__blob=publicationFile\"\n",
    "path = DL_PATH / \"basins/mrb\"\n",
    "\n",
    "download_zip(url, path)\n",
    "print(\"Download completed.\")"
   ]
  },
  {
   "cell_type": "markdown",
   "metadata": {},
   "source": [
    "## Country shapes\n",
    "### NaturalEarth 1:50 countries\n",
    "\n",
    "[Description](https://www.naturalearthdata.com/downloads/50m-cultural-vectors/50m-admin-0-countries-2/)"
   ]
  },
  {
   "cell_type": "code",
   "execution_count": 27,
   "metadata": {},
   "outputs": [
    {
     "name": "stdout",
     "output_type": "stream",
     "text": [
      "Download completed.\n"
     ]
    }
   ],
   "source": [
    "url = \"https://naturalearth.s3.amazonaws.com/5.0.1/50m_cultural/ne_50m_admin_0_countries.zip\"\n",
    "path = DL_PATH / \"countries/naturalearth\"\n",
    "\n",
    "download_zip(url, path)\n",
    "print(\"Download completed.\")"
   ]
  },
  {
   "cell_type": "markdown",
   "metadata": {},
   "source": [
    "## Comparison products\n",
    "### Humphrey's GRACE-Rec\n",
    "\n",
    "[Data on figshare](https://figshare.com/articles/dataset/GRACE-REC_A_reconstruction_of_climate-driven_water_storage_changes_over_the_last_century/7670849)"
   ]
  },
  {
   "cell_type": "code",
   "execution_count": 3,
   "metadata": {},
   "outputs": [
    {
     "name": "stdout",
     "output_type": "stream",
     "text": [
      "Download completed.\n"
     ]
    }
   ],
   "source": [
    "url = \"https://figshare.com/ndownloader/files/17990285\"\n",
    "path = DL_PATH / \"reconstructions/humphrey\"\n",
    "\n",
    "download_zip(url, path)\n",
    "print(\"Download completed.\")"
   ]
  },
  {
   "cell_type": "markdown",
   "metadata": {},
   "source": [
    "### Yin's GTWS-MLrec\n",
    "\n",
    "[Data on zenodo](https://zenodo.org/records/10040927)"
   ]
  },
  {
   "cell_type": "code",
   "execution_count": null,
   "metadata": {},
   "outputs": [],
   "source": [
    "path = DL_PATH / \"reconstructions/li\"\n",
    "urls = [\n",
    "    \"https://zenodo.org/records/10040927/files/CSR-based%20GTWS-MLrec%20TWS.nc?download=1\",\n",
    "    \"https://zenodo.org/records/10040927/files/GSFC-based%20GTWS-MLrec%20TWS.nc?download=1\",\n",
    "    \"https://zenodo.org/records/10040927/files/JPL-based%20GTWS-MLrec%20TWS.nc?download=1\",\n",
    "]\n",
    "\n",
    "for url in tqdm(urls):\n",
    "    download_file(url, path)"
   ]
  },
  {
   "cell_type": "markdown",
   "metadata": {},
   "source": [
    "### Li's GRACE-REC\n",
    "\n",
    "[Data on DRYAD](https://datadryad.org/stash/dataset/doi:10.5061/dryad.z612jm6bt)"
   ]
  },
  {
   "cell_type": "code",
   "execution_count": 4,
   "metadata": {},
   "outputs": [],
   "source": [
    "url = \"https://datadryad.org/stash/downloads/file_stream/665199\"\n",
    "path = DL_PATH / \"reconstructions/yin\"\n",
    "download_file(url, path)\n",
    "# Fix file name\n",
    "os.rename(path / \"665199\", path / \"GRID_CSR_GRACE_REC.mat\")"
   ]
  }
 ],
 "metadata": {
  "kernelspec": {
   "display_name": "Python 3",
   "language": "python",
   "name": "python3"
  },
  "language_info": {
   "codemirror_mode": {
    "name": "ipython",
    "version": 3
   },
   "file_extension": ".py",
   "mimetype": "text/x-python",
   "name": "python",
   "nbconvert_exporter": "python",
   "pygments_lexer": "ipython3",
   "version": "3.11.9"
  }
 },
 "nbformat": 4,
 "nbformat_minor": 2
}
