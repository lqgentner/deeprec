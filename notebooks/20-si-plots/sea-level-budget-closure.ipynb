{
 "cells": [
  {
   "cell_type": "markdown",
   "metadata": {},
   "source": [
    "# Comparison to the Global Mean Sea Level\n",
    "We compare the global average TWS of our reconstruction with a TWS reconstruction derived from the global mean sea level (GMSL)."
   ]
  },
  {
   "cell_type": "code",
   "execution_count": null,
   "metadata": {},
   "outputs": [],
   "source": [
    "import matplotlib.pyplot as plt\n",
    "import janitor  # noqa\n",
    "import numpy as np\n",
    "import pandas as pd\n",
    "import seaborn as sns\n",
    "import xarray as xr\n",
    "from dask.diagnostics import ProgressBar\n",
    "from matplotlib_inline.backend_inline import set_matplotlib_formats\n",
    "\n",
    "import deeprec  # noqa\n",
    "from deeprec.utils import ROOT_DIR\n",
    "\n",
    "# Register dask progress bar\n",
    "ProgressBar(minimum=5).register()"
   ]
  },
  {
   "cell_type": "code",
   "execution_count": null,
   "metadata": {},
   "outputs": [],
   "source": [
    "set_matplotlib_formats(\"retina\")\n",
    "plt.style.use(ROOT_DIR / \"config/style_paper.mplstyle\")\n",
    "FIGURE_DIR = ROOT_DIR / \"docs/figures/si\""
   ]
  },
  {
   "cell_type": "markdown",
   "metadata": {},
   "source": [
    "## Data Preprocessing\n",
    "\n",
    "## Data Loading\n",
    "\n",
    "Load and combine the different data sets (GRACE, ERA5, WGHM, and our and other reconstructions)"
   ]
  },
  {
   "cell_type": "code",
   "execution_count": null,
   "metadata": {},
   "outputs": [],
   "source": [
    "# Load and combine our predictions\n",
    "pred_dir = ROOT_DIR / \"models/predictions/ensemble-mixed\"\n",
    "\n",
    "ours_list = []\n",
    "\n",
    "for inp_name in [\"era\", \"era-rdcd\", \"wghm-era\"]:\n",
    "    twsa_ours = xr.open_zarr(pred_dir / f\"ensemble-mixed_{inp_name}_best-mae.zarr\").twsa\n",
    "    ours_list.append(twsa_ours.rename(f\"twsa_ours_{inp_name}\"))\n",
    "ours = xr.merge(ours_list)\n"
   ]
  },
  {
   "cell_type": "code",
   "execution_count": null,
   "metadata": {},
   "outputs": [],
   "source": [
    "targets_store = ROOT_DIR / \"data/processed/targets.zarr\"\n",
    "inputs_store = ROOT_DIR / \"data/processed/inputs.zarr\"\n",
    "recs_store = ROOT_DIR / \"data/processed/reconstructions.zarr\"\n",
    "\n",
    "tgts = xr.open_zarr(targets_store)\n",
    "inps = xr.open_zarr(inputs_store)\n",
    "recs = xr.open_zarr(recs_store)\n"
   ]
  },
  {
   "cell_type": "code",
   "execution_count": null,
   "metadata": {},
   "outputs": [],
   "source": [
    "# Merge all data sets\n",
    "ds_all = xr.merge([tgts, inps, ours, recs])\n",
    "\n",
    "# Create and apply mask (land area and Greenland+Antarctica exclusion)\n",
    "mask = (tgts.land_mask_jpl * tgts.land_mask_gsfc * inps.grl_ata_mask).compute()\n",
    "ds_all = ds_all.where(mask == 1)\n",
    "\n",
    "# Substract the GRACE baseline\n",
    "baseline = slice(\"2004\", \"2009\")\n",
    "base_mean = ds_all.sel(time=baseline).mean(\"time\")\n",
    "ds_all = ds_all - base_mean\n"
   ]
  },
  {
   "cell_type": "markdown",
   "metadata": {},
   "source": [
    "Specify variables of interest and their descriptive names:"
   ]
  },
  {
   "cell_type": "code",
   "execution_count": null,
   "metadata": {},
   "outputs": [],
   "source": [
    "vars_verbose = {\n",
    "    \"twsa_ours_era-rdcd\": \"DeepRec, 4×ERA5\",\n",
    "    \"twsa_ours_era\": \"DeepRec, 14×ERA5\",\n",
    "    \"twsa_ours_wghm-era\": \"DeepRec, WGHM+14×ERA5\",\n",
    "    \"twsa_gap\": \"WGHM\",\n",
    "    \"humphrey_gsfc_detrend\": \"Humphrey's GSFC Rec\",\n",
    "    \"li_csr_full\": \"Li's CSR Rec\",\n",
    "    \"yin_csr_full\": \"Yin's CSR Rec\",\n",
    "    \"palazzoli_jpl_full\": \"Palazzoli's JPL Rec\",\n",
    "}\n",
    "eval_names = list(vars_verbose.keys())\n"
   ]
  },
  {
   "cell_type": "code",
   "execution_count": null,
   "metadata": {},
   "outputs": [],
   "source": [
    "tws = ds_all[eval_names]"
   ]
  },
  {
   "cell_type": "markdown",
   "metadata": {},
   "source": [
    "### Calculate the global TWSA mean"
   ]
  },
  {
   "cell_type": "code",
   "execution_count": null,
   "metadata": {},
   "outputs": [],
   "source": [
    "# Time stamps where our prediction is available\n",
    "our_time = ours.dropna(\"time\", how=\"all\").time"
   ]
  },
  {
   "cell_type": "code",
   "execution_count": null,
   "metadata": {},
   "outputs": [],
   "source": [
    "tws_mean = (\n",
    "    tws.sel(time=slice(our_time[0], our_time[-1]), drop=True)\n",
    "    .dr.weight_lat()\n",
    "    .mean([\"lat\", \"lon\"])\n",
    "    # Calculate yearly averages\n",
    "    .groupby(\"time.year\")\n",
    "    .mean()\n",
    "    .compute()\n",
    ")"
   ]
  },
  {
   "cell_type": "markdown",
   "metadata": {},
   "source": [
    "### Load GMSL Components"
   ]
  },
  {
   "cell_type": "code",
   "execution_count": null,
   "metadata": {},
   "outputs": [],
   "source": [
    "df = pd.read_excel(\n",
    "    ROOT_DIR / \"data/raw/inputs/sea-level/frederikse/global_basin_timeseries.xlsx\"\n",
    ")\n",
    "df = df.rename(columns={df.columns[0]: \"year\"}).set_index(\"year\")\n",
    "df.columns = df.columns.str.replace(r\"[\\[\\]]\", \"\", regex=True)\n",
    "df = df.clean_names()"
   ]
  },
  {
   "cell_type": "code",
   "execution_count": null,
   "metadata": {},
   "outputs": [],
   "source": [
    "# But bounds into separate dataframes\n",
    "df_mean = df[df.columns[df.columns.str.endswith(\"mean\")]]\n",
    "df_upper = df[df.columns[df.columns.str.endswith(\"upper\")]]\n",
    "df_lower = df[df.columns[df.columns.str.endswith(\"lower\")]]\n",
    "\n",
    "df_mean.columns = df_mean.columns.str.replace(\"_mean\", \"\")\n",
    "df_upper.columns = df_upper.columns.str.replace(\"_upper\", \"\")\n",
    "df_lower.columns = df_lower.columns.str.replace(\"_lower\", \"\")"
   ]
  },
  {
   "cell_type": "markdown",
   "metadata": {},
   "source": [
    "### Bounds calculation\n",
    "\n",
    "Because calculate the variance ($\\sigma^2$) from the given lower ($CI_L$) and upper ($CI_U$) confidence intervals:\n",
    "\n",
    "$$\n",
    "\\sigma^2 = \\left(\\frac{CI_U - CI_L}{2 \\cdot 1.645}\\right)^2\n",
    "$$\n",
    "\n",
    "Upper and lower bounds are 90 % confidence, which is equal to a Z-score of 1.645."
   ]
  },
  {
   "cell_type": "code",
   "execution_count": null,
   "metadata": {},
   "outputs": [],
   "source": [
    "Z_SCORE = 1.645\n",
    "\n",
    "# Calculate the variances of each variable\n",
    "variances = ((df_upper - df_lower) / (2 * Z_SCORE)) ** 2\n",
    "\n",
    "comps = [\n",
    "    \"steric\",\n",
    "    \"greenland_ice_sheet\",\n",
    "    \"antarctic_ice_sheet\",\n",
    "    \"terrestrial_water_storage\",\n",
    "    \"glaciers\",\n",
    "]\n",
    "\n",
    "# Calculate the variance of the sum of GMSL components\n",
    "var_summed = variances[comps].sum(axis=1)"
   ]
  },
  {
   "cell_type": "markdown",
   "metadata": {},
   "source": [
    "Validity check: Calculate the bounds from the sum of all component variances and compare to Frederikse's `sum_of_contributors` bounds:"
   ]
  },
  {
   "cell_type": "code",
   "execution_count": null,
   "metadata": {},
   "outputs": [],
   "source": [
    "# Calculate the 90 % CI of the summed components\n",
    "error_summed = Z_SCORE * np.sqrt(var_summed)\n",
    "ubound_summed = df_mean.sum_of_contributors + error_summed\n",
    "lbound_summed = df_mean.sum_of_contributors - error_summed\n"
   ]
  },
  {
   "cell_type": "code",
   "execution_count": null,
   "metadata": {},
   "outputs": [],
   "source": [
    "fig, ax = plt.subplots()\n",
    "\n",
    "ax.fill_between(\n",
    "    df_mean.index,\n",
    "    df_lower.sum_of_contributors,\n",
    "    df_upper.sum_of_contributors,\n",
    "    alpha=0.3,\n",
    "    color=\"tab:blue\",\n",
    "    label=\"Frederikse's bounds\",\n",
    ")\n",
    "ax.fill_between(\n",
    "    df_mean.index,\n",
    "    ubound_summed,\n",
    "    lbound_summed,\n",
    "    alpha=0.3,\n",
    "    color=\"tab:orange\",\n",
    "    label=\"Calculated bounds\",\n",
    ")\n",
    "ax.plot(df_mean.sum_of_contributors, color=\"tab:blue\", label=\"Frederikse's sum\")\n",
    "ax.plot(df_mean[comps].sum(axis=1), color=\"tab:orange\", label=\"Calculated sum\")\n",
    "ax.legend();"
   ]
  },
  {
   "cell_type": "markdown",
   "metadata": {},
   "source": [
    "The results are almost identical."
   ]
  },
  {
   "cell_type": "markdown",
   "metadata": {},
   "source": [
    "### Baseline adjustment"
   ]
  },
  {
   "cell_type": "markdown",
   "metadata": {},
   "source": [
    "The negative globally averaged TWS on land is equal to the TWS contribution to the GMSL. To use our TWS predictions instead of Frederikse's, we have to make sure all Anomalies have the same baseline mean. We will use the GRACE baseline (2004-2009), contrary to Frederiks who uses 2002 to 2018 as baseline."
   ]
  },
  {
   "cell_type": "code",
   "execution_count": null,
   "metadata": {},
   "outputs": [],
   "source": [
    "# Negate TWS and convert to dataframe\n",
    "tws_preds = -tws_mean.to_pandas()\n",
    "\n",
    "baseline = slice(2004, 2009)\n",
    "\n",
    "# Predictions\n",
    "preds_base = tws_preds.loc[baseline].mean()\n",
    "tws_preds = tws_preds - preds_base\n",
    "\n",
    "# GMSL mean\n",
    "df_mean_base = df_mean.loc[baseline].mean()\n",
    "df_mean = df_mean - df_mean_base\n",
    "\n",
    "# GMSL bounds\n",
    "df_upper = df_upper - df_mean_base\n",
    "df_lower = df_lower - df_mean_base"
   ]
  },
  {
   "cell_type": "code",
   "execution_count": null,
   "metadata": {},
   "outputs": [],
   "source": [
    "assert np.isclose(tws_preds.loc[baseline].mean(), 0).all()"
   ]
  },
  {
   "cell_type": "code",
   "execution_count": null,
   "metadata": {},
   "outputs": [],
   "source": [
    "# Plot all TWS predictions\n",
    "ax = tws_preds.rename(columns=vars_verbose).plot()\n",
    "ax.set_title(\"TWS (including glaciers) contribution to GMSL\")\n",
    "ax.set_xlabel(None)\n",
    "ax.set_ylabel(\"GMSL [mm]\")\n",
    "ax.legend(loc=\"lower center\")\n",
    "sns.move_legend(\n",
    "    ax, loc=\"center left\", bbox_to_anchor=(1, 0.5), title=None, frameon=False\n",
    ")"
   ]
  },
  {
   "cell_type": "code",
   "execution_count": null,
   "metadata": {},
   "outputs": [],
   "source": [
    "# Plot Frederikse's products\n",
    "ax = df_mean.plot()\n",
    "ax.set_title(\"Observed GMSL and contributing processes\")\n",
    "ax.set_xlabel(None)\n",
    "ax.set_ylabel(\"GMSL [mm]\")\n",
    "sns.move_legend(\n",
    "    ax, loc=\"center left\", bbox_to_anchor=(1, 0.5), title=None, frameon=False\n",
    ")"
   ]
  },
  {
   "cell_type": "markdown",
   "metadata": {},
   "source": [
    "## Plot Sea Level Budget Closure"
   ]
  },
  {
   "cell_type": "code",
   "execution_count": null,
   "metadata": {},
   "outputs": [],
   "source": [
    "# Calculated the TWSA estimated from GMSL (GMSL observation - est. ice - est. steric) and its variance\n",
    "obs_tws = (\n",
    "    df_mean.observed_gmsl\n",
    "    - df_mean.steric\n",
    "    - df_mean.greenland_ice_sheet\n",
    "    - df_mean.antarctic_ice_sheet\n",
    ")\n",
    "var_obs_tws = (\n",
    "    variances.observed_gmsl\n",
    "    - variances.steric\n",
    "    - variances.greenland_ice_sheet\n",
    "    - variances.antarctic_ice_sheet\n",
    ")\n",
    "error_obs_tws = Z_SCORE * np.sqrt(var_obs_tws)\n",
    "ubound_obs_tws = obs_tws + error_obs_tws\n",
    "lbound_obs_tws = obs_tws - error_obs_tws\n",
    "\n",
    "# Calculated the estimated TWS (Altimetry - est. ice - est. steric) and its variance\n",
    "alt_tws = (\n",
    "    df_mean.altimetry\n",
    "    - df_mean.steric\n",
    "    - df_mean.greenland_ice_sheet\n",
    "    - df_mean.antarctic_ice_sheet\n",
    ")\n",
    "var_alt_tws = (\n",
    "    variances.altimetry\n",
    "    - variances.steric\n",
    "    - variances.greenland_ice_sheet\n",
    "    - variances.antarctic_ice_sheet\n",
    ")\n",
    "error_alt_tws = Z_SCORE * np.sqrt(var_alt_tws)\n",
    "ubound_alt_tws = alt_tws + error_alt_tws\n",
    "lbound_alt_tws = alt_tws - error_alt_tws"
   ]
  },
  {
   "cell_type": "code",
   "execution_count": null,
   "metadata": {},
   "outputs": [],
   "source": [
    "nvars = len(tws_preds.columns)\n",
    "ncols = 2\n",
    "nrows = int(np.ceil(nvars / ncols))\n",
    "\n",
    "subplot_kwargs = dict(\n",
    "    nrows=nrows, ncols=ncols, figsize=(6, 7), sharex=True, sharey=True\n",
    ")\n",
    "colors = sns.color_palette(\"tab10\")\n"
   ]
  },
  {
   "cell_type": "code",
   "execution_count": null,
   "metadata": {},
   "outputs": [],
   "source": [
    "fig, axs = plt.subplots(**subplot_kwargs)\n",
    "\n",
    "for i, ax, (name, tws_pred) in zip(range(nvars), axs.flat, tws_preds.items()):\n",
    "    labels = (\n",
    "        [\n",
    "            \"Sea level: Altimetry - Steric - Ice\",\n",
    "            \"Sea level: Tide gauges - Steric - Ice\",\n",
    "            \"TWSA of model\",\n",
    "        ]\n",
    "        if i == 0\n",
    "        else [\"_\"] * 3\n",
    "    )\n",
    "    # Plot  altimetry\n",
    "    ax.plot(alt_tws, label=labels[0], color=colors[8], zorder=4)\n",
    "    ax.fill_between(\n",
    "        alt_tws.index,\n",
    "        y1=ubound_alt_tws,\n",
    "        y2=lbound_alt_tws,\n",
    "        alpha=0.3,\n",
    "        facecolor=colors[8],\n",
    "        zorder=3,\n",
    "    )\n",
    "    # Plot estimate from observed\n",
    "    ax.plot(obs_tws, label=labels[1], color=colors[9], zorder=2)\n",
    "    ax.fill_between(\n",
    "        obs_tws.index,\n",
    "        y1=ubound_obs_tws,\n",
    "        y2=lbound_obs_tws,\n",
    "        alpha=0.3,\n",
    "        facecolor=colors[9],\n",
    "        zorder=1,\n",
    "    )\n",
    "\n",
    "    # Plot reconstruction\n",
    "    ax.plot(tws_pred, label=labels[2], color=\"black\", zorder=5)\n",
    "    ax.set_title(vars_verbose[name])\n",
    "    ax.set_xlabel(None)\n",
    "    ax.set_ylabel(None)\n",
    "    ax.label_outer()\n",
    "    ax.set_xlim((1940, 2018))\n",
    "    # ax.set_ylim((-60, 40))\n",
    "    ax.set_ylim((-75, 50))\n",
    "    ax.label_outer()\n",
    "    ax.yaxis.grid(True)\n",
    "\n",
    "# Remove empty axis\n",
    "# axs.flat[7].set_axis_off()\n",
    "\n",
    "# fig.legend(loc=\"upper right\", bbox_to_anchor=(1.0, 0.0), title=None)\n",
    "fig.legend(loc=\"outside lower right\", title=None)\n",
    "\n",
    "# Set common labels\n",
    "fig.text(0.0, 0.5, \"EWH (mm)\", ha=\"center\", va=\"center\", rotation=\"vertical\")\n",
    "\n",
    "fig.savefig(FIGURE_DIR / \"gmsl_tws_observed.pdf\", backend=\"pgf\")"
   ]
  },
  {
   "cell_type": "code",
   "execution_count": null,
   "metadata": {},
   "outputs": [],
   "source": [
    "fig, axs = plt.subplots(**subplot_kwargs)\n",
    "\n",
    "for i, ax, (name, tws_pred) in zip(range(nvars), axs.flat, tws_preds.items()):\n",
    "    labels = (\n",
    "        [\n",
    "            \"Sea level: Altimetry - Steric - Ice\",\n",
    "            \"TWSA of model\",\n",
    "        ]\n",
    "        if i == 0\n",
    "        else [\"_\"] * 3\n",
    "    )\n",
    "    # Plot altimetry\n",
    "    ax.plot(alt_tws, label=labels[0], color=colors[8], zorder=2)\n",
    "    ax.fill_between(\n",
    "        alt_tws.index,\n",
    "        y1=ubound_alt_tws,\n",
    "        y2=lbound_alt_tws,\n",
    "        alpha=0.3,\n",
    "        facecolor=colors[8],\n",
    "        zorder=1,\n",
    "    )\n",
    "\n",
    "    # Plot reconstruction\n",
    "    ax.plot(tws_pred, label=labels[1], color=\"black\", zorder=3)\n",
    "    ax.set_title(vars_verbose[name])\n",
    "    ax.set_xlabel(None)\n",
    "    ax.set_ylabel(None)\n",
    "    ax.label_outer()\n",
    "    ax.set_xlim((1993, 2018))\n",
    "    ax.set_ylim((-40, 40))\n",
    "    ax.yaxis.grid(True)\n",
    "\n",
    "# Remove empty axis\n",
    "# axs.flat[7].set_axis_off()\n",
    "\n",
    "# fig.legend(loc=\"upper right\", bbox_to_anchor=(1.0, 0.0), title=None)\n",
    "fig.legend(loc=\"outside lower right\", title=None)\n",
    "\n",
    "# Set common labels\n",
    "fig.text(0.0, 0.5, \"EWH (mm)\", ha=\"center\", va=\"center\", rotation=\"vertical\")\n",
    "\n",
    "fig.savefig(FIGURE_DIR / \"gmsl_tws_altimetry.pdf\", backend=\"pgf\")"
   ]
  }
 ],
 "metadata": {
  "kernelspec": {
   "display_name": ".venv",
   "language": "python",
   "name": "python3"
  },
  "language_info": {
   "codemirror_mode": {
    "name": "ipython",
    "version": 3
   },
   "file_extension": ".py",
   "mimetype": "text/x-python",
   "name": "python",
   "nbconvert_exporter": "python",
   "pygments_lexer": "ipython3",
   "version": "3.11.9"
  }
 },
 "nbformat": 4,
 "nbformat_minor": 2
}
