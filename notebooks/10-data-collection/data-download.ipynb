{
 "cells": [
  {
   "cell_type": "markdown",
   "metadata": {},
   "source": [
    "# Dataset Downloads\n",
    "\n",
    "This notebooks handles the download of all datasets used in this study.\n"
   ]
  },
  {
   "cell_type": "code",
   "execution_count": null,
   "metadata": {},
   "outputs": [],
   "source": [
    "import zipfile\n",
    "\n",
    "import cdsapi\n",
    "import pandas as pd\n",
    "import xarray as xr\n",
    "from tqdm.std import tqdm\n",
    "\n",
    "from deeprec.utils import ROOT_DIR, download_file, download_zip\n",
    "\n",
    "# Set download path\n",
    "DL_PATH = ROOT_DIR / \"data/raw\"\n",
    "DL_PATH.mkdir(parents=True, exist_ok=True)\n",
    "print(f\"Download path: {DL_PATH}\")"
   ]
  },
  {
   "cell_type": "markdown",
   "metadata": {},
   "source": [
    "## Mascons"
   ]
  },
  {
   "cell_type": "markdown",
   "metadata": {},
   "source": [
    "### JPL Mascons\n",
    "\n",
    "Global surface mass changes (land + ocean) updated monthly, and is provided on 0.5-degree global grids ([Dataset description](https://grace.jpl.nasa.gov/data/get-data/jpl_global_mascons/))."
   ]
  },
  {
   "cell_type": "code",
   "execution_count": 6,
   "metadata": {},
   "outputs": [],
   "source": [
    "start_date = \"2002-04-04\"\n",
    "end_date = \"2024-12-31\"\n",
    "\n",
    "dataset = \"TELLUS_GRAC-GRFO_MASCON_CRI_GRID_RL06.3_V4\"\n",
    "outdir = DL_PATH / \"targets/jpl-mascons\""
   ]
  },
  {
   "cell_type": "code",
   "execution_count": 3,
   "metadata": {},
   "outputs": [],
   "source": [
    "def to_podaac_datetime(date: str) -> str:\n",
    "    return pd.to_datetime(date).strftime(\"%Y-%m-%dT%H:%M:%SZ\")"
   ]
  },
  {
   "cell_type": "code",
   "execution_count": null,
   "metadata": {
    "vscode": {
     "languageId": "powershell"
    }
   },
   "outputs": [],
   "source": [
    "!(podaac-data-downloader -c { dataset } -d { outdir } -sd { to_podaac_datetime(start_date) } -ed { to_podaac_datetime(end_date) } -e \".nc\")"
   ]
  },
  {
   "cell_type": "markdown",
   "metadata": {},
   "source": [
    "### CSR Mascons\n",
    "\n",
    "[Website](https://www2.csr.utexas.edu/grace/RL06_mascons.html)"
   ]
  },
  {
   "cell_type": "code",
   "execution_count": null,
   "metadata": {},
   "outputs": [],
   "source": [
    "outdir = DL_PATH / \"targets/csr-mascons\"\n",
    "url = \"https://download.csr.utexas.edu/outgoing/grace/RL0603_mascons/CSR_GRACE_GRACE-FO_RL0603_Mascons_all-corrections.nc\"\n",
    "download_file(url, outdir)"
   ]
  },
  {
   "cell_type": "markdown",
   "metadata": {},
   "source": [
    "### GSFC Mascons\n",
    "\n",
    "[Website](https://earth.gsfc.nasa.gov/geo/data/grace-mascons)\n"
   ]
  },
  {
   "cell_type": "code",
   "execution_count": 4,
   "metadata": {},
   "outputs": [],
   "source": [
    "outdir = DL_PATH / \"targets/gsfc-mascons\"\n",
    "url = \"https://earth.gsfc.nasa.gov/sites/default/files/geo/gsfc.glb_.200204_202406_rl06v2.0_obp-ice6gd_halfdegree.nc\"\n",
    "download_file(url, outdir)"
   ]
  },
  {
   "cell_type": "markdown",
   "metadata": {},
   "source": [
    "## Hydrologic models\n",
    "\n",
    "### WaterGAP Global Hydrology Model (WGHM) 2.2e\n",
    "\n",
    "- [Dataset on the Goethe University Data Repository](https://gude.uni-frankfurt.de/entities/researchdata/c53bb505-a620-4860-b2a2-d5a6de74dbd9/details)\n",
    "- [Preprint of paper on WaterGAP 2.2e](https://doi.org/10.5194/gmd-2023-213)\n",
    "\n",
    "*Download links might change in the future, currently there is no public API available.*"
   ]
  },
  {
   "cell_type": "code",
   "execution_count": null,
   "metadata": {},
   "outputs": [],
   "source": [
    "outdir = DL_PATH / \"inputs/watergap22e\"\n",
    "urls = {\n",
    "    \"20crv-era5\": \"https://api.gude.uni-frankfurt.de/api/core/bitstreams/07183cd6-9d47-4cb2-bc60-00436b0ecd39/content\",\n",
    "    \"gswp3-era5\": \"https://api.gude.uni-frankfurt.de/api/core/bitstreams/879ce7c3-4d21-4ee1-a83c-e830b13b9d2e/content\",\n",
    "    \"20crv-w5e5\": \"https://api.gude.uni-frankfurt.de/api/core/bitstreams/2b22924a-0981-4f6c-886c-542d19db7783/content\",\n",
    "    \"gswp3-w5e5\": \"https://api.gude.uni-frankfurt.de/api/core/bitstreams/adee0d04-c414-420e-85ef-89d3e83e32e9/content\",\n",
    "}\n",
    "for name, url in (pbar := tqdm(urls.items())):\n",
    "    pbar.set_postfix_str(f\"Downloading watergap22e_{name}\")\n",
    "    download_file(url, outdir)"
   ]
  },
  {
   "cell_type": "markdown",
   "metadata": {},
   "source": [
    "## Weather and climate data"
   ]
  },
  {
   "cell_type": "markdown",
   "metadata": {},
   "source": [
    "### ERA5\n",
    "\n",
    "ERA5 data could be combined with the ISIMIP 20CRv3-ERA5 dataset to make up the missing years 2022 and 2023.\n",
    "\n",
    "- Temporal coverage: 1940 to present\n",
    "- Temporal frequency:\n",
    "  - hourly\n",
    "  - monthly averaged by hour of day (synoptic monthly means)\n",
    "  - monthly averaged\n",
    "- Spatial resolution:\n",
    "  - Reanalysis: 0.25° x 0.25° (atmosphere), 0.5° x 0.5° (ocean waves)\n",
    "  - Mean, spread and members: 0.5° x 0.5° (atmosphere), 1° x 1° (ocean waves)\n",
    "\n",
    "\n",
    "Useful links:\n",
    "- [CDS: ERA5 single levels monthly means](https://cds.climate.copernicus.eu/datasets/reanalysis-era5-single-levels-monthly-means)\n",
    "- [ERA5 data documentation](https://confluence.ecmwf.int/display/CKB/ERA5%3A+data+documentation)\n",
    "- [How to download ERA5](https://confluence.ecmwf.int/display/CKB/How+to+download+ERA5)"
   ]
  },
  {
   "cell_type": "code",
   "execution_count": null,
   "metadata": {},
   "outputs": [],
   "source": [
    "START_YEAR = 1940\n",
    "END_YEAR = 2023\n",
    "VARIABLES = [\n",
    "    \"total_precipitation\",\n",
    "    \"2m_temperature\",\n",
    "    \"2m_dewpoint_temperature\",\n",
    "    \"high_vegetation_cover\",\n",
    "    \"low_vegetation_cover\",\n",
    "    \"evaporation\",\n",
    "    \"potential_evaporation\",\n",
    "    \"runoff\",\n",
    "    \"snowfall\",\n",
    "    \"snowmelt\",\n",
    "    \"snow_depth\",\n",
    "    \"snow_evaporation\",\n",
    "    \"surface_pressure\",\n",
    "    \"leaf_area_index_high_vegetation\",\n",
    "    \"leaf_area_index_low_vegetation\",\n",
    "    \"sub_surface_runoff\",\n",
    "    \"surface_runoff\",\n",
    "    \"volumetric_soil_water_layer_1\",\n",
    "    \"volumetric_soil_water_layer_2\",\n",
    "    \"volumetric_soil_water_layer_3\",\n",
    "    \"volumetric_soil_water_layer_4\",\n",
    "]\n",
    "\n",
    "dataset_path = DL_PATH / \"inputs/era5-monthly\"\n",
    "dataset_path.mkdir(exist_ok=True)\n",
    "\n",
    "c = cdsapi.Client()\n",
    "dataset = \"reanalysis-era5-single-levels-monthly-means\"\n",
    "for variable in VARIABLES:\n",
    "    print(f\"{'=' * 40}\")\n",
    "    print(f\"Downloading `{variable}`...\")\n",
    "\n",
    "    request = {\n",
    "        \"product_type\": [\"monthly_averaged_reanalysis\"],\n",
    "        \"variable\": [variable],\n",
    "        \"year\": [f\"{year}\" for year in range(START_YEAR, END_YEAR + 1)],\n",
    "        \"month\": [f\"{month:02}\" for month in range(1, 12 + 1)],\n",
    "        \"time\": [\"00:00\"],\n",
    "        \"data_format\": \"netcdf\",\n",
    "        \"download_format\": \"unarchived\",\n",
    "    }\n",
    "    dataset_file = dataset_path / f\"era5-monthly_{variable}_{START_YEAR}-{END_YEAR}.nc\"\n",
    "    c.retrieve(dataset, request, dataset_file)\n",
    "\n",
    "print(\"Download completed.\")"
   ]
  },
  {
   "cell_type": "markdown",
   "metadata": {},
   "source": [
    "### NOAA Reconstructed Sea Surface Temperature\n",
    "\n",
    "Download the sea surface temperatures (SST) for calculating the Ocenanic Nino index (ONI). The ONI climate indices provided by [NOAA](https://psl.noaa.gov/data/climateindices/list/) only span to 1950.\n",
    "\n",
    "[Dataset description](https://psl.noaa.gov/data/gridded/data.noaa.ersst.v5.html)"
   ]
  },
  {
   "cell_type": "code",
   "execution_count": 2,
   "metadata": {},
   "outputs": [],
   "source": [
    "outdir = DL_PATH / \"inputs/noaa-ersst-v5\"\n",
    "url = \"https://downloads.psl.noaa.gov/Datasets/noaa.ersst.v5/sst.mnmean.nc\"\n",
    "download_file(url, outdir)"
   ]
  },
  {
   "cell_type": "markdown",
   "metadata": {},
   "source": [
    "### Glacier mass change\n",
    "\n",
    "[Dataset description](https://cds.climate.copernicus.eu/datasets/derived-gridded-glacier-mass-change)"
   ]
  },
  {
   "cell_type": "code",
   "execution_count": null,
   "metadata": {},
   "outputs": [],
   "source": [
    "START_YEAR = 1975\n",
    "END_YEAR = 2021\n",
    "\n",
    "dataset_path = DL_PATH / \"inputs/wgms-fog\"\n",
    "dataset_path.mkdir(exist_ok=True)\n",
    "dataset_file = dataset_path / \"wgms_fog_2023_09.zip\"\n",
    "\n",
    "c = cdsapi.Client()\n",
    "dataset = \"derived-gridded-glacier-mass-change\"\n",
    "request = {\n",
    "    \"variable\": \"glacier_mass_change\",\n",
    "    \"hydrological_year\": [\n",
    "        f\"{year}_{(year + 1) % 100:02}\" for year in range(START_YEAR, END_YEAR + 1)\n",
    "    ],\n",
    "    \"product_version\": \"wgms_fog_2023_09\",\n",
    "}\n",
    "c.retrieve(dataset, request, dataset_file)\n",
    "print(\"Download completed.\")"
   ]
  },
  {
   "cell_type": "code",
   "execution_count": null,
   "metadata": {},
   "outputs": [],
   "source": [
    "# Extract ZIP\n",
    "with zipfile.ZipFile(dataset_file) as zip_file:\n",
    "    zip_file.extractall(dataset_path)\n",
    "# Remove ZIP\n",
    "dataset_file.unlink()\n",
    "\n",
    "# Combine yearly files\n",
    "yearly_files = list(dataset_path.glob(\"*.nc4\"))\n",
    "with xr.open_mfdataset(yearly_files) as ds:\n",
    "    ds.to_netcdf(dataset_path / \"wgms-fog-2023-09_glacier-mass-change.nc\")\n",
    "# Remove yearly files\n",
    "for file in yearly_files:\n",
    "    file.unlink()"
   ]
  },
  {
   "cell_type": "markdown",
   "metadata": {},
   "source": [
    "## Human influences"
   ]
  },
  {
   "cell_type": "markdown",
   "metadata": {},
   "source": [
    "### ISIMIP Land Use\n",
    "\n",
    "[Data set description](https://www.isimip.org/gettingstarted/input-data-bias-adjustment/details/82/)"
   ]
  },
  {
   "cell_type": "code",
   "execution_count": null,
   "metadata": {},
   "outputs": [],
   "source": [
    "outdir = DL_PATH / \"inputs/landuse\"\n",
    "urls = {\n",
    "    \"5crops\": \"https://files.isimip.org/ISIMIP3a/InputData/socioeconomic/landuse/histsoc/landuse-5crops_histsoc_annual_1901_2021.nc\",\n",
    "    \"15crops\": \"https://files.isimip.org/ISIMIP3a/InputData/socioeconomic/landuse/histsoc/landuse-15crops_histsoc_annual_1901_2021.nc\",\n",
    "    \"pastures\": \"https://files.isimip.org/ISIMIP3a/InputData/socioeconomic/landuse/histsoc/landuse-pastures_histsoc_annual_1901_2021.nc\",\n",
    "    \"totals\": \"https://files.isimip.org/ISIMIP3a/InputData/socioeconomic/landuse/histsoc/landuse-totals_histsoc_annual_1901_2021.nc\",\n",
    "    \"urbanareas\": \"https://files.isimip.org/ISIMIP3a/InputData/socioeconomic/landuse/histsoc/landuse-urbanareas_histsoc_annual_1901_2021.nc\",\n",
    "}\n",
    "for name, url in (pbar := tqdm(urls.items(), desc=\"Downloading landuse\")):\n",
    "    pbar.set_postfix_str(name)\n",
    "    download_file(url, outdir)"
   ]
  },
  {
   "cell_type": "markdown",
   "metadata": {},
   "source": [
    "### ISIMIP Lake area fraction\n",
    "\n",
    "[Data set description](https://www.isimip.org/gettingstarted/input-data-bias-adjustment/details/132/)"
   ]
  },
  {
   "cell_type": "code",
   "execution_count": 3,
   "metadata": {},
   "outputs": [],
   "source": [
    "outdir = DL_PATH / \"inputs/pctlake\"\n",
    "url = \"https://files.isimip.org/ISIMIP3a/InputData/socioeconomic/lakes/histsoc/pctlake_histsoc_1901_2021.nc\"\n",
    "download_file(url, outdir)"
   ]
  },
  {
   "cell_type": "markdown",
   "metadata": {},
   "source": [
    "## Shapes"
   ]
  },
  {
   "cell_type": "markdown",
   "metadata": {},
   "source": [
    "### GRDC Major River Basins\n",
    "\n",
    "Major river basins by the Global Runoff Data Center. The basins incorporate HydroBASINS data and are named. They are available as Shapefile and geoJSON\n",
    "\n",
    "- [Description](https://www.bafg.de/GRDC/EN/02_srvcs/22_gslrs/221_MRB/riverbasins_node.html)\n",
    "- [Map and download](https://mrb.grdc.bafg.de/)"
   ]
  },
  {
   "cell_type": "code",
   "execution_count": null,
   "metadata": {},
   "outputs": [],
   "source": [
    "url = \"https://grdc.bafg.de/downloads/GRDC_Major_River_Basins_shp.zip\"\n",
    "path = DL_PATH / \"shapefiles/mrb\"\n",
    "\n",
    "download_zip(url, path)\n",
    "print(\"Download completed.\")"
   ]
  },
  {
   "cell_type": "markdown",
   "metadata": {},
   "source": [
    "### NaturalEarth 1:50 countries\n",
    "\n",
    "[Description](https://www.naturalearthdata.com/downloads/50m-cultural-vectors/50m-admin-0-countries-2/)"
   ]
  },
  {
   "cell_type": "code",
   "execution_count": null,
   "metadata": {},
   "outputs": [],
   "source": [
    "url = \"https://naturalearth.s3.amazonaws.com/5.0.1/50m_cultural/ne_50m_admin_0_countries.zip\"\n",
    "path = DL_PATH / \"shapefiles/naturalearth\"\n",
    "\n",
    "download_zip(url, path)\n",
    "print(\"Download completed.\")"
   ]
  },
  {
   "cell_type": "markdown",
   "metadata": {},
   "source": [
    "## Previous TWS reconstructions\n",
    "### Humphrey, 2019\n",
    "\n",
    "[Data on figshare](https://figshare.com/articles/dataset/GRACE-REC_A_reconstruction_of_climate-driven_water_storage_changes_over_the_last_century/7670849)"
   ]
  },
  {
   "cell_type": "code",
   "execution_count": null,
   "metadata": {},
   "outputs": [],
   "source": [
    "url = \"https://figshare.com/ndownloader/files/17990285\"\n",
    "path = DL_PATH / \"reconstructions/humphrey\"\n",
    "path.mkdir(parents=True, exist_ok=True)\n",
    "\n",
    "download_zip(url, path)\n",
    "print(\"Download completed.\")"
   ]
  },
  {
   "cell_type": "markdown",
   "metadata": {},
   "source": [
    "### Li, 2021\n",
    "\n",
    "[Download here on DRYAD](https://datadryad.org/stash/dataset/doi:10.5061/dryad.z612jm6bt)"
   ]
  },
  {
   "cell_type": "markdown",
   "metadata": {},
   "source": [
    "### Chandanpurkar, 2022\n",
    "\n",
    "[Data on zenodo](https://zenodo.org/records/6659543)"
   ]
  },
  {
   "cell_type": "code",
   "execution_count": null,
   "metadata": {},
   "outputs": [],
   "source": [
    "url = \"https://zenodo.org/records/6659543/files/tws_cseof_v1.nc\"\n",
    "path = DL_PATH / \"reconstructions/chandanpurkar\"\n",
    "\n",
    "download_file(url, path)\n",
    "print(\"Download completed.\")\n"
   ]
  },
  {
   "cell_type": "markdown",
   "metadata": {},
   "source": [
    "### Yin, 2023\n",
    "\n",
    "[Data on zenodo](https://zenodo.org/records/10040927)"
   ]
  },
  {
   "cell_type": "code",
   "execution_count": null,
   "metadata": {},
   "outputs": [],
   "source": [
    "path = DL_PATH / \"reconstructions/yin\"\n",
    "urls = [\n",
    "    \"https://zenodo.org/records/10040927/files/CSR-based%20GTWS-MLrec%20TWS.nc\",\n",
    "    \"https://zenodo.org/records/10040927/files/GSFC-based%20GTWS-MLrec%20TWS.nc\",\n",
    "    \"https://zenodo.org/records/10040927/files/JPL-based%20GTWS-MLrec%20TWS.nc\",\n",
    "]\n",
    "\n",
    "for url in tqdm(urls):\n",
    "    download_file(url, path)\n"
   ]
  },
  {
   "cell_type": "markdown",
   "metadata": {},
   "source": [
    "### Palazzoli, 2025\n",
    "\n",
    "[Data on zenodo](https://zenodo.org/records/10953658)"
   ]
  },
  {
   "cell_type": "code",
   "execution_count": null,
   "metadata": {},
   "outputs": [],
   "source": [
    "url = \"https://zenodo.org/records/10953658/files/GRAiCE_BiLSTM.nc\"\n",
    "path = DL_PATH / \"reconstructions/palazzoli\"\n",
    "\n",
    "download_file(url, path)\n",
    "print(\"Download completed.\")\n"
   ]
  },
  {
   "cell_type": "markdown",
   "metadata": {},
   "source": [
    "## Sea Level Rise Contributors\n",
    "\n",
    "Download global mean sea level (GMSL) time series and its contributors [Frederikse, 2020](https://doi.org/10.1038/s41586-020-2591-3).\n",
    "\n",
    "[Data on zenodo](https://zenodo.org/records/3862995)"
   ]
  },
  {
   "cell_type": "code",
   "execution_count": null,
   "metadata": {},
   "outputs": [],
   "source": [
    "url = \"https://zenodo.org/records/3862995/files/global_basin_timeseries.xlsx\"\n",
    "path = DL_PATH / \"inputs/sea-level/frederikse\"\n",
    "\n",
    "path.mkdir(parents=True, exist_ok=True)\n",
    "download_file(url, path)\n",
    "print(\"Download completed.\")\n"
   ]
  }
 ],
 "metadata": {
  "kernelspec": {
   "display_name": ".venv",
   "language": "python",
   "name": "python3"
  },
  "language_info": {
   "codemirror_mode": {
    "name": "ipython",
    "version": 3
   },
   "file_extension": ".py",
   "mimetype": "text/x-python",
   "name": "python",
   "nbconvert_exporter": "python",
   "pygments_lexer": "ipython3",
   "version": "3.12.8"
  }
 },
 "nbformat": 4,
 "nbformat_minor": 2
}
