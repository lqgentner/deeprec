{
 "cells": [
  {
   "cell_type": "markdown",
   "metadata": {},
   "source": [
    "# Metrics during GRACE era: Decomposition\n",
    "\n",
    "In this notebook, we decompose the GRACE-era predictions into linear trend and multiple seasonal components. The signal components of our reconstruction and GRACE, the target, are compared."
   ]
  },
  {
   "cell_type": "code",
   "execution_count": null,
   "metadata": {},
   "outputs": [],
   "source": [
    "from typing import Literal\n",
    "\n",
    "import cmcrameri.cm as cmc\n",
    "import matplotlib.pyplot as plt\n",
    "import numpy as np\n",
    "import pandas as pd\n",
    "import seaborn as sns\n",
    "import xarray as xr\n",
    "from dask.diagnostics import ProgressBar\n",
    "from matplotlib import ticker\n",
    "from matplotlib_inline.backend_inline import set_matplotlib_formats\n",
    "\n",
    "import deeprec  # noqa\n",
    "from deeprec import metrics\n",
    "from deeprec.regions import basins\n",
    "from deeprec.utils import ROOT_DIR, month_center_range\n",
    "\n",
    "# Register dask progress bar\n",
    "ProgressBar(minimum=5).register()"
   ]
  },
  {
   "cell_type": "code",
   "execution_count": null,
   "metadata": {},
   "outputs": [],
   "source": [
    "set_matplotlib_formats(\"retina\")\n",
    "plt.style.use(ROOT_DIR / \"config/style_paper.mplstyle\")\n",
    "FIGURE_DIR = ROOT_DIR / \"docs/figures/si\"\n"
   ]
  },
  {
   "cell_type": "markdown",
   "metadata": {},
   "source": [
    "Open model predictions:"
   ]
  },
  {
   "cell_type": "code",
   "execution_count": null,
   "metadata": {},
   "outputs": [],
   "source": [
    "# Load and combine our predictions\n",
    "pred_dir = ROOT_DIR / \"models/predictions/ensemble-mixed\"\n",
    "\n",
    "ours_list = []\n",
    "\n",
    "for inp_name in [\"era\", \"era-rdcd\", \"wghm-era\"]:\n",
    "    twsa_ours = xr.open_zarr(pred_dir / f\"ensemble-mixed_{inp_name}_best-mae.zarr\").twsa\n",
    "    ours_list.append(twsa_ours.rename(f\"twsa_ours_{inp_name}\"))\n",
    "ours = xr.merge(ours_list)\n"
   ]
  },
  {
   "cell_type": "code",
   "execution_count": null,
   "metadata": {},
   "outputs": [],
   "source": [
    "targets_store = ROOT_DIR / \"data/processed/targets.zarr\"\n",
    "inputs_store = ROOT_DIR / \"data/processed/inputs.zarr\"\n",
    "recs_store = ROOT_DIR / \"data/processed/reconstructions.zarr\"\n",
    "\n",
    "tgts = xr.open_zarr(targets_store)\n",
    "inps = xr.open_zarr(inputs_store)\n",
    "recs = xr.open_zarr(recs_store)"
   ]
  },
  {
   "cell_type": "code",
   "execution_count": null,
   "metadata": {},
   "outputs": [],
   "source": [
    "# Merge all data sets\n",
    "ds_all = xr.merge([tgts, inps, ours, recs])\n",
    "\n",
    "# Create and apply mask (land area and Greenland+Antarctica exclusion)\n",
    "mask = (tgts.land_mask_jpl * tgts.land_mask_gsfc * inps.grl_ata_mask).compute()\n",
    "ds_all = ds_all.where(mask == 1)\n",
    "\n",
    "# Substract the GRACE baseline\n",
    "baseline = slice(\"2004\", \"2009\")\n",
    "base_mean = ds_all.sel(time=baseline).mean(\"time\")\n",
    "ds_all = ds_all - base_mean\n"
   ]
  },
  {
   "cell_type": "markdown",
   "metadata": {},
   "source": [
    "Specify variables of interest and their descriptive names:"
   ]
  },
  {
   "cell_type": "code",
   "execution_count": null,
   "metadata": {},
   "outputs": [],
   "source": [
    "names_verbose = {\n",
    "    \"twsa_ours_era-rdcd\": \"DeepRec, 4×ERA5\",\n",
    "    \"twsa_ours_era\": \"DeepRec, 14×ERA5\",\n",
    "    \"twsa_ours_wghm-era\": \"DeepRec, WGHM+14×ERA5\",\n",
    "    \"twsa_gap\": \"WGHM\",\n",
    "    \"humphrey_gsfc_detrend\": \"Humphrey's GSFC Rec\",\n",
    "    \"li_csr_full\": \"Li's CSR Rec\",\n",
    "    \"yin_csr_full\": \"Yin's CSR Rec\",\n",
    "    \"palazzoli_jpl_full\": \"Palazzoli's JPL Rec\",\n",
    "    \"twsa_csr\": \"CSR (GRACE)\",\n",
    "}\n",
    "eval_names = list(names_verbose.keys())\n",
    "\n",
    "target_name = \"twsa_csr\"\n",
    "eval_names.remove(target_name)\n"
   ]
  },
  {
   "cell_type": "markdown",
   "metadata": {},
   "source": [
    "## Trends and amplitudes during GRACE era"
   ]
  },
  {
   "cell_type": "code",
   "execution_count": null,
   "metadata": {},
   "outputs": [],
   "source": [
    "ds_grid = ds_all[[target_name, *eval_names]]\n",
    "# Only evaluate GRACE time\n",
    "ds_grid = ds_grid.sel(time=slice(\"2002\", \"2023\")).compute()\n",
    "# Remove missing time steps - remove missing time steps in GRACE for all vars\n",
    "ds_grid = ds_grid.where(ds_grid.dr.time_notnull(), drop=True)\n",
    "print(len(ds_grid.time))\n",
    "# Calculate basin averages\n",
    "ds_basin: xr.Dataset = (\n",
    "    # Select variables and time frame of interest\n",
    "    ds_grid.chunk(time=10, lat=-1, lon=-1)\n",
    "    .dr.select_basins(top=72)\n",
    "    .dr.weight_lat()\n",
    "    .mean([\"lat\", \"lon\"])\n",
    "    .compute()\n",
    ")\n"
   ]
  },
  {
   "cell_type": "code",
   "execution_count": null,
   "metadata": {},
   "outputs": [],
   "source": [
    "times = ds_grid.get_index(\"time\")\n",
    "print(f\"Timespan: {times[0].date()} to {times[-1].date()}\")\n"
   ]
  },
  {
   "cell_type": "code",
   "execution_count": null,
   "metadata": {},
   "outputs": [],
   "source": [
    "# Convert to data arrays\n",
    "da_grid = ds_grid.to_dataarray(\"model\")\n",
    "da_basin = ds_basin.to_dataarray(\"model\")\n"
   ]
  },
  {
   "cell_type": "markdown",
   "metadata": {},
   "source": [
    "### Perform linear trend / multi-seasonal decomposition\n",
    "\n",
    "We use the following function to approximate the constant $a$, the linear trend $m$, and the annual and semiannual sinusoidal curves:\n",
    "\n",
    "$$\n",
    "y(t) = a + m \\, t + c \\, \\sin(2π  \\, t) + d \\, \\cos(2π \\, t) + e \\, \\sin(4π \\, t) + f \\cos(4π \\, t) + r\n",
    "$$"
   ]
  },
  {
   "cell_type": "code",
   "execution_count": null,
   "metadata": {},
   "outputs": [],
   "source": [
    "YEAR_NS = 365.25 * 24 * 60 * 60 * 1e9\n",
    "\n",
    "\n",
    "def decomp_func(\n",
    "    t: np.ndarray, a: float, b: float, c: float, d: float, e: float, f: float\n",
    ") -> np.ndarray:\n",
    "    # Convert t from nanosecons to years\n",
    "    t = t / YEAR_NS\n",
    "\n",
    "    linear = a + b * t\n",
    "    annual = c * np.sin(2 * np.pi * t) + d * np.cos(2 * np.pi * t)\n",
    "    semian = e * np.sin(4 * np.pi * t) + f * np.cos(4 * np.pi * t)\n",
    "\n",
    "    return linear + annual + semian\n"
   ]
  },
  {
   "cell_type": "code",
   "execution_count": null,
   "metadata": {},
   "outputs": [],
   "source": [
    "# Apply decomposition\n",
    "# Curvefit skips missing values per default\n",
    "fit = da_basin.curvefit(\"time\", decomp_func)\n"
   ]
  },
  {
   "cell_type": "markdown",
   "metadata": {},
   "source": [
    "Evaluate result:"
   ]
  },
  {
   "cell_type": "code",
   "execution_count": null,
   "metadata": {},
   "outputs": [],
   "source": [
    "# Only perform analysis on GRACE TWSA and Congo\n",
    "csr = tgts.twsa_csr\n",
    "twsa_congo_orig = (\n",
    "    csr.dr.select_basins(\"Congo\", return_region=False)\n",
    "    .dr.weight_lat()\n",
    "    .mean([\"lat\", \"lon\"])\n",
    ")\n",
    "\n",
    "# Obtain curvefit coefficients\n",
    "fit_coeff = twsa_congo_orig.curvefit(\"time\", decomp_func).curvefit_coefficients\n",
    "# Create time series without missing values\n",
    "time_csr = twsa_congo_orig.get_index(\"time\")\n",
    "time_full = month_center_range(time_csr[0], time_csr[-1])\n",
    "# # Convert time stamps to nanoseconds\n",
    "t = time_full.values.astype(float)\n",
    "twsa_congo_linrec = decomp_func(t, *fit_coeff.values)\n",
    "# # Create a data array from it\n",
    "twsa_congo_linrec = xr.DataArray(\n",
    "    twsa_congo_linrec, dims=[\"time\"], coords={\"time\": time_full}, name=\"twsa_csr_linrec\"\n",
    ")\n"
   ]
  },
  {
   "cell_type": "code",
   "execution_count": null,
   "metadata": {},
   "outputs": [],
   "source": [
    "fig, ax = plt.subplots(ncols=2, figsize=(6, 2.5), sharex=True, sharey=True)\n",
    "ax1, ax2 = ax\n",
    "ax1.plot(twsa_congo_orig.time, twsa_congo_orig)\n",
    "ax2.plot(twsa_congo_linrec.time, twsa_congo_linrec)\n",
    "ax1.set(ylim=(-100, 250), title=\"Original time series\", ylabel=\"TWS Anomaly (mm)\")\n",
    "ax2.set(title=\"Linear-sinusoidal fit\")\n",
    "ax1.yaxis.grid(True)\n",
    "ax2.yaxis.grid(True)\n"
   ]
  },
  {
   "cell_type": "markdown",
   "metadata": {},
   "source": [
    "### Calculate slope and amplitudes"
   ]
  },
  {
   "cell_type": "code",
   "execution_count": null,
   "metadata": {},
   "outputs": [],
   "source": [
    "# Linear trend: mm / yr\n",
    "da_lintrend = fit.curvefit_coefficients.sel(param=\"b\")\n",
    "\n",
    "da_lintrend.attrs = {\"long_name\": \"Trend\", \"unit\": \"mm / yr\"}\n"
   ]
  },
  {
   "cell_type": "markdown",
   "metadata": {},
   "source": [
    "Calculate annual amplitude:\n",
    "\n",
    "$$\n",
    "A = \\sqrt{c^2 + d^2}\n",
    "$$"
   ]
  },
  {
   "cell_type": "code",
   "execution_count": null,
   "metadata": {},
   "outputs": [],
   "source": [
    "c = fit.curvefit_coefficients.sel(param=\"c\")\n",
    "d = fit.curvefit_coefficients.sel(param=\"d\")\n",
    "e = fit.curvefit_coefficients.sel(param=\"e\")\n",
    "f = fit.curvefit_coefficients.sel(param=\"f\")\n",
    "\n",
    "da_amp_annual = np.sqrt(c**2 + d**2)\n",
    "da_amp_semian = np.sqrt(e**2 + f**2)\n",
    "\n",
    "da_amp_annual.attrs = {\"long_name\": \"Annual amplitude\", \"unit\": \"mm\"}\n",
    "da_amp_semian.attrs = {\"long_name\": \"Semiannual amplitude\", \"unit\": \"mm\"}\n"
   ]
  },
  {
   "cell_type": "markdown",
   "metadata": {},
   "source": [
    "### Scatter plots"
   ]
  },
  {
   "cell_type": "code",
   "execution_count": null,
   "metadata": {},
   "outputs": [],
   "source": [
    "# GeoDataFrame containing basin shapes and areas\n",
    "gdf_basin_shapes = basins(top=72)\n",
    "\n",
    "# Series of basin areas, for scatter plotting\n",
    "s_basin_areas = gdf_basin_shapes.rename(\n",
    "    columns={\"riverbasin\": \"region\", \"sum_sub_ar\": \"area\"}\n",
    ").set_index(\"region\")[\"area\"]\n",
    "\n",
    "# DataArray of basin areas, for weighting\n",
    "da_basin_areas = xr.DataArray.from_series(s_basin_areas)\n"
   ]
  },
  {
   "cell_type": "code",
   "execution_count": null,
   "metadata": {},
   "outputs": [],
   "source": [
    "# Place components in dictionaries for easier batch handling\n",
    "da_comps = {\n",
    "    \"lintrend\": da_lintrend,\n",
    "    \"amp_annual\": da_amp_annual,\n",
    "    \"amp_semian\": da_amp_semian,\n",
    "}\n",
    "df_comps = {}\n",
    "pcc_scores = {}\n",
    "\n",
    "for name, da in da_comps.items():\n",
    "    # Convert DataArrays to DataFrames for plotting with Seaborn\n",
    "    df = (\n",
    "        da.to_pandas()\n",
    "        .transpose()\n",
    "        .reset_index()\n",
    "        # Add basin size column (in Million km)\n",
    "        .merge(s_basin_areas / 1e6, on=\"region\")\n",
    "        # Create name and value columns of model twsas\n",
    "        .melt(\n",
    "            id_vars=[\"region\", target_name, \"area\"],\n",
    "            value_name=\"twsa_model\",\n",
    "            var_name=\"model\",\n",
    "        )\n",
    "        # Sort after area so large basins are printed lastly\n",
    "        .sort_values(\"area\")\n",
    "    )\n",
    "    df.model = pd.Categorical(df.model, categories=eval_names, ordered=True)\n",
    "    df_comps[name] = df\n",
    "\n",
    "    # Calculate PCC\n",
    "    pcc_scores[name] = metrics.pearson_r(\n",
    "        da.sel(model=target_name),\n",
    "        da.drop_sel(model=target_name),\n",
    "        weights=da_basin_areas,\n",
    "    )\n"
   ]
  },
  {
   "cell_type": "code",
   "execution_count": null,
   "metadata": {},
   "outputs": [],
   "source": [
    "print(f\"{da_lintrend.min() = :.2f}\")\n",
    "print(f\"{da_lintrend.max() = :.2f}\")\n",
    "\n",
    "print(f\"{da_amp_annual.min() = :.2f}\")\n",
    "print(f\"{da_amp_annual.max() = :.2f}\")\n",
    "\n",
    "print(f\"{da_amp_semian.min() = :.2f}\")\n",
    "print(f\"{da_amp_semian.max() = :.2f}\")\n"
   ]
  },
  {
   "cell_type": "code",
   "execution_count": null,
   "metadata": {},
   "outputs": [],
   "source": [
    "# Limits\n",
    "lims = {\n",
    "    \"lintrend\": (-30, 20),\n",
    "    \"amp_annual\": (0, 250),\n",
    "    \"amp_semian\": (0, 80),\n",
    "}\n",
    "# Major locators\n",
    "locs = {\n",
    "    \"lintrend\": ticker.MultipleLocator(10),\n",
    "    \"amp_annual\": ticker.MultipleLocator(50),\n",
    "    \"amp_semian\": ticker.MultipleLocator(20),\n",
    "}\n"
   ]
  },
  {
   "cell_type": "code",
   "execution_count": null,
   "metadata": {},
   "outputs": [],
   "source": [
    "# Units\n",
    "units = {\n",
    "    \"lintrend\": \"mm yr$^-1$\",\n",
    "    \"amp_annual\": \"mm\",\n",
    "    \"amp_semian\": \"mm\",\n",
    "}\n",
    "# Verbose names\n",
    "comp_names = {\n",
    "    \"lintrend\": \"Linear trend\",\n",
    "    \"amp_annual\": \"Annual amplitude\",\n",
    "    \"amp_semian\": \"Semiannual amplitude\",\n",
    "}\n"
   ]
  },
  {
   "cell_type": "markdown",
   "metadata": {},
   "source": [
    "Create function to automate scatterplotting:"
   ]
  },
  {
   "cell_type": "code",
   "execution_count": null,
   "metadata": {},
   "outputs": [],
   "source": [
    "def plot_scatter(\n",
    "    comp: Literal[\"lintrend\", \"amp_annual\", \"amp_semian\"],\n",
    ") -> plt.Figure:\n",
    "    # Unpack dicts\n",
    "    df_comp = df_comps[comp]\n",
    "    comp_verbose = comp_names[comp]\n",
    "    unit = units[comp]\n",
    "    lim = lims[comp]\n",
    "    loc = locs[comp]\n",
    "    pcc = pcc_scores[comp]\n",
    "\n",
    "    p = sns.relplot(\n",
    "        df_comp,\n",
    "        x=target_name,\n",
    "        y=\"twsa_model\",\n",
    "        col=\"model\",\n",
    "        size=\"area\",\n",
    "        col_wrap=2,\n",
    "        height=2,\n",
    "        aspect=1,\n",
    "    )\n",
    "\n",
    "    for ax, model in zip(p.axes.flat, df_comp.model.cat.categories):\n",
    "        # Add separator line\n",
    "        ax.plot(\n",
    "            lim,\n",
    "            lim,\n",
    "            color=\"gray\",\n",
    "            linestyle=\"dashed\",\n",
    "            linewidth=0.8,\n",
    "            zorder=0.0,\n",
    "        )\n",
    "\n",
    "        # Add score\n",
    "        ax.text(\n",
    "            1.0,\n",
    "            0.07,\n",
    "            f\"PCC = {pcc.sel(model=model):.2f}\",\n",
    "            ha=\"right\",\n",
    "            transform=ax.transAxes,\n",
    "        )\n",
    "\n",
    "        ax.set(\n",
    "            title=names_verbose[model],\n",
    "            xlim=lim,\n",
    "            ylim=lim,\n",
    "            xlabel=None,\n",
    "            ylabel=None,\n",
    "            aspect=\"equal\",\n",
    "        )\n",
    "        ax.xaxis.set_major_locator(loc)\n",
    "        ax.yaxis.set_major_locator(loc)\n",
    "        ax.xaxis.grid(True)\n",
    "        ax.yaxis.grid(True)\n",
    "\n",
    "    sns.move_legend(\n",
    "        p,\n",
    "        title=\"Area\\n\" + r\"($10^6$ km$^2$)\",\n",
    "        loc=\"center right\",\n",
    "        bbox_to_anchor=(1.05, 0.5),\n",
    "    )\n",
    "\n",
    "    # Set common labels\n",
    "    p.figure.text(0.5, 0.01, f\"{comp_verbose} GRACE ({unit})\", ha=\"center\")\n",
    "    p.figure.text(\n",
    "        0.05,\n",
    "        0.5,\n",
    "        f\"{comp_verbose} model ({unit})\",\n",
    "        va=\"center\",\n",
    "        rotation=\"vertical\",\n",
    "    )\n",
    "    return p.figure"
   ]
  },
  {
   "cell_type": "code",
   "execution_count": null,
   "metadata": {},
   "outputs": [],
   "source": [
    "fig = plot_scatter(\"lintrend\")\n",
    "fig.savefig(FIGURE_DIR / \"decomp_grace-era_trend_scatter.pdf\", backend=\"pgf\")\n"
   ]
  },
  {
   "cell_type": "code",
   "execution_count": null,
   "metadata": {},
   "outputs": [],
   "source": [
    "fig = plot_scatter(\"amp_annual\")\n",
    "fig.savefig(FIGURE_DIR / \"decomp_grace-era_amp-annual_scatter.pdf\", backend=\"pgf\")"
   ]
  },
  {
   "cell_type": "code",
   "execution_count": null,
   "metadata": {},
   "outputs": [],
   "source": [
    "fig = plot_scatter(\"amp_semian\")\n",
    "fig.savefig(FIGURE_DIR / \"decomp_grace-era_amp-semiannual_scatter.pdf\", backend=\"pgf\")\n"
   ]
  },
  {
   "cell_type": "markdown",
   "metadata": {},
   "source": [
    "### Deviations"
   ]
  },
  {
   "cell_type": "code",
   "execution_count": null,
   "metadata": {},
   "outputs": [],
   "source": [
    "plot_kwargs = dict(\n",
    "    col_wrap=2,\n",
    "    coastlines=True,\n",
    "    gridlines=True,\n",
    "    rasterized=True,\n",
    "    coastlines_kwargs=dict(rasterized=True, linewidth=0.5),\n",
    "    cbar_kwargs=dict(location=\"bottom\", aspect=50, shrink=0.8, pad=0.02),\n",
    "    figsize=(6, 8.25),\n",
    ")\n",
    "basinlines_kwargs = dict(\n",
    "    edgecolor=\"black\", linewidth=0.4, facecolor=\"None\", rasterized=True, zorder=3.0\n",
    ")\n",
    "title_kwargs = dict(fontsize=16, weight=\"bold\")\n"
   ]
  },
  {
   "cell_type": "code",
   "execution_count": null,
   "metadata": {},
   "outputs": [],
   "source": [
    "lintrend_diff = da_lintrend.sel(model=eval_names) - da_lintrend.sel(model=target_name)\n",
    "amp_annual_ratio = da_amp_annual.sel(model=eval_names) / da_amp_annual.sel(\n",
    "    model=target_name\n",
    ")\n",
    "amp_semian_ratio = da_amp_semian.sel(model=eval_names) / da_amp_semian.sel(\n",
    "    model=target_name\n",
    ")\n"
   ]
  },
  {
   "cell_type": "code",
   "execution_count": null,
   "metadata": {},
   "outputs": [],
   "source": [
    "print(f\"{lintrend_diff.max() = :.2f}\")\n",
    "print(f\"{lintrend_diff.min() = :.2f}\")\n"
   ]
  },
  {
   "cell_type": "code",
   "execution_count": null,
   "metadata": {},
   "outputs": [],
   "source": [
    "plot_kwargs[\"cbar_kwargs\"][\"label\"] = (\n",
    "    r\"Trend difference $m_\\text{Model} - m_\\text{GRACE}$ (mm yr$^{-1}$)\"\n",
    ")\n",
    "p = lintrend_diff.dr.projplot_basins(\n",
    "    da_grid.drop_sel(model=target_name),\n",
    "    col=\"model\",\n",
    "    cmap=cmc.vik,\n",
    "    vmax=4,\n",
    "    levels=9,\n",
    "    **plot_kwargs,\n",
    ")\n",
    "\n",
    "for ax, model in zip(p.axs.flat, lintrend_diff.model.values):\n",
    "    ax.set_title(names_verbose[model])\n",
    "    gdf_basin_shapes.dr.projplot(ax=ax, **basinlines_kwargs)\n",
    "\n",
    "p.fig.savefig(FIGURE_DIR / \"decomp_grace-era_trend_diff.pdf\", backend=\"pgf\")\n"
   ]
  },
  {
   "cell_type": "code",
   "execution_count": null,
   "metadata": {},
   "outputs": [],
   "source": [
    "print(f\"{amp_annual_ratio.max() = :.2f}\")\n",
    "print(f\"{amp_annual_ratio.min() = :.2f}\")\n"
   ]
  },
  {
   "cell_type": "code",
   "execution_count": null,
   "metadata": {},
   "outputs": [],
   "source": [
    "plot_kwargs[\"cbar_kwargs\"][\"label\"] = (\n",
    "    r\"Annual amplitude ratio $A_\\text{Model} / A_\\text{GRACE}$\"\n",
    ")\n",
    "levels = [0.5, 0.6, 0.7, 0.8, 0.9, 1.0, 1.1, 1.25, 1.5, 1.75, 2.0]\n",
    "\n",
    "plot_kwargs[\"cbar_kwargs\"][\"ticks\"] = levels\n",
    "\n",
    "p = amp_annual_ratio.dr.projplot_basins(\n",
    "    da_grid.drop_sel(model=target_name),\n",
    "    col=\"model\",\n",
    "    cmap=cmc.vik,\n",
    "    levels=levels,\n",
    "    **plot_kwargs,\n",
    ")\n",
    "\n",
    "for ax, model in zip(p.axs.flat, amp_annual_ratio.model.values):\n",
    "    ax.set_title(names_verbose[model])\n",
    "    gdf_basin_shapes.dr.projplot(ax=ax, **basinlines_kwargs)\n",
    "\n",
    "p.fig.savefig(FIGURE_DIR / \"decomp_grace-era_amp-annual_ratio.pdf\", backend=\"pgf\")\n"
   ]
  },
  {
   "cell_type": "code",
   "execution_count": null,
   "metadata": {},
   "outputs": [],
   "source": [
    "print(f\"{amp_semian_ratio.max() = :.2f}\")\n",
    "print(f\"{amp_semian_ratio.min() = :.2f}\")\n"
   ]
  },
  {
   "cell_type": "code",
   "execution_count": null,
   "metadata": {},
   "outputs": [],
   "source": [
    "plot_kwargs[\"cbar_kwargs\"][\"label\"] = (\n",
    "    r\"Semiannual amplitude ratio $A_\\text{Model} / A_\\text{GRACE}$\"\n",
    ")\n",
    "plot_kwargs[\"cbar_kwargs\"][\"ticks\"] = levels\n",
    "\n",
    "p = amp_semian_ratio.dr.projplot_basins(\n",
    "    da_grid.drop_sel(model=target_name),\n",
    "    col=\"model\",\n",
    "    cmap=cmc.vik,\n",
    "    levels=levels,\n",
    "    **plot_kwargs,\n",
    ")\n",
    "\n",
    "for ax, model in zip(p.axs.flat, amp_semian_ratio.model.values):\n",
    "    ax.set_title(names_verbose[model])\n",
    "    gdf_basin_shapes.dr.projplot(ax=ax, **basinlines_kwargs)\n",
    "\n",
    "p.fig.savefig(FIGURE_DIR / \"decomp_grace-era_amp-semiannual_ratio.pdf\", backend=\"pgf\")\n"
   ]
  }
 ],
 "metadata": {
  "kernelspec": {
   "display_name": ".venv",
   "language": "python",
   "name": "python3"
  },
  "language_info": {
   "codemirror_mode": {
    "name": "ipython",
    "version": 3
   },
   "file_extension": ".py",
   "mimetype": "text/x-python",
   "name": "python",
   "nbconvert_exporter": "python",
   "pygments_lexer": "ipython3",
   "version": "3.13.2"
  }
 },
 "nbformat": 4,
 "nbformat_minor": 2
}
