{
 "cells": [
  {
   "cell_type": "markdown",
   "metadata": {},
   "source": [
    "# Comparison to the Water Budget\n",
    "We compare the changes of our reconstructed water storage anomalies to the water balance, derived from ERA5."
   ]
  },
  {
   "cell_type": "code",
   "execution_count": null,
   "metadata": {},
   "outputs": [],
   "source": [
    "import matplotlib.pyplot as plt\n",
    "import numpy as np\n",
    "import cmcrameri.cm as cmc\n",
    "import xarray as xr\n",
    "from dask.diagnostics import ProgressBar\n",
    "from matplotlib_inline.backend_inline import set_matplotlib_formats\n",
    "\n",
    "import deeprec  # noqa\n",
    "from deeprec import metrics\n",
    "from deeprec.regions import basins\n",
    "from deeprec.utils import ROOT_DIR\n",
    "\n",
    "# Register dask progress bar\n",
    "ProgressBar(minimum=5).register()"
   ]
  },
  {
   "cell_type": "code",
   "execution_count": null,
   "metadata": {},
   "outputs": [],
   "source": [
    "set_matplotlib_formats(\"retina\")\n",
    "plt.style.use(ROOT_DIR / \"config/style_paper.mplstyle\")\n",
    "FIGURE_DIR = ROOT_DIR / \"docs/figures/si\""
   ]
  },
  {
   "cell_type": "markdown",
   "metadata": {},
   "source": [
    "## Data Loading\n",
    "\n",
    "For preprocessing, see the corresponding notebook in `11-data-processing/water-budget-processing.ipynb`."
   ]
  },
  {
   "cell_type": "code",
   "execution_count": null,
   "metadata": {},
   "outputs": [],
   "source": [
    "twsc_path = ROOT_DIR / \"data/evaluations/twsc_basin-scale.zarr\"\n",
    "ds_twsc = xr.open_zarr(twsc_path)"
   ]
  },
  {
   "cell_type": "markdown",
   "metadata": {},
   "source": [
    "## Analysis\n",
    "\n",
    "Define evaluation models and water balance target:"
   ]
  },
  {
   "cell_type": "code",
   "execution_count": null,
   "metadata": {},
   "outputs": [],
   "source": [
    "vars_verbose = {\n",
    "    \"ours_era-rdcd\": \"DeepRec, 4×ERA5\",\n",
    "    \"ours_era\": \"DeepRec, 14×ERA5\",\n",
    "    \"ours_wghm-era\": \"DeepRec, WGHM+14×ERA5\",\n",
    "    \"gap\": \"WGHM\",\n",
    "    \"humphrey_gsfc_detrend\": \"Humphrey's GSFC Rec\",\n",
    "    \"li_csr_full\": \"Li's CSR Rec\",\n",
    "    \"yin_csr_full\": \"Yin's CSR Rec\",\n",
    "    \"palazzoli_jpl_full\": \"Palazzoli's JPL Rec\",\n",
    "    \"csr\": \"CSR (GRACE)\",\n",
    "}\n",
    "eval_names = vars_verbose.keys()"
   ]
  },
  {
   "cell_type": "code",
   "execution_count": null,
   "metadata": {},
   "outputs": [],
   "source": [
    "bdgt_name = \"era5_smooth\"\n",
    "grace_name = \"csr\""
   ]
  },
  {
   "cell_type": "markdown",
   "metadata": {},
   "source": [
    "Split into pre-GRACE and post-GRACE periods:"
   ]
  },
  {
   "cell_type": "code",
   "execution_count": null,
   "metadata": {},
   "outputs": [],
   "source": [
    "ds_twsc = ds_twsc[[*eval_names, bdgt_name]]\n",
    "\n",
    "ds_twsc_pre = ds_twsc.drop_vars(grace_name).sel(time=slice(None, \"2001\"))\n",
    "ds_twsc_post = ds_twsc_post = ds_twsc.sel(time=slice(\"2002\", None))\n",
    "# Drop time stamps which are not available for at least one variable\n",
    "ds_twsc_pre = ds_twsc_pre.where(\n",
    "    ds_twsc_pre.dr.time_notnull(\"region\"), drop=True\n",
    ").compute()\n",
    "ds_twsc_post = ds_twsc_post.where(\n",
    "    ds_twsc_post.dr.time_notnull(\"region\"), drop=True\n",
    ").compute()"
   ]
  },
  {
   "cell_type": "code",
   "execution_count": null,
   "metadata": {},
   "outputs": [],
   "source": [
    "times_pre = ds_twsc_pre.get_index(\"time\")\n",
    "print(f\"Timespan pre-GRACE: {times_pre[0].date()} to {times_pre[-1].date()}\")\n",
    "\n",
    "times_post = ds_twsc_post.get_index(\"time\")\n",
    "print(f\"Timespan post-GRACE: {times_post[0].date()} to {times_post[-1].date()}\")\n"
   ]
  },
  {
   "cell_type": "markdown",
   "metadata": {},
   "source": [
    "### NSE"
   ]
  },
  {
   "cell_type": "code",
   "execution_count": null,
   "metadata": {},
   "outputs": [],
   "source": [
    "# Pre-GRACE NSE\n",
    "da_pre_nse = metrics.nse(\n",
    "    ds_twsc_pre[bdgt_name],\n",
    "    ds_twsc_pre.drop_vars(bdgt_name),\n",
    "    dim=\"time\",\n",
    ").to_dataarray(\"model\")\n",
    "# Post-GRACE NSE\n",
    "da_post_nse = metrics.nse(\n",
    "    ds_twsc_post[bdgt_name],\n",
    "    ds_twsc_post.drop_vars(bdgt_name),\n",
    "    dim=\"time\",\n",
    ").to_dataarray(\"model\")"
   ]
  },
  {
   "cell_type": "markdown",
   "metadata": {},
   "source": [
    "### Map plots"
   ]
  },
  {
   "cell_type": "code",
   "execution_count": null,
   "metadata": {},
   "outputs": [],
   "source": [
    "plot_kwargs = dict(\n",
    "    col_wrap=2,\n",
    "    coastlines=True,\n",
    "    gridlines=True,\n",
    "    cmap=cmc.bam,\n",
    "    vmin=-1,\n",
    "    vmax=1,\n",
    "    cbar_kwargs=dict(location=\"bottom\", aspect=50, shrink=0.8, pad=0.03, label=\"NSE\"),\n",
    "    rasterized=True,\n",
    "    coastlines_kwargs=dict(rasterized=True, linewidth=0.5),\n",
    ")\n",
    "basinlines_kwargs = dict(\n",
    "    edgecolor=\"black\", linewidth=0.4, facecolor=\"None\", rasterized=True, zorder=3.0\n",
    ")\n",
    "title_kwargs = dict(fontsize=16, weight=\"bold\")"
   ]
  },
  {
   "cell_type": "code",
   "execution_count": null,
   "metadata": {},
   "outputs": [],
   "source": [
    "# Create a dummy array with the dimensions (model x lat x lon)\n",
    "STEP_DEG = 0.5\n",
    "lats = np.arange(-89.75, 89.75 + STEP_DEG, STEP_DEG)\n",
    "lons = np.arange(-179.75, 179.75 + STEP_DEG, STEP_DEG)\n",
    "models = list(eval_names)\n",
    "\n",
    "ones = np.ones([len(models), len(lats), len(lons)])\n",
    "\n",
    "da_dummy_post = xr.DataArray(ones, coords={\"model\": models, \"lat\": lats, \"lon\": lons})\n",
    "da_dummy_pre = da_dummy_post.drop_sel(model=grace_name)\n"
   ]
  },
  {
   "cell_type": "code",
   "execution_count": null,
   "metadata": {},
   "outputs": [],
   "source": [
    "p = da_post_nse.dr.projplot_basins(\n",
    "    spatial_obj=da_dummy_post, col=\"model\", figsize=(6, 10.25), **plot_kwargs\n",
    ")\n",
    "\n",
    "basin_shapes = basins(top=72)\n",
    "for ax, model in zip(p.axs.flat, da_post_nse.model.values):\n",
    "    basin_shapes.dr.projplot(ax=ax, **basinlines_kwargs)\n",
    "    ax.set(title=vars_verbose[model])\n",
    "\n",
    "p.fig.savefig(\n",
    "    FIGURE_DIR / f\"waterbudget_{times_post[0].year}-{times_post[-1].year}_nse.pdf\",\n",
    "    backend=\"pgf\",\n",
    ")"
   ]
  },
  {
   "cell_type": "code",
   "execution_count": null,
   "metadata": {},
   "outputs": [],
   "source": [
    "p = da_pre_nse.dr.projplot_basins(\n",
    "    spatial_obj=da_dummy_pre, col=\"model\", figsize=(6, 8.25), **plot_kwargs\n",
    ")\n",
    "\n",
    "basin_shapes = basins(top=72)\n",
    "for ax, model in zip(p.axs.flat, da_pre_nse.model.values):\n",
    "    basin_shapes.dr.projplot(ax=ax, **basinlines_kwargs)\n",
    "    ax.set(title=vars_verbose[model])\n",
    "\n",
    "p.fig.savefig(\n",
    "    FIGURE_DIR / f\"waterbudget_{times_pre[0].year}-{times_pre[-1].year}_nse.pdf\",\n",
    "    backend=\"pgf\",\n",
    ")"
   ]
  }
 ],
 "metadata": {
  "kernelspec": {
   "display_name": ".venv",
   "language": "python",
   "name": "python3"
  },
  "language_info": {
   "codemirror_mode": {
    "name": "ipython",
    "version": 3
   },
   "file_extension": ".py",
   "mimetype": "text/x-python",
   "name": "python",
   "nbconvert_exporter": "python",
   "pygments_lexer": "ipython3",
   "version": "3.13.2"
  }
 },
 "nbformat": 4,
 "nbformat_minor": 2
}
