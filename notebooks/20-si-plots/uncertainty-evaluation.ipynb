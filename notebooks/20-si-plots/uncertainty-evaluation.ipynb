{
 "cells": [
  {
   "cell_type": "markdown",
   "metadata": {},
   "source": [
    "# Uncertainty evaluation\n",
    "We analyze the models' predictive uncertainty."
   ]
  },
  {
   "cell_type": "code",
   "execution_count": null,
   "metadata": {},
   "outputs": [],
   "source": [
    "import cmcrameri.cm as cmc\n",
    "import matplotlib.pyplot as plt\n",
    "import pandas as pd\n",
    "import xarray as xr\n",
    "from dask.diagnostics import ProgressBar\n",
    "from matplotlib_inline.backend_inline import set_matplotlib_formats\n",
    "\n",
    "import deeprec  # noqa\n",
    "from deeprec.utils import ROOT_DIR"
   ]
  },
  {
   "cell_type": "code",
   "execution_count": null,
   "metadata": {},
   "outputs": [],
   "source": [
    "set_matplotlib_formats(\"retina\")\n",
    "plt.style.use(ROOT_DIR / \"config/style_paper.mplstyle\")\n",
    "FIGURE_DIR = ROOT_DIR / \"docs/figures/si\"\n",
    "\n",
    "# Register dask progress bar\n",
    "ProgressBar(minimum=5).register()"
   ]
  },
  {
   "cell_type": "code",
   "execution_count": null,
   "metadata": {},
   "outputs": [],
   "source": [
    "model_names = {\n",
    "    \"era-rdcd\": \"DeepRec, 4×ERA5\",\n",
    "    \"era\": \"DeepRec, 14×ERA5\",\n",
    "    \"wghm-era\": \"DeepRec, WGHM+14×ERA5\",\n",
    "}\n"
   ]
  },
  {
   "cell_type": "code",
   "execution_count": null,
   "metadata": {},
   "outputs": [],
   "source": [
    "# Load and combine our predictions\n",
    "pred_dir = ROOT_DIR / \"models/predictions/ensemble-mixed\"\n",
    "\n",
    "pred_list = []\n",
    "sigma_tot_list = []\n",
    "sigma_ale_list = []\n",
    "sigma_epi_list = []\n",
    "\n",
    "for name, verb_name in model_names.items():\n",
    "    ds = xr.open_zarr(pred_dir / f\"ensemble-mixed_{name}_best-mae.zarr\")\n",
    "    pred_list.append(ds.twsa.rename(verb_name))\n",
    "    sigma_tot_list.append(ds.sigma.rename(verb_name))\n",
    "    sigma_ale_list.append(ds.sigma_ale.rename(verb_name))\n",
    "    sigma_epi_list.append(ds.sigma_epi.rename(verb_name))\n",
    "\n",
    "da_preds = xr.merge(pred_list).to_dataarray(\"model\")\n",
    "da_sigma_tot = xr.merge(sigma_tot_list).to_dataarray(\"model\")\n",
    "da_sigma_ale = xr.merge(sigma_ale_list).to_dataarray(\"model\")\n",
    "da_sigma_epi = xr.merge(sigma_epi_list).to_dataarray(\"model\")\n",
    "\n",
    "# Dims: (uncertainty, input, time, lat, lon)\n",
    "da_sigma = xr.concat(\n",
    "    [da_sigma_tot, da_sigma_ale, da_sigma_epi],\n",
    "    pd.Index([\"Total\", \"Aleatoric\", \"Epistemic\"], name=\"component\"),\n",
    ")\n",
    "da_sigma\n"
   ]
  },
  {
   "cell_type": "markdown",
   "metadata": {},
   "source": [
    "## Mean over time"
   ]
  },
  {
   "cell_type": "code",
   "execution_count": null,
   "metadata": {},
   "outputs": [],
   "source": [
    "# Drop time steps where one model is not available (WGHM-model ends in 2022)\n",
    "da_isna = da_sigma.isnull().all(dim=[\"lat\", \"lon\"]).any(dim=\"model\").compute()\n",
    "da_sigma_notna = da_sigma.where(~da_isna, drop=True)\n",
    "\n",
    "times = da_sigma_notna.get_index(\"time\")\n",
    "print(f\"Period: {times[0]} to {times[-1]}\")\n"
   ]
  },
  {
   "cell_type": "code",
   "execution_count": null,
   "metadata": {},
   "outputs": [],
   "source": [
    "da_sigma_timemean = da_sigma_notna.mean(\"time\")\n"
   ]
  },
  {
   "cell_type": "code",
   "execution_count": null,
   "metadata": {},
   "outputs": [],
   "source": [
    "plot_kwargs = dict(\n",
    "    coastlines=True,\n",
    "    gridlines=True,\n",
    "    rasterized=True,\n",
    "    coastlines_kwargs=dict(rasterized=True, linewidth=0.5),\n",
    "    cbar_kwargs=dict(location=\"bottom\", aspect=50, shrink=0.8, pad=0.06),\n",
    ")"
   ]
  },
  {
   "cell_type": "code",
   "execution_count": null,
   "metadata": {},
   "outputs": [],
   "source": [
    "plot_kwargs[\"cbar_kwargs\"][\"label\"] = \"Uncertainty (mm)\"\n",
    "\n",
    "p = da_sigma_timemean.dr.projplot(\n",
    "    col=\"model\",\n",
    "    row=\"component\",\n",
    "    vmin=0,\n",
    "    vmax=120,\n",
    "    cmap=cmc.lapaz_r,\n",
    "    figsize=(7.2, 5),\n",
    "    **plot_kwargs,\n",
    ")\n",
    "p.set_titles(\"{value}\")\n",
    "\n",
    "p.fig.savefig(FIGURE_DIR / \"uncertainty_timeavg.pdf\", backend=\"pgf\")"
   ]
  },
  {
   "cell_type": "markdown",
   "metadata": {},
   "source": [
    "## Aleatoric/Epistemic Ratio"
   ]
  },
  {
   "cell_type": "markdown",
   "metadata": {},
   "source": [
    "Uncertainty ratio:\n",
    "\n",
    "$$ \\frac{\\sigma^2_\\text{ale}}{\\sigma^2_\\text{epi}} $$"
   ]
  },
  {
   "cell_type": "code",
   "execution_count": null,
   "metadata": {},
   "outputs": [],
   "source": [
    "da_vari = da_sigma_notna**2\n",
    "vari_ratio = da_vari.sel(component=\"Aleatoric\") / da_vari.sel(component=\"Epistemic\")"
   ]
  },
  {
   "cell_type": "code",
   "execution_count": null,
   "metadata": {},
   "outputs": [],
   "source": [
    "plot_kwargs[\"cbar_kwargs\"][\"label\"] = (\n",
    "    \"Uncertainty Ratio $ \\sigma^2_{ale} / \\sigma^2_{epi}$\"\n",
    ")\n",
    "\n",
    "p = vari_ratio.mean(\"time\").dr.projplot(\n",
    "    col=\"model\", vmin=0, vmax=30, figsize=(7.2, 2.1), cmap=cmc.hawaii_r, **plot_kwargs\n",
    ")\n",
    "p.set_titles(\"{value}\")\n",
    "\n",
    "p.fig.savefig(FIGURE_DIR / \"uncertainty_ratio.pdf\", backend=\"pgf\")\n"
   ]
  },
  {
   "cell_type": "markdown",
   "metadata": {},
   "source": [
    "## Time series"
   ]
  },
  {
   "cell_type": "code",
   "execution_count": null,
   "metadata": {},
   "outputs": [],
   "source": [
    "p = (\n",
    "    da_sigma.dr.weight_lat()\n",
    "    .mean([\"lat\", \"lon\"])\n",
    "    .plot(col=\"model\", row=\"component\", figsize=(7.2, 5.0))\n",
    ")\n",
    "for ax in p.axs.flat:\n",
    "    ax.set(ylim=(0, 60), xlabel=None)\n",
    "for ax in p.axs[:, 0]:\n",
    "    ax.set(ylabel=\"Uncertainty (mm)\")\n",
    "\n",
    "for i, ax in enumerate(p.axs.flat):\n",
    "    ax.yaxis.grid()\n",
    "    # Add training time\n",
    "    label = \"Training period\" if i == 0 else None\n",
    "    ax.axvspan(\n",
    "        pd.Timestamp(\"2002-03-01\"),\n",
    "        pd.Timestamp(\"2017-01-01\"),\n",
    "        facecolor=\"tab:gray\",\n",
    "        alpha=0.2,\n",
    "        label=label,\n",
    "    )\n",
    "    ax.axvspan(\n",
    "        pd.Timestamp(\"2018-11-01\"),\n",
    "        pd.Timestamp(\"2021-12-01\"),\n",
    "        facecolor=\"tab:gray\",\n",
    "        alpha=0.2,\n",
    "    )\n",
    "    if i == 0:\n",
    "        ax.legend(loc=\"lower left\")\n",
    "\n",
    "    for label in ax.get_xticklabels():\n",
    "        label.set_rotation(45)\n",
    "        label.set_ha(\"right\")\n",
    "p.set_titles(template=\"{value}\")\n",
    "\n",
    "p.fig.savefig(FIGURE_DIR / \"uncertainty_globalavg.pdf\", backend=\"pgf\")"
   ]
  }
 ],
 "metadata": {
  "kernelspec": {
   "display_name": ".venv",
   "language": "python",
   "name": "python3"
  },
  "language_info": {
   "codemirror_mode": {
    "name": "ipython",
    "version": 3
   },
   "file_extension": ".py",
   "mimetype": "text/x-python",
   "name": "python",
   "nbconvert_exporter": "python",
   "pygments_lexer": "ipython3",
   "version": "3.13.2"
  }
 },
 "nbformat": 4,
 "nbformat_minor": 2
}
