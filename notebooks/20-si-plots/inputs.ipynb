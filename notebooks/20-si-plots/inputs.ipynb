{
 "cells": [
  {
   "cell_type": "code",
   "execution_count": null,
   "metadata": {},
   "outputs": [],
   "source": [
    "import matplotlib.pyplot as plt\n",
    "import numpy as np\n",
    "import matplotlib as mpl\n",
    "import xarray as xr\n",
    "from matplotlib_inline.backend_inline import set_matplotlib_formats\n",
    "\n",
    "import deeprec  # noqa\n",
    "from deeprec.utils import ROOT_DIR"
   ]
  },
  {
   "cell_type": "code",
   "execution_count": null,
   "metadata": {},
   "outputs": [],
   "source": [
    "set_matplotlib_formats(\"retina\")\n",
    "plt.style.use(ROOT_DIR / \"config/style_paper.mplstyle\")\n",
    "FIGURE_DIR = ROOT_DIR / \"docs/figures/si\""
   ]
  },
  {
   "cell_type": "code",
   "execution_count": null,
   "metadata": {},
   "outputs": [],
   "source": [
    "# Load inputs and targets\n",
    "inps = xr.open_zarr(ROOT_DIR / \"data/processed/inputs.zarr\")\n",
    "tgts = xr.open_zarr(ROOT_DIR / \"data/processed/targets.zarr\")\n",
    "\n",
    "# Merge inputs and targets\n",
    "ds_all = xr.merge([inps, tgts])"
   ]
  },
  {
   "cell_type": "markdown",
   "metadata": {},
   "source": [
    "## Input patches"
   ]
  },
  {
   "cell_type": "code",
   "execution_count": null,
   "metadata": {},
   "outputs": [],
   "source": [
    "inputs_verbose = {\n",
    "    \"cell_area\": \"Grid cell area\",\n",
    "    \"nvec_x\": \"n-vector, X\",\n",
    "    \"nvec_y\": \"n-vector, Y\",\n",
    "    \"nvec_z\": \"n-vector, Z\",\n",
    "    \"era5_tp\": \"Total precipitation\",\n",
    "    # \"era5_e\": \"Evaporation\",\n",
    "    # \"era5_pev\": \"Potential evap.\",\n",
    "    \"era5_sp\": \"Surface pressure\",\n",
    "    # \"era5_sro\": \"Surface runoff\",\n",
    "    # \"era5_ssro\": \"Sub-surface runoff\",\n",
    "    \"era5_t2m\": \"Temperature 2m\",\n",
    "    # \"era5_d2m\": \"Dewpoint temp 2m\",\n",
    "    # \"era5_lai_hv\": \"LAI, high\",\n",
    "    # \"era5_lai_lv\": \"LAI, low\",\n",
    "    # \"era5_cvh\": \"High veg cover\",\n",
    "    # \"era5_cvl\": \"Low veg cover\",\n",
    "    \"era5_sd\": \"Snow depth\",\n",
    "    # \"era5_swvl1\": \"Soil water, lyr 1\",\n",
    "    # \"era5_swvl2\": \"Soil water, lyr 2\",\n",
    "    # \"era5_swvl3\": \"Soil water, lyr 3\",\n",
    "    # \"era5_swvl4\": \"Soil water, lyr 4\",\n",
    "    \"cropland_rainfed\": \"Cropland, rainfed\",\n",
    "    \"cropland_irrigated\": \"Cropland, irrigated\",\n",
    "    \"pastures\": \"Pastures\",\n",
    "    \"urbanareas\": \"Urban areas\",\n",
    "    \"lakes\": \"Lake area\",\n",
    "    # \"twsa_gap\": \"WaterGAP TWSA\",\n",
    "    # \"year_cos\": \"Annual, cosine\",\n",
    "    # \"year_sin\": \"Annual, sine\",\n",
    "    # \"year2_cos\": \"Semi-annual, cosine\",\n",
    "    # \"year2_sin\": \"Semi-annual, sine\",\n",
    "    # \"oni\": \"Oceanic Niño Index (ONI)\",\n",
    "    \"twsa_csr\": \"CSR Mascon (Target)\",\n",
    "}\n",
    "print(f\"{len(inputs_verbose) = }\")\n"
   ]
  },
  {
   "cell_type": "code",
   "execution_count": null,
   "metadata": {},
   "outputs": [],
   "source": [
    "# Amazon\n",
    "# LAT_CENTER = -2.25\n",
    "# LON_CENTER = -55.25\n",
    "# Canada\n",
    "LAT_CENTER = 42.25\n",
    "LON_CENTER = -118.25\n",
    "# Half patch extension in degrees\n",
    "PATCH_EXT = 8.5\n",
    "# PATCH_EXT = 10\n",
    "lat_slice = slice(LAT_CENTER + PATCH_EXT, LAT_CENTER - PATCH_EXT)\n",
    "lon_slice = slice(LON_CENTER - PATCH_EXT, LON_CENTER + PATCH_EXT)\n",
    "inputs = (\n",
    "    ds_all[inputs_verbose.keys()]\n",
    "    .sel(time=\"2020-06-01\", lat=lat_slice, lon=lon_slice)\n",
    "    .to_dataarray(\"feature\")\n",
    ")"
   ]
  },
  {
   "cell_type": "code",
   "execution_count": null,
   "metadata": {},
   "outputs": [],
   "source": [
    "ncols = 4\n",
    "features = len(inputs_verbose)\n",
    "nrows = int(np.ceil(features / ncols))\n"
   ]
  },
  {
   "cell_type": "code",
   "execution_count": null,
   "metadata": {},
   "outputs": [],
   "source": [
    "formatter = mpl.ticker.ScalarFormatter()\n",
    "formatter.set_scientific(True)\n",
    "cbar_kwargs = dict(\n",
    "    location=\"right\",\n",
    "    aspect=10,\n",
    "    shrink=0.8,\n",
    "    format=formatter,\n",
    ")\n",
    "locator = mpl.ticker.MultipleLocator(10)\n"
   ]
  },
  {
   "cell_type": "code",
   "execution_count": null,
   "metadata": {},
   "outputs": [],
   "source": [
    "fig, axs = plt.subplots(\n",
    "    ncols=ncols,\n",
    "    nrows=nrows,\n",
    "    # figsize=(5, 7),\n",
    "    figsize=(5, 5),\n",
    ")\n",
    "\n",
    "for ax in axs.flat:\n",
    "    ax.set_axis_off()\n",
    "\n",
    "for i, (ax, feat) in enumerate(zip(axs.flat, inputs.feature.values)):\n",
    "    if feat == \"twsa_gap\":\n",
    "        vmin = -400\n",
    "        vmax = 400\n",
    "    elif feat.startswith(\"era5_swvl\"):\n",
    "        vmin = 0.0\n",
    "        vmax = 0.5\n",
    "    elif feat == \"era5_pev\":\n",
    "        vmin = -0.006\n",
    "        vmax = 0.00\n",
    "    else:\n",
    "        vmin = None\n",
    "        vmax = None\n",
    "    # Evaporation are defined negatively - reverse colormap\n",
    "    cmap = \"viridis_r\" if feat == \"era5_e\" or feat == \"era5_pev\" else \"viridis\"\n",
    "\n",
    "    ax.set_axis_on()\n",
    "    data = inputs.sel(feature=feat)\n",
    "    data.plot.pcolormesh(\n",
    "        ax=ax,\n",
    "        robust=True,\n",
    "        vmin=vmin,\n",
    "        vmax=vmax,\n",
    "        cmap=cmap,\n",
    "        add_colorbar=False,\n",
    "        rasterized=True,\n",
    "    )\n",
    "    ax.set(\n",
    "        title=inputs_verbose[feat],\n",
    "        aspect=\"equal\",\n",
    "        xlabel=None,\n",
    "        ylabel=None,\n",
    "    )\n",
    "\n",
    "    ax.yaxis.set_major_locator(locator)\n",
    "    ax.label_outer()\n",
    "\n",
    "# Set common labels\n",
    "fig.text(0.5, 0, \"Longitude (°E)\", ha=\"center\", va=\"top\")\n",
    "fig.text(0, 0.5, \"Latitude (°N)\", ha=\"right\", va=\"center\", rotation=\"vertical\")\n",
    "\n",
    "fig.savefig(FIGURE_DIR / \"input_patches.pdf\", backend=\"pgf\")"
   ]
  }
 ],
 "metadata": {
  "kernelspec": {
   "display_name": ".venv",
   "language": "python",
   "name": "python3"
  },
  "language_info": {
   "codemirror_mode": {
    "name": "ipython",
    "version": 3
   },
   "file_extension": ".py",
   "mimetype": "text/x-python",
   "name": "python",
   "nbconvert_exporter": "python",
   "pygments_lexer": "ipython3",
   "version": "3.13.2"
  }
 },
 "nbformat": 4,
 "nbformat_minor": 2
}
