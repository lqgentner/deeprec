{
 "cells": [
  {
   "cell_type": "markdown",
   "metadata": {},
   "source": [
    "# Basin Time Series\n",
    "\n",
    "Create time series plots of the biggest basins."
   ]
  },
  {
   "cell_type": "code",
   "execution_count": null,
   "metadata": {},
   "outputs": [],
   "source": [
    "import cartopy.crs as ccrs\n",
    "import matplotlib.patches as mpatches\n",
    "import matplotlib.pyplot as plt\n",
    "import pandas as pd\n",
    "import seaborn as sns\n",
    "import xarray as xr\n",
    "from dask.diagnostics import ProgressBar\n",
    "from matplotlib import patheffects\n",
    "from matplotlib_inline.backend_inline import set_matplotlib_formats\n",
    "\n",
    "import deeprec  # noqa\n",
    "from deeprec.regions import basins\n",
    "from deeprec.utils import ROOT_DIR"
   ]
  },
  {
   "cell_type": "code",
   "execution_count": null,
   "metadata": {},
   "outputs": [],
   "source": [
    "# Register dask progress bar\n",
    "ProgressBar(minimum=5).register()\n"
   ]
  },
  {
   "cell_type": "code",
   "execution_count": null,
   "metadata": {},
   "outputs": [],
   "source": [
    "set_matplotlib_formats(\"retina\")\n",
    "plt.style.use(ROOT_DIR / \"config/style_paper.mplstyle\")\n",
    "FIGURE_DIR = ROOT_DIR / \"docs/figures/si\"\n"
   ]
  },
  {
   "cell_type": "markdown",
   "metadata": {},
   "source": [
    "## Basins\n",
    "\n",
    "Plot the basins that are used for basin wise analysis ($\\geq 200000\\textrm{km}^2$)\n",
    "\n"
   ]
  },
  {
   "cell_type": "code",
   "execution_count": null,
   "metadata": {},
   "outputs": [],
   "source": [
    "THOLD = 2e5\n",
    "\n",
    "df_basins = basins()\n",
    "df_bsmall = df_basins.loc[df_basins.sum_sub_ar < THOLD]"
   ]
  },
  {
   "cell_type": "code",
   "execution_count": null,
   "metadata": {},
   "outputs": [],
   "source": [
    "# Basins to plot\n",
    "BASINS = [\"Amazon\", \"Congo\", \"Danube\", \"Ganges\", \"Mississippi\", \"Nile\"]"
   ]
  },
  {
   "cell_type": "code",
   "execution_count": null,
   "metadata": {},
   "outputs": [],
   "source": [
    "# Color arguments to pass to plot routine\n",
    "basin_kwargs = dict(\n",
    "    edgecolor=\"gray\", linewidth=0.4, rasterized=True, facecolor=\"lightblue\"\n",
    ")\n",
    "bsmall_kwargs = dict(\n",
    "    edgecolor=\"gray\", linewidth=0.4, rasterized=True, facecolor=\"lightcoral\"\n",
    ")\n",
    "fig, ax = plt.subplots(figsize=(5, 5), subplot_kw={\"projection\": ccrs.EqualEarth()})\n",
    "# Plot all basins\n",
    "df_basins.dr.projplot(**basin_kwargs, ax=ax)\n",
    "# Plot basins under size threshhold\n",
    "df_bsmall.dr.projplot(\n",
    "    coastlines=True,\n",
    "    coastlines_kwargs=dict(rasterized=True, linewidth=0.5),\n",
    "    ax=ax,\n",
    "    **bsmall_kwargs,\n",
    ")\n",
    "\n",
    "# Create legend with proxy artists\n",
    "big_patch = mpatches.Patch(\n",
    "    **basin_kwargs, label=r\"Basins $\\ge$ \\qty{200000}{\\km\\squared}\"\n",
    ")\n",
    "small_patch = mpatches.Patch(\n",
    "    **bsmall_kwargs, label=r\"Basins $<$ \\qty{200000}{\\km\\squared}\"\n",
    ")\n",
    "ax.legend(\n",
    "    loc=\"lower center\",\n",
    "    handles=[big_patch, small_patch],\n",
    "    bbox_to_anchor=(0.5, -0.15),\n",
    "    ncol=2,\n",
    ")\n",
    "\n",
    "# Label the basins\n",
    "df_btop = basins(BASINS)\n",
    "df_btop[\"coords\"] = df_btop[\"geometry\"].apply(lambda x: x.centroid.coords[0])\n",
    "for idx, row in df_btop.iterrows():\n",
    "    ax.annotate(\n",
    "        text=row[\"riverbasin\"],\n",
    "        xy=row[\"coords\"],\n",
    "        horizontalalignment=\"center\",\n",
    "        transform=ccrs.PlateCarree(),\n",
    "        path_effects=[patheffects.withStroke(linewidth=2, foreground=\"white\")],\n",
    "        size=\"small\",\n",
    "    )\n",
    "\n",
    "fig.savefig(FIGURE_DIR / \"basins_map_named.pdf\", backend=\"pgf\")"
   ]
  },
  {
   "cell_type": "markdown",
   "metadata": {},
   "source": [
    "## Time Series Plots"
   ]
  },
  {
   "cell_type": "markdown",
   "metadata": {},
   "source": [
    "### Data Loading\n",
    "\n",
    "Load and combine the different data sets (GRACE, ERA5, WGHM, and our and other reconstructions)"
   ]
  },
  {
   "cell_type": "code",
   "execution_count": null,
   "metadata": {},
   "outputs": [],
   "source": [
    "our_store = (\n",
    "    ROOT_DIR / \"models/predictions/ensemble-mixed/ensemble-mixed_era_best-mae.zarr\"\n",
    ")\n",
    "targets_store = ROOT_DIR / \"data/processed/targets.zarr\"\n",
    "inputs_store = ROOT_DIR / \"data/processed/inputs.zarr\"\n",
    "\n",
    "tgts = xr.open_zarr(targets_store)\n",
    "inps = xr.open_zarr(inputs_store)\n",
    "our = xr.open_zarr(our_store).twsa.rename(\"twsa_our\")"
   ]
  },
  {
   "cell_type": "code",
   "execution_count": null,
   "metadata": {},
   "outputs": [],
   "source": [
    "# Merge all data sets\n",
    "ds_all = xr.merge([tgts, inps, our])\n",
    "\n",
    "# Create and apply mask (land area and Greenland+Antarctica exclusion)\n",
    "mask = (tgts.land_mask_jpl * tgts.land_mask_gsfc * inps.grl_ata_mask).compute()\n",
    "ds_all = ds_all.where(mask == 1)\n",
    "\n",
    "# Substract the GRACE baseline\n",
    "baseline = slice(\"2004\", \"2009\")\n",
    "base_mean = ds_all.sel(time=baseline).mean(\"time\")\n",
    "ds_all = ds_all - base_mean"
   ]
  },
  {
   "cell_type": "markdown",
   "metadata": {},
   "source": [
    "Specify variables of interest and their descriptive names:"
   ]
  },
  {
   "cell_type": "code",
   "execution_count": null,
   "metadata": {},
   "outputs": [],
   "source": [
    "vars_verbose = {\n",
    "    \"twsa_our\": \"DeepRec (Ours)\",\n",
    "    \"twsa_csr\": \"CSR (GRACE)\",\n",
    "}\n",
    "eval_names = list(vars_verbose.keys())\n",
    "\n",
    "target_name = \"twsa_csr\"\n",
    "our_name = \"twsa_our\""
   ]
  },
  {
   "cell_type": "code",
   "execution_count": null,
   "metadata": {},
   "outputs": [],
   "source": [
    "# Get basin names\n",
    "btop_names = df_btop.riverbasin\n",
    "btop_names"
   ]
  },
  {
   "cell_type": "code",
   "execution_count": null,
   "metadata": {},
   "outputs": [],
   "source": [
    "ds_grid = ds_all[eval_names]\n",
    "# Calculate basin averages\n",
    "ds_basin = (\n",
    "    # Select variables and time frame of interest\n",
    "    ds_grid.chunk(time=10, lat=-1, lon=-1)\n",
    "    .dr.select_basins(BASINS)\n",
    "    .dr.weight_lat()\n",
    "    .mean([\"lat\", \"lon\"])\n",
    "    .compute()\n",
    ")"
   ]
  },
  {
   "cell_type": "code",
   "execution_count": null,
   "metadata": {},
   "outputs": [],
   "source": [
    "# Calc yearly values\n",
    "# ds_basin_yr = ds_basin.resample(time=\"YE\").mean()\n",
    "# Calc running mean\n",
    "ds_basin_yr = ds_basin.rolling(time=12).mean()"
   ]
  },
  {
   "cell_type": "code",
   "execution_count": null,
   "metadata": {},
   "outputs": [],
   "source": [
    "colors = sns.color_palette(\"tab20\")\n",
    "colors"
   ]
  },
  {
   "cell_type": "code",
   "execution_count": null,
   "metadata": {},
   "outputs": [],
   "source": [
    "# Cut the time series where our reconstruction ends\n",
    "ds_basin = ds_basin.sel(time=slice(None, \"2023\"))\n",
    "ds_basin_yr = ds_basin_yr.sel(time=slice(None, \"2023\"))\n"
   ]
  },
  {
   "cell_type": "code",
   "execution_count": null,
   "metadata": {},
   "outputs": [],
   "source": [
    "fig, axs = plt.subplots(nrows=len(BASINS), figsize=(6, 8), sharex=True)\n",
    "for ax, b_name in zip(axs.flat, btop_names):\n",
    "    b_monthly = ds_basin.sel(region=b_name)\n",
    "    b_yearly = ds_basin_yr.sel(region=b_name)\n",
    "\n",
    "    (p1,) = b_monthly.twsa_our.plot(\n",
    "        ax=ax, color=colors[1], linewidth=1.0, label=\"DeepRec (Ours), monthly\"\n",
    "    )\n",
    "    (p2,) = b_monthly.twsa_csr.plot(\n",
    "        ax=ax, color=colors[3], linewidth=1.0, label=\"CSR (GRACE), monthly\"\n",
    "    )\n",
    "    (p3,) = b_yearly.twsa_our.plot(\n",
    "        ax=ax, color=colors[0], label=\"DeepRec (Ours), 12 M rolling\"\n",
    "    )\n",
    "    ax.set(\n",
    "        xlabel=None,\n",
    "        ylabel=\"TWS Anomaly (mm)\",\n",
    "        title=b_name,\n",
    "        xlim=(pd.Timestamp(\"1940\"), pd.Timestamp(\"2025\")),\n",
    "    )\n",
    "    ax.yaxis.grid()\n",
    "\n",
    "    # Add periods\n",
    "    line_kwargs = dict(linestyle=\"dotted\", linewidth=1, color=\"black\")\n",
    "\n",
    "    # Rec start\n",
    "    t0 = pd.Timestamp(\"1941-01-01\")\n",
    "    # Train start\n",
    "    t1 = pd.Timestamp(\"2002-03-01\")\n",
    "    # Val start\n",
    "    t2 = pd.Timestamp(\"2022-01-01\")\n",
    "    # Val end\n",
    "    t3 = pd.Timestamp(\"2023-12-01\")\n",
    "\n",
    "    ylim_l, ylim_u = ax.get_ylim()\n",
    "    # Rec | Train\n",
    "    ax.axvline(x=t1, **line_kwargs)\n",
    "    # Train | Val\n",
    "    ax.axvline(x=t2, **line_kwargs)\n",
    "\n",
    "    ax.text(t0 + (t1 - t0) / 2, ylim_l, \"Reconstruction\", ha=\"center\", va=\"top\")\n",
    "    ax.text(t1 + (t2 - t1) / 2, ylim_l, \"Training\", ha=\"center\", va=\"top\")\n",
    "    ax.text(t2, ylim_l, \"Val\", ha=\"left\", va=\"top\")\n",
    "\n",
    "    # Adjust lower limit relatively\n",
    "    ywidth = ylim_u - ylim_l\n",
    "    ax.set_ylim(ylim_l - 0.2 * ywidth)\n",
    "\n",
    "fig.legend(handles=[p2, p1, p3], loc=\"upper right\", bbox_to_anchor=(1.0, 0.0), ncols=3)\n",
    "\n",
    "fig.savefig(FIGURE_DIR / \"basins_timeseries.pdf\", backend=\"pgf\")\n"
   ]
  }
 ],
 "metadata": {
  "kernelspec": {
   "display_name": ".venv",
   "language": "python",
   "name": "python3"
  },
  "language_info": {
   "codemirror_mode": {
    "name": "ipython",
    "version": 3
   },
   "file_extension": ".py",
   "mimetype": "text/x-python",
   "name": "python",
   "nbconvert_exporter": "python",
   "pygments_lexer": "ipython3",
   "version": "3.11.9"
  }
 },
 "nbformat": 4,
 "nbformat_minor": 2
}
