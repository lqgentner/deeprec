{
 "cells": [
  {
   "cell_type": "markdown",
   "metadata": {},
   "source": [
    "# Comparison with Satellite Laser Ranging (SLR) TWSA\n",
    "\n",
    "In this notebook, we compare our TWS reconstruction to a TWS product from IGG Bonn which combines gravity field measurements of SLR and DORIS."
   ]
  },
  {
   "cell_type": "code",
   "execution_count": null,
   "metadata": {},
   "outputs": [],
   "source": [
    "import string\n",
    "\n",
    "import cartopy.crs as ccrs\n",
    "import cmcrameri.cm as cmc\n",
    "import matplotlib.pyplot as plt\n",
    "import numpy as np\n",
    "import pandas as pd\n",
    "import seaborn as sns\n",
    "import xarray as xr\n",
    "from dask.diagnostics import ProgressBar\n",
    "from matplotlib_inline.backend_inline import set_matplotlib_formats\n",
    "\n",
    "import deeprec  # noqa\n",
    "from deeprec import metrics\n",
    "from deeprec.regions import basins\n",
    "from deeprec.utils import ROOT_DIR, repeat_by_weight"
   ]
  },
  {
   "cell_type": "code",
   "execution_count": null,
   "metadata": {},
   "outputs": [],
   "source": [
    "# Register dask progress bar\n",
    "ProgressBar(minimum=5).register()\n"
   ]
  },
  {
   "cell_type": "code",
   "execution_count": null,
   "metadata": {},
   "outputs": [],
   "source": [
    "set_matplotlib_formats(\"retina\")\n",
    "plt.style.use(ROOT_DIR / \"config/style_paper.mplstyle\")\n",
    "FIGURE_DIR = ROOT_DIR / \"docs/figures/paper\"\n"
   ]
  },
  {
   "cell_type": "markdown",
   "metadata": {},
   "source": [
    "## Data Preprocessing\n",
    "\n",
    "### Data Loading\n",
    "\n",
    "Load and combine the different data sets (GRACE, ERA5, WGHM, and our and other reconstructions)"
   ]
  },
  {
   "cell_type": "code",
   "execution_count": null,
   "metadata": {},
   "outputs": [],
   "source": [
    "our_store = (\n",
    "    ROOT_DIR / \"models/predictions/ensemble-mixed/ensemble-mixed_era_best-mae.zarr\"\n",
    ")\n",
    "targets_store = ROOT_DIR / \"data/processed/targets.zarr\"\n",
    "inputs_store = ROOT_DIR / \"data/processed/inputs.zarr\"\n",
    "recs_store = ROOT_DIR / \"data/processed/reconstructions.zarr\"\n",
    "slr_store = ROOT_DIR / \"data/processed/igg-slr-hybrid-2.zarr\"\n",
    "\n",
    "tgts = xr.open_zarr(targets_store)\n",
    "inps = xr.open_zarr(inputs_store)\n",
    "slr = xr.open_zarr(slr_store)\n",
    "recs = xr.open_zarr(recs_store)\n",
    "our = xr.open_zarr(our_store).twsa.rename(\"twsa_our\")\n"
   ]
  },
  {
   "cell_type": "code",
   "execution_count": null,
   "metadata": {},
   "outputs": [],
   "source": [
    "# Resample SLR data set from 1° to 0.5°\n",
    "step = 0.5\n",
    "lat_05 = np.arange(89.75, -89.75 - step, -step)\n",
    "lon_05 = np.arange(-179.75, 179.75 + step, step)\n",
    "slr = slr.interp(lat=lat_05, lon=lon_05, method=\"nearest\")"
   ]
  },
  {
   "cell_type": "code",
   "execution_count": null,
   "metadata": {},
   "outputs": [],
   "source": [
    "# Merge all data sets\n",
    "ds_all = xr.merge([tgts, inps, slr, recs, our])\n",
    "\n",
    "# Create and apply mask (land area and Greenland+Antarctica exclusion)\n",
    "mask = (tgts.land_mask_jpl * tgts.land_mask_gsfc * inps.grl_ata_mask).compute()\n",
    "ds_all = ds_all.where(mask == 1)\n",
    "\n",
    "# Substract the GRACE baseline\n",
    "baseline = slice(\"2004\", \"2009\")\n",
    "base_mean = ds_all.sel(time=baseline).mean(\"time\")\n",
    "ds_all = ds_all - base_mean\n"
   ]
  },
  {
   "cell_type": "markdown",
   "metadata": {},
   "source": [
    "Specify variables of interest and their descriptive names:"
   ]
  },
  {
   "cell_type": "code",
   "execution_count": null,
   "metadata": {},
   "outputs": [],
   "source": [
    "vars_verbose = {\n",
    "    \"twsa_our\": \"DeepRec\\n(Ours)\",\n",
    "    \"twsa_gap\": \"WGHM\",\n",
    "    \"palazzoli_jpl_full\": \"Palazzoli's\\nJPL Rec\",\n",
    "    \"humphrey_gsfc_detrend\": \"Humphrey's\\nGSFC Rec\",\n",
    "    \"li_csr_full\": \"Li's\\nCSR Rec\",\n",
    "    \"yin_csr_full\": \"Yin's\\nCSR Rec\",\n",
    "    \"twsa_csr\": \"CSR\\n(GRACE)\",\n",
    "}\n",
    "eval_names = vars_verbose.keys()\n"
   ]
  },
  {
   "cell_type": "code",
   "execution_count": null,
   "metadata": {},
   "outputs": [],
   "source": [
    "grace_name = \"twsa_csr\"\n",
    "our_name = \"twsa_our\"\n",
    "# slr_name = \"twsa_slr_gauss\"\n",
    "slr_name = \"twsa_slr_2024\"\n"
   ]
  },
  {
   "cell_type": "markdown",
   "metadata": {},
   "source": [
    "Remove time steps not available in the evaluation product:"
   ]
  },
  {
   "cell_type": "code",
   "execution_count": null,
   "metadata": {},
   "outputs": [],
   "source": [
    "ds_slrtime = ds_all[[*eval_names, slr_name]].where(slr.time, drop=True).compute()"
   ]
  },
  {
   "cell_type": "markdown",
   "metadata": {},
   "source": [
    "Calculate basin averages:"
   ]
  },
  {
   "cell_type": "code",
   "execution_count": null,
   "metadata": {},
   "outputs": [],
   "source": [
    "# Dims: (\"model\", \"region\")\n",
    "ds_basin = (\n",
    "    # Basins over 200,000 km²\n",
    "    ds_slrtime.chunk(lat=-1, lon=-1, time=10)\n",
    "    .dr.select_basins(top=72)\n",
    "    .dr.weight_lat()\n",
    "    .mean([\"lat\", \"lon\"])\n",
    ").compute()\n",
    "ds_basin\n"
   ]
  },
  {
   "cell_type": "markdown",
   "metadata": {},
   "source": [
    "Split into Pre-GRACE and GRACE periods:"
   ]
  },
  {
   "cell_type": "code",
   "execution_count": null,
   "metadata": {},
   "outputs": [],
   "source": [
    "ds_basin_pre = ds_basin.drop_vars(grace_name).sel(time=slice(None, \"2001\"))\n",
    "ds_basin_post = ds_basin.sel(time=slice(\"2002\", None))\n",
    "# Drop time stamps which are not available for at least one variable\n",
    "ds_basin_pre = ds_basin_pre.where(ds_basin_pre.dr.time_notnull(\"region\"), drop=True)\n",
    "ds_basin_post = ds_basin_post.where(ds_basin_post.dr.time_notnull(\"region\"), drop=True)"
   ]
  },
  {
   "cell_type": "markdown",
   "metadata": {},
   "source": [
    "### Basin scale PCC"
   ]
  },
  {
   "cell_type": "code",
   "execution_count": null,
   "metadata": {},
   "outputs": [],
   "source": [
    "# Calculate PCC for pre-GRACE era\n",
    "da_pcc_pre = metrics.pearson_r(\n",
    "    # Model are evaluated, SLR is the truth\n",
    "    ds_basin_pre[slr_name],\n",
    "    ds_basin_pre.drop_vars(slr_name),\n",
    "    dim=\"time\",\n",
    "    skipna=True,\n",
    ").to_dataarray(\"model\")\n",
    "\n",
    "# Calculate PCC for GRACE era\n",
    "da_pcc_post = metrics.pearson_r(\n",
    "    # Model are evaluated, SLR is the truth\n",
    "    ds_basin_post[slr_name],\n",
    "    ds_basin_post.drop_vars(slr_name),\n",
    "    dim=\"time\",\n",
    "    skipna=True,\n",
    ").to_dataarray(\"model\")\n"
   ]
  },
  {
   "cell_type": "code",
   "execution_count": null,
   "metadata": {},
   "outputs": [],
   "source": [
    "# Combine along new `era` dimension\n",
    "da_pcc = xr.concat([da_pcc_pre, da_pcc_post], dim=pd.Index([\"pre\", \"post\"], name=\"era\"))\n"
   ]
  },
  {
   "cell_type": "code",
   "execution_count": null,
   "metadata": {},
   "outputs": [],
   "source": [
    "# GeoDataFrame containing basin shapes and areas\n",
    "gdf_basin_shapes = basins(top=72)\n",
    "\n",
    "# Series of basin areas\n",
    "s_basin_areas = gdf_basin_shapes.rename(\n",
    "    columns={\"riverbasin\": \"region\", \"sum_sub_ar\": \"area\"}\n",
    ").set_index(\"region\")[\"area\"]\n",
    "\n",
    "# DataArray of basin areas, for weighting\n",
    "da_basin_areas = xr.DataArray.from_series(s_basin_areas)\n"
   ]
  },
  {
   "cell_type": "code",
   "execution_count": null,
   "metadata": {},
   "outputs": [],
   "source": [
    "our_pcc_pre = da_pcc_pre.sel(model=\"twsa_our\")\n",
    "our_pcc_post = da_pcc_post.sel(model=\"twsa_our\")"
   ]
  },
  {
   "cell_type": "code",
   "execution_count": null,
   "metadata": {},
   "outputs": [],
   "source": [
    "print(f\"{our_pcc_pre.min() = :.2f}\")\n",
    "print(f\"{our_pcc_pre.max() = :.2f}\\n\")\n",
    "\n",
    "print(f\"{our_pcc_post.min() = :.2f}\")\n",
    "print(f\"{our_pcc_post.max() = :.2f}\\n\")"
   ]
  },
  {
   "cell_type": "code",
   "execution_count": null,
   "metadata": {},
   "outputs": [],
   "source": [
    "print(f\"{our_pcc_pre.weighted(da_basin_areas).mean() = :.2f}\")\n",
    "print(f\"{our_pcc_pre.weighted(da_basin_areas).quantile(0.9) = :.2f}\\n\")\n",
    "\n",
    "print(f\"{our_pcc_post.weighted(da_basin_areas).mean() = :.2f}\")\n",
    "print(f\"{our_pcc_post.weighted(da_basin_areas).quantile(0.1) = :.2f}\\n\")\n"
   ]
  },
  {
   "cell_type": "markdown",
   "metadata": {},
   "source": [
    "## Map plots"
   ]
  },
  {
   "cell_type": "code",
   "execution_count": null,
   "metadata": {},
   "outputs": [],
   "source": [
    "pcc_kwargs = dict(\n",
    "    coastlines=True,\n",
    "    gridlines=True,\n",
    "    cmap=cmc.cork,\n",
    "    vmin=-1,\n",
    "    vmax=1,\n",
    "    rasterized=True,\n",
    "    coastlines_kwargs=dict(rasterized=True, linewidth=0.5),\n",
    "    add_colorbar=False,\n",
    "    cbar_kwargs=None,\n",
    ")\n",
    "basinlines_kwargs = dict(\n",
    "    edgecolor=\"gray\", linewidth=0.4, facecolor=\"None\", rasterized=True, zorder=3.0\n",
    ")\n",
    "\n",
    "pcc_cbar_kwargs = dict(location=\"bottom\", aspect=50, shrink=0.66, extend=\"min\")\n"
   ]
  },
  {
   "cell_type": "code",
   "execution_count": null,
   "metadata": {},
   "outputs": [],
   "source": [
    "# Create a dummy array with the dimensions (lat x lon)\n",
    "da_dummy = xr.zeros_like(ds_slrtime[our_name].isel(time=0, drop=True)).rename(\"dummy\")"
   ]
  },
  {
   "cell_type": "code",
   "execution_count": null,
   "metadata": {},
   "outputs": [],
   "source": [
    "# Get start and end years of time series\n",
    "times_pre = ds_basin_pre.get_index(\"time\")\n",
    "times_post = ds_basin_post.get_index(\"time\")\n",
    "\n",
    "period_pre = (times_pre[0].year, times_pre[-1].year)\n",
    "period_post = (times_post[0].year, times_post[-1].year)"
   ]
  },
  {
   "cell_type": "code",
   "execution_count": null,
   "metadata": {},
   "outputs": [],
   "source": [
    "# Select our reconstruction and GRACE\n",
    "our_pcc_pre = da_pcc_pre.sel(model=our_name, drop=True)\n",
    "our_pcc_post = da_pcc_post.sel(model=our_name, drop=True)\n",
    "csr_pcc_post = da_pcc_post.sel(model=grace_name, drop=True)\n"
   ]
  },
  {
   "cell_type": "code",
   "execution_count": null,
   "metadata": {},
   "outputs": [],
   "source": [
    "fig, axs = plt.subplots(\n",
    "    ncols=3, figsize=(7.2, 2.1), subplot_kw={\"projection\": ccrs.EqualEarth()}\n",
    ")\n",
    "\n",
    "# PCC Ours Pre-GRACE\n",
    "p_pcc = our_pcc_pre.dr.projplot_basins(da_dummy, ax=axs[0], **pcc_kwargs)\n",
    "axs[0].set(title=f\"DeepRec, {period_pre[0]}--{period_pre[1]}\")\n",
    "\n",
    "# PCC Ours GRACE era\n",
    "our_pcc_post.dr.projplot_basins(da_dummy, ax=axs[1], **pcc_kwargs)\n",
    "axs[1].set(title=f\"DeepRec, {period_post[0]}--{period_post[1]}\")\n",
    "\n",
    "# PCC GRACE\n",
    "csr_pcc_post.dr.projplot_basins(da_dummy, ax=axs[2], **pcc_kwargs)\n",
    "axs[2].set(title=f\"GRACE, {period_post[0]}--{period_post[1]}\")\n",
    "\n",
    "for ax in axs:\n",
    "    # Add basinlines\n",
    "    gdf_basin_shapes.dr.projplot(ax=ax, **basinlines_kwargs)\n",
    "\n",
    "# Add colorbars\n",
    "fig.colorbar(p_pcc, ax=axs, label=\"PCC\", **pcc_cbar_kwargs)\n"
   ]
  },
  {
   "cell_type": "markdown",
   "metadata": {},
   "source": [
    "## Boxplots"
   ]
  },
  {
   "cell_type": "markdown",
   "metadata": {},
   "source": [
    "Weight according to basin size. We achieve this by repeating samples (rows) by an integer number proportional to their basin size."
   ]
  },
  {
   "cell_type": "code",
   "execution_count": null,
   "metadata": {},
   "outputs": [],
   "source": [
    "# Series of basin areas\n",
    "s_basin_areas = gdf_basin_shapes.rename(\n",
    "    columns={\"riverbasin\": \"region\", \"sum_sub_ar\": \"area\"}\n",
    ").set_index(\"region\")[\"area\"]"
   ]
  },
  {
   "cell_type": "code",
   "execution_count": null,
   "metadata": {},
   "outputs": [],
   "source": [
    "# Convert DataArray to DataFrame\n",
    "df_pcc = da_pcc.to_dataframe(name=\"pcc\").reset_index()\n",
    "df_pcc[\"model_verbose\"] = df_pcc[\"model\"].map(vars_verbose)\n",
    "\n",
    "# Convert area to integer (we define the smallest area as 10)\n",
    "s_basin_ints = (s_basin_areas / s_basin_areas.min() * 10).round().astype(int)\n",
    "\n",
    "# Merge with area integers\n",
    "df_pcc_area = df_pcc.merge(s_basin_ints, left_on=\"region\", right_index=True)\n",
    "\n",
    "# Create weighted dataframe (columns repeated according to area integers)\n",
    "df_pcc_weighted = repeat_by_weight(df_pcc_area, \"area\")\n"
   ]
  },
  {
   "cell_type": "code",
   "execution_count": null,
   "metadata": {},
   "outputs": [],
   "source": [
    "# Order by increasing mean\n",
    "my_order = (\n",
    "    df_pcc[df_pcc.era == \"pre\"]\n",
    "    .groupby(by=[\"model_verbose\"])[\"pcc\"]\n",
    "    .mean()\n",
    "    # Sort GRACE to the beginning\n",
    "    .sort_values(na_position=\"first\")\n",
    "    .index\n",
    ")\n",
    "my_order\n"
   ]
  },
  {
   "cell_type": "code",
   "execution_count": null,
   "metadata": {},
   "outputs": [],
   "source": [
    "# For creating self-explaining text on figure legends\n",
    "legend_renamer = {\n",
    "    \"era\": \"Era\",\n",
    "    \"pre\": f\"Pre-GRACE era\\n({period_pre[0]}--{period_pre[1]})\",\n",
    "    \"post\": f\"GRACE era\\n({period_post[0]}--{period_post[1]})\",\n",
    "}\n"
   ]
  },
  {
   "cell_type": "code",
   "execution_count": null,
   "metadata": {},
   "outputs": [],
   "source": [
    "fig, ax = plt.subplots(figsize=(7.2, 3))\n",
    "sns.boxplot(\n",
    "    df_pcc_weighted,\n",
    "    y=\"pcc\",\n",
    "    x=\"model_verbose\",\n",
    "    hue=\"era\",\n",
    "    width=0.6,\n",
    "    gap=0.2,\n",
    "    ax=ax,\n",
    "    order=my_order,\n",
    "    showfliers=False,\n",
    "    palette=\"Paired\",\n",
    ")\n",
    "ax.set(ylabel=\"PCC\", xlabel=None, ylim=(0, 1), title=\"Global average\")\n",
    "ax.yaxis.grid()\n",
    "# Move legend outside of plot\n",
    "ax.legend().remove()\n",
    "legend = fig.legend(loc=\"outside right\")\n",
    "# Replace legend texts\n",
    "for text in legend.texts:\n",
    "    t = text.get_text()\n",
    "    if t in legend_renamer:\n",
    "        t = legend_renamer[t]\n",
    "    text.set_text(t)"
   ]
  },
  {
   "cell_type": "markdown",
   "metadata": {},
   "source": [
    "## Combine everything"
   ]
  },
  {
   "cell_type": "code",
   "execution_count": null,
   "metadata": {},
   "outputs": [],
   "source": [
    "fig = plt.figure(figsize=(7.2, 5))\n",
    "subfigs = fig.subfigures(nrows=2, hspace=0.03, height_ratios=[4, 3])\n",
    "\n",
    "axs_geo = subfigs[0].subplots(1, 3, subplot_kw={\"projection\": ccrs.EqualEarth()})\n",
    "ax_box = subfigs[1].subplots(1, 1)\n",
    "\n",
    "### MAP PLOTS ###\n",
    "\n",
    "# PCC Ours Pre-GRACE\n",
    "p_pcc = our_pcc_pre.dr.projplot_basins(da_dummy, ax=axs_geo[0], **pcc_kwargs)\n",
    "axs_geo[0].set(title=f\"DeepRec, {period_pre[0]}--{period_pre[1]}\")\n",
    "\n",
    "# PCC Ours GRACE era\n",
    "our_pcc_post.dr.projplot_basins(da_dummy, ax=axs_geo[1], **pcc_kwargs)\n",
    "axs_geo[1].set(title=f\"DeepRec, {period_post[0]}--{period_post[1]}\")\n",
    "\n",
    "# PCC GRACE\n",
    "csr_pcc_post.dr.projplot_basins(da_dummy, ax=axs_geo[2], **pcc_kwargs)\n",
    "axs_geo[2].set(title=f\"GRACE, {period_post[0]}--{period_post[1]}\")\n",
    "\n",
    "for ax in axs_geo:\n",
    "    # Add basinlines\n",
    "    gdf_basin_shapes.dr.projplot(ax=ax, **basinlines_kwargs)\n",
    "\n",
    "# Add colorbars\n",
    "subfigs[0].colorbar(p_pcc, ax=axs_geo, label=\"PCC (mm)\", **pcc_cbar_kwargs)\n",
    "\n",
    "\n",
    "### BOXPLOT ###\n",
    "\n",
    "sns.boxplot(\n",
    "    df_pcc_weighted,\n",
    "    y=\"pcc\",\n",
    "    x=\"model_verbose\",\n",
    "    hue=\"era\",\n",
    "    width=0.6,\n",
    "    gap=0.2,\n",
    "    ax=ax_box,\n",
    "    order=my_order,\n",
    "    showfliers=False,\n",
    "    palette=\"Paired\",\n",
    ")\n",
    "\n",
    "ax_box.set(ylabel=\"PCC\", xlabel=None, ylim=(0, 1), title=\"All basins (area-weighted)\")\n",
    "ax_box.yaxis.grid()\n",
    "# Move legend outside of plot\n",
    "ax_box.legend().remove()\n",
    "legend = subfigs[1].legend(loc=\"outside right\")\n",
    "# Replace legend texts\n",
    "for text in legend.texts:\n",
    "    t = text.get_text()\n",
    "    if t in legend_renamer:\n",
    "        t = legend_renamer[t]\n",
    "    text.set_text(t)\n",
    "\n",
    "\n",
    "### LETTERS ###\n",
    "\n",
    "for n, ax in enumerate(axs_geo):\n",
    "    ax.text(\n",
    "        0.0,\n",
    "        1.0 - 0.10,\n",
    "        string.ascii_lowercase[n],\n",
    "        transform=ax.transAxes,\n",
    "        size=\"x-large\",\n",
    "        weight=\"bold\",\n",
    "    )\n",
    "ax_box.text(\n",
    "    0.0,\n",
    "    1.0 + 0.05,\n",
    "    string.ascii_lowercase[len(axs_geo)],\n",
    "    ha=\"center\",\n",
    "    transform=ax_box.transAxes,\n",
    "    size=\"x-large\",\n",
    "    weight=\"bold\",\n",
    ")\n",
    "\n",
    "fig.savefig(FIGURE_DIR / \"slr_pcc_broc.pdf\", backend=\"pgf\")"
   ]
  }
 ],
 "metadata": {
  "kernelspec": {
   "display_name": ".venv",
   "language": "python",
   "name": "python3"
  },
  "language_info": {
   "codemirror_mode": {
    "name": "ipython",
    "version": 3
   },
   "file_extension": ".py",
   "mimetype": "text/x-python",
   "name": "python",
   "nbconvert_exporter": "python",
   "pygments_lexer": "ipython3",
   "version": "3.13.2"
  }
 },
 "nbformat": 4,
 "nbformat_minor": 2
}
