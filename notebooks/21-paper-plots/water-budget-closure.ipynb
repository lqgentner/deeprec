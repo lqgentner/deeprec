{
 "cells": [
  {
   "cell_type": "markdown",
   "metadata": {},
   "source": [
    "# Comparison to the Water Budget\n",
    "We compare the changes of our reconstructed water storage anomalies to the water balance, derived from ERA5."
   ]
  },
  {
   "cell_type": "code",
   "execution_count": null,
   "metadata": {},
   "outputs": [],
   "source": [
    "import string\n",
    "\n",
    "import cartopy.crs as ccrs\n",
    "import matplotlib.pyplot as plt\n",
    "import numpy as np\n",
    "import seaborn as sns\n",
    "import xarray as xr\n",
    "import cmcrameri.cm as cmc\n",
    "from dask.diagnostics import ProgressBar\n",
    "from matplotlib import ticker\n",
    "from matplotlib_inline.backend_inline import set_matplotlib_formats\n",
    "\n",
    "import deeprec  # noqa\n",
    "from deeprec import metrics\n",
    "from deeprec.regions import basins\n",
    "from deeprec.utils import ROOT_DIR, repeat_by_weight\n",
    "\n",
    "# Register dask progress bar\n",
    "ProgressBar(minimum=5).register()\n"
   ]
  },
  {
   "cell_type": "code",
   "execution_count": null,
   "metadata": {},
   "outputs": [],
   "source": [
    "set_matplotlib_formats(\"retina\")\n",
    "plt.style.use(ROOT_DIR / \"config/style_paper.mplstyle\")\n",
    "FIGURE_DIR = ROOT_DIR / \"docs/figures/paper\"\n"
   ]
  },
  {
   "cell_type": "markdown",
   "metadata": {},
   "source": [
    "## Data Loading\n",
    "\n",
    "For preprocessing, see the corresponding notebook in `11-data-processing/water-budget-processing.ipynb`."
   ]
  },
  {
   "cell_type": "code",
   "execution_count": null,
   "metadata": {},
   "outputs": [],
   "source": [
    "twsc_path = ROOT_DIR / \"data/evaluations/twsc_basin-scale.zarr\"\n",
    "twsc = xr.open_zarr(twsc_path)\n"
   ]
  },
  {
   "cell_type": "markdown",
   "metadata": {},
   "source": [
    "Specify variables of interest and their descriptive names:"
   ]
  },
  {
   "cell_type": "code",
   "execution_count": null,
   "metadata": {},
   "outputs": [],
   "source": [
    "vars_verbose = {\n",
    "    \"ours_era\": \"DeepRec (Ours)\",\n",
    "    \"gap\": \"WGHM\",\n",
    "    \"palazzoli_jpl_full\": \"Palazzoli's JPL Rec\",\n",
    "    \"yin_csr_full\": \"Yin's CSR Rec\",\n",
    "    \"li_csr_full\": \"Li's CSR Rec\",\n",
    "    \"humphrey_gsfc_detrend\": \"Humphrey's GSFC Rec\",\n",
    "    \"csr\": \"CSR (GRACE)\",\n",
    "}\n",
    "bdgt_name = \"era5_smooth\"\n",
    "grace_name = \"csr\"\n",
    "our_name = \"ours_era\"\n",
    "eval_names = vars_verbose.keys()\n"
   ]
  },
  {
   "cell_type": "markdown",
   "metadata": {},
   "source": [
    "## Analysis\n",
    "\n",
    "Define evaluation models and water balance target:"
   ]
  },
  {
   "cell_type": "code",
   "execution_count": null,
   "metadata": {},
   "outputs": [],
   "source": [
    "# Drop all time steps where one variable is NaN\n",
    "twsc_post = twsc.where(twsc.dr.time_notnull(\"region\"), drop=True)\n",
    "\n",
    "bdgt_post = twsc_post[bdgt_name]\n",
    "eval_post = twsc_post[eval_names].to_dataarray(\"model\")\n",
    "\n",
    "twsc_post\n"
   ]
  },
  {
   "cell_type": "code",
   "execution_count": null,
   "metadata": {},
   "outputs": [],
   "source": [
    "twsc_pre = twsc.sel(time=slice(\"1980\", \"2001\"))\n",
    "\n",
    "bdgt_pre = twsc_pre[bdgt_name]\n",
    "eval_pre = twsc_pre[eval_names].drop_vars(grace_name).to_dataarray(\"model\")\n",
    "\n",
    "twsc_pre\n"
   ]
  },
  {
   "cell_type": "markdown",
   "metadata": {},
   "source": [
    "###  Calculate RMSE"
   ]
  },
  {
   "cell_type": "code",
   "execution_count": null,
   "metadata": {},
   "outputs": [],
   "source": [
    "rmse_pre = metrics.rmse(bdgt_pre, eval_pre, dim=\"time\").compute()\n",
    "rmse_post = metrics.rmse(bdgt_post, eval_post, dim=\"time\").compute()\n",
    "\n",
    "# Select our reconstruction and GRACE\n",
    "our_rmse_pre = rmse_pre.sel(model=our_name)\n",
    "our_rmse_post = rmse_post.sel(model=our_name)\n",
    "csr_rmse_post = rmse_post.sel(model=grace_name)\n"
   ]
  },
  {
   "cell_type": "markdown",
   "metadata": {},
   "source": [
    "### Calculate NSE"
   ]
  },
  {
   "cell_type": "code",
   "execution_count": null,
   "metadata": {},
   "outputs": [],
   "source": [
    "nse_pre = metrics.nse(bdgt_pre, eval_pre, dim=\"time\").compute()\n",
    "nse_post = metrics.nse(bdgt_post, eval_post, dim=\"time\").compute()\n",
    "\n",
    "# Select our reconstruction and GRACE\n",
    "our_nse_pre = nse_pre.sel(model=our_name)\n",
    "our_nse_post = nse_post.sel(model=our_name)\n",
    "csr_nse_post = nse_post.sel(model=grace_name)\n"
   ]
  },
  {
   "cell_type": "markdown",
   "metadata": {},
   "source": [
    "## Create Plot"
   ]
  },
  {
   "cell_type": "code",
   "execution_count": null,
   "metadata": {},
   "outputs": [],
   "source": [
    "rmse_kwargs = dict(\n",
    "    vmin=0,\n",
    "    vmax=45,\n",
    "    cmap=cmc.batlow,\n",
    "    rasterized=True,\n",
    "    coastlines=True,\n",
    "    gridlines=True,\n",
    "    coastlines_kwargs=dict(rasterized=True, linewidth=0.5),\n",
    "    add_colorbar=False,\n",
    "    cbar_kwargs=None,\n",
    ")\n",
    "nse_kwargs = dict(\n",
    "    vmin=-1,\n",
    "    vmax=1,\n",
    "    cmap=cmc.bam,\n",
    "    rasterized=True,\n",
    "    coastlines=True,\n",
    "    gridlines=True,\n",
    "    coastlines_kwargs=dict(rasterized=True, linewidth=0.5),\n",
    "    add_colorbar=False,\n",
    "    cbar_kwargs=None,\n",
    ")\n",
    "basinlines_kwargs = dict(\n",
    "    edgecolor=\"black\",\n",
    "    linewidth=0.4,\n",
    "    facecolor=\"None\",\n",
    "    rasterized=True,\n",
    "    zorder=3.0,\n",
    ")\n",
    "rmse_cbar_kwargs = dict(location=\"bottom\", aspect=50, shrink=0.66)\n",
    "nse_cbar_kwargs = dict(location=\"bottom\", aspect=50, shrink=0.66, extend=\"min\")\n"
   ]
  },
  {
   "cell_type": "code",
   "execution_count": null,
   "metadata": {},
   "outputs": [],
   "source": [
    "# Get timespan\n",
    "start = eval_post.get_index(\"time\")[0]\n",
    "end = eval_post.get_index(\"time\")[-1]\n",
    "timespan_str = f\"{start.year}-{start.month:02} - {end.year}-{end.month:02}\"\n",
    "timespan_str\n"
   ]
  },
  {
   "cell_type": "code",
   "execution_count": null,
   "metadata": {},
   "outputs": [],
   "source": [
    "# Create a spatial dummy array for the .dr.projplot_basins() function\n",
    "STEP_DEG = 0.5\n",
    "lats = np.arange(-89.75, 89.75 + STEP_DEG, STEP_DEG)\n",
    "lons = np.arange(-179.75, 179.75 + STEP_DEG, STEP_DEG)\n",
    "\n",
    "ones = np.ones([len(lats), len(lons)])\n",
    "\n",
    "spatial_dummy = xr.DataArray(ones, coords={\"lat\": lats, \"lon\": lons})\n"
   ]
  },
  {
   "cell_type": "code",
   "execution_count": null,
   "metadata": {},
   "outputs": [],
   "source": [
    "# GeoDataFrame containing basin shapes and areas\n",
    "gdf_basin_shapes = basins(top=72)\n",
    "\n",
    "# Series of basin areas, for scatter plotting\n",
    "s_basin_areas = gdf_basin_shapes.rename(\n",
    "    columns={\"riverbasin\": \"region\", \"sum_sub_ar\": \"area\"}\n",
    ").set_index(\"region\")[\"area\"]\n",
    "\n",
    "# DataArray of basin areas, for weighting\n",
    "da_basin_areas = xr.DataArray.from_series(s_basin_areas)"
   ]
  },
  {
   "cell_type": "code",
   "execution_count": null,
   "metadata": {},
   "outputs": [],
   "source": [
    "print(f\"{our_rmse_pre.min() = :.2f}\")\n",
    "print(f\"{our_rmse_pre.max() = :.2f}\\n\")\n",
    "\n",
    "print(f\"{our_rmse_post.min() = :.2f}\")\n",
    "print(f\"{our_rmse_post.max() = :.2f}\\n\")\n",
    "\n",
    "print(f\"{our_rmse_pre.weighted(da_basin_areas).mean() = :.2f}\")\n",
    "print(f\"{our_rmse_pre.weighted(da_basin_areas).quantile(0.9) = :.2f}\\n\")\n",
    "\n",
    "print(f\"{our_rmse_post.weighted(da_basin_areas).mean() = :.2f}\")\n",
    "print(f\"{our_rmse_post.weighted(da_basin_areas).quantile(0.9) = :.2f}\\n\")\n"
   ]
  },
  {
   "cell_type": "code",
   "execution_count": null,
   "metadata": {},
   "outputs": [],
   "source": [
    "# Subfigure approach\n",
    "fig = plt.figure(figsize=(7.2, 4))\n",
    "subfigs = fig.subfigures(nrows=2, hspace=0.05)\n",
    "\n",
    "axs_rmse = subfigs[0].subplots(1, 3, subplot_kw={\"projection\": ccrs.EqualEarth()})\n",
    "axs_nse = subfigs[1].subplots(1, 3, subplot_kw={\"projection\": ccrs.EqualEarth()})\n",
    "\n",
    "axs_geo = [*axs_rmse, *axs_nse]\n",
    "\n",
    "# RMSE Ours Pre-GRACE\n",
    "p_rmse = our_rmse_pre.dr.projplot_basins(spatial_dummy, ax=axs_rmse[0], **rmse_kwargs)\n",
    "axs_rmse[0].set(title=\"DeepRec, 1980--2001\")\n",
    "\n",
    "# RMSE Ours GRACE era\n",
    "our_rmse_post.dr.projplot_basins(spatial_dummy, ax=axs_rmse[1], **rmse_kwargs)\n",
    "axs_rmse[1].set(title=\"DeepRec, 2002--2019\")\n",
    "\n",
    "# RMSE GRACE\n",
    "csr_rmse_post.dr.projplot_basins(spatial_dummy, ax=axs_rmse[2], **rmse_kwargs)\n",
    "axs_rmse[2].set(title=\"GRACE, 2002--2019\")\n",
    "\n",
    "# NSE Ours Pre-GRACE\n",
    "p_nse = our_nse_pre.dr.projplot_basins(spatial_dummy, ax=axs_nse[0], **nse_kwargs)\n",
    "axs_nse[0].set(title=\"DeepRec, 1980--2001\")\n",
    "\n",
    "# NSE Ours GRACE era\n",
    "our_nse_post.dr.projplot_basins(spatial_dummy, ax=axs_nse[1], **nse_kwargs)\n",
    "axs_nse[1].set(title=\"DeepRec, 2002--2019\")\n",
    "\n",
    "# NSE GRACE\n",
    "csr_nse_post.dr.projplot_basins(spatial_dummy, ax=axs_nse[2], **nse_kwargs)\n",
    "axs_nse[2].set(title=\"GRACE, 2002--2019\")\n",
    "\n",
    "for ax in axs_geo:\n",
    "    # Add basinlines\n",
    "    gdf_basin_shapes.dr.projplot(ax=ax, **basinlines_kwargs)\n",
    "\n",
    "# Add colorbars\n",
    "subfigs[0].colorbar(p_rmse, ax=axs_rmse, label=\"RMSE (mm)\", **rmse_cbar_kwargs)\n",
    "subfigs[0].colorbar(p_nse, ax=axs_nse, label=\"NSE\", **nse_cbar_kwargs)\n"
   ]
  },
  {
   "cell_type": "markdown",
   "metadata": {},
   "source": [
    "## Weighted Boxplot: Ability to close the water budget\n",
    "\n",
    "We calculate the error between the reconstructed TWSC and the ERA5 TWSC (the budget). We plot the basin wise errors as a boxplot, whereby we weight the basins according to their approximate size."
   ]
  },
  {
   "cell_type": "code",
   "execution_count": null,
   "metadata": {},
   "outputs": [],
   "source": [
    "# Create DataArrays for the models to evaluate and the budget\n",
    "da_eval = twsc[eval_names].to_dataarray(\"model\")\n",
    "da_bdgt = twsc[bdgt_name]\n"
   ]
  },
  {
   "cell_type": "markdown",
   "metadata": {},
   "source": [
    "Create a DataFrame with an integer column where the number is relative to the the basin area. Our weighting function requires integer values."
   ]
  },
  {
   "cell_type": "code",
   "execution_count": null,
   "metadata": {},
   "outputs": [],
   "source": [
    "# Create a DataFrame with the basin shape areas\n",
    "basin_sizes = gdf_basin_shapes[[\"riverbasin\", \"sum_sub_ar\"]].rename(\n",
    "    columns={\"riverbasin\": \"region\", \"sum_sub_ar\": \"area\"}\n",
    ")\n",
    "# Smallest int equals multiplier (specifies accuracy fo the weighting)\n",
    "MULT = 10\n",
    "area_rel = basin_sizes.area / basin_sizes.area.min() * MULT\n",
    "basin_sizes[\"area_int\"] = area_rel.round().astype(int)\n",
    "basin_sizes\n"
   ]
  },
  {
   "cell_type": "markdown",
   "metadata": {},
   "source": [
    "### Create the boxplot"
   ]
  },
  {
   "cell_type": "code",
   "execution_count": null,
   "metadata": {},
   "outputs": [],
   "source": [
    "colors = sns.color_palette(\"tab10\")\n",
    "colors\n"
   ]
  },
  {
   "cell_type": "code",
   "execution_count": null,
   "metadata": {},
   "outputs": [],
   "source": [
    "# Create dictionaries for color lookup\n",
    "colors_dict = {\n",
    "    \"ours_era\": colors[0],\n",
    "    \"csr\": colors[1],\n",
    "    \"gap\": colors[2],\n",
    "    \"palazzoli_jpl_full\": colors[3],\n",
    "    \"yin_csr_full\": colors[4],\n",
    "    \"li_csr_full\": colors[5],\n",
    "    \"humphrey_gsfc_detrend\": colors[6],\n",
    "}\n"
   ]
  },
  {
   "cell_type": "code",
   "execution_count": null,
   "metadata": {},
   "outputs": [],
   "source": [
    "# Time periods for calculating basin wise errors\n",
    "TIME_PERIODS = [\n",
    "    (\"1940\", \"1959\"),\n",
    "    (\"1960\", \"1979\"),\n",
    "    (\"1980\", \"2001\"),\n",
    "    (\"2002\", \"2019\"),\n",
    "]\n"
   ]
  },
  {
   "cell_type": "code",
   "execution_count": null,
   "metadata": {},
   "outputs": [],
   "source": [
    "# DataFrame of the weighted basin RMSEs for every period\n",
    "df_errors = []\n",
    "\n",
    "for period in TIME_PERIODS:\n",
    "    # Select current time period\n",
    "    da_bdgt_period = da_bdgt.sel(time=slice(*period))\n",
    "    da_eval_period = da_eval.sel(time=slice(*period))\n",
    "\n",
    "    # Remove variables which are NA for most of the time\n",
    "    THRES = 0.5\n",
    "    n_time = len(da_eval_period.time)\n",
    "    for model in da_eval_period.model.values:\n",
    "        # Drop model if less not-NA timesteps than threshold for current period\n",
    "        n_time_notna = len(\n",
    "            da_eval_period.sel(model=model).dropna(\"time\", how=\"all\").time\n",
    "        )\n",
    "        if n_time_notna < 0.5 * n_time:\n",
    "            da_eval_period = da_eval_period.drop_sel(model=model)\n",
    "\n",
    "    # Calculate the RMSE\n",
    "    da_error = metrics.rmse(da_bdgt_period, da_eval_period, dim=\"time\", skipna=True)\n",
    "    # Convert to data frame\n",
    "    df_error = da_error.to_pandas().unstack().reset_index(name=\"error\")\n",
    "    # Merge with basin frame\n",
    "    df_error = df_error.merge(basin_sizes)\n",
    "    # Add decriptive names\n",
    "    df_error[\"model_verbose\"] = df_error[\"model\"].map(vars_verbose)\n",
    "    # Repeat rows according to the basin size\n",
    "    df_error = repeat_by_weight(df_error, weight_col=\"area_int\")\n",
    "\n",
    "    df_errors.append(df_error)\n"
   ]
  },
  {
   "cell_type": "code",
   "execution_count": null,
   "metadata": {},
   "outputs": [],
   "source": [
    "# Create boxplots\n",
    "fig, axs = plt.subplots(\n",
    "    ncols=len(TIME_PERIODS), sharex=True, sharey=True, figsize=(7.2, 2.2)\n",
    ")\n",
    "locator = ticker.MultipleLocator(10)\n",
    "\n",
    "# Iterate over different time periods\n",
    "for ax, period, df_error in zip(axs, TIME_PERIODS, df_errors):\n",
    "    # Plot\n",
    "    sns.boxplot(\n",
    "        df_error,\n",
    "        x=\"error\",\n",
    "        y=\"model_verbose\",\n",
    "        hue=\"model\",\n",
    "        palette=colors_dict,\n",
    "        showfliers=False,\n",
    "        width=0.5,\n",
    "        saturation=1,\n",
    "        legend=False,\n",
    "        ax=ax,\n",
    "    )\n",
    "    ax.xaxis.grid()\n",
    "    ax.set(xlabel=\"RMSE (mm)\", ylabel=None)\n",
    "    ax.set_title(period[0] + \"--\" + period[1])\n",
    "    ax.xaxis.set_major_locator(locator)\n",
    "\n",
    "axs[0].set(xlim=(0, 40))\n"
   ]
  },
  {
   "cell_type": "markdown",
   "metadata": {},
   "source": [
    "Switch x and y axis, use color-coded legend instead of categorical axis labels:"
   ]
  },
  {
   "cell_type": "code",
   "execution_count": null,
   "metadata": {},
   "outputs": [],
   "source": [
    "# Create boxplots\n",
    "fig, axs = plt.subplots(\n",
    "    ncols=len(TIME_PERIODS), sharex=True, sharey=True, figsize=(7.2, 2.2)\n",
    ")\n",
    "# Iterate over different time periods\n",
    "for i, (ax, period, df_error) in enumerate(zip(axs, TIME_PERIODS, df_errors)):\n",
    "    # Plot\n",
    "    sns.boxplot(\n",
    "        df_error,\n",
    "        x=\"model_verbose\",\n",
    "        y=\"error\",\n",
    "        hue=\"model\",\n",
    "        palette=colors_dict,\n",
    "        showfliers=False,\n",
    "        width=0.5,\n",
    "        saturation=1,\n",
    "        legend=True if i == 3 else False,\n",
    "        ax=ax,\n",
    "    )\n",
    "    ax.yaxis.grid()\n",
    "    ax.set(ylabel=\"RMSE (mm)\", xlabel=None)\n",
    "    ax.set_title(period[0] + \"--\" + period[1])\n",
    "    ax.xaxis.set_visible(False)\n",
    "\n",
    "axs[0].set(ylim=(0, 35))\n",
    "\n",
    "# Move legend outside the axes\n",
    "leg = fig.legend(loc=\"outside right\")\n",
    "for text in leg.texts:\n",
    "    text.set_text(vars_verbose[text.get_text()])\n",
    "axs[-1].legend().remove()"
   ]
  },
  {
   "cell_type": "markdown",
   "metadata": {},
   "source": [
    "## Combine Everything"
   ]
  },
  {
   "cell_type": "code",
   "execution_count": null,
   "metadata": {},
   "outputs": [],
   "source": [
    "# Subfigure approach\n",
    "fig = plt.figure(figsize=(7.2, 6))\n",
    "subfigs = fig.subfigures(nrows=3, hspace=0.05, height_ratios=[1, 1, 1.2])\n",
    "\n",
    "axs_rmse = subfigs[0].subplots(1, 3, subplot_kw={\"projection\": ccrs.EqualEarth()})\n",
    "axs_nse = subfigs[1].subplots(1, 3, subplot_kw={\"projection\": ccrs.EqualEarth()})\n",
    "axs_box = subfigs[2].subplots(1, 4, sharex=True, sharey=True)\n",
    "\n",
    "\n",
    "### MAP PLOTS ###\n",
    "\n",
    "axs_geo = [*axs_rmse, *axs_nse]\n",
    "\n",
    "# RMSE Ours Pre-GRACE\n",
    "p_rmse = our_rmse_pre.dr.projplot_basins(spatial_dummy, ax=axs_rmse[0], **rmse_kwargs)\n",
    "axs_rmse[0].set(title=\"DeepRec, 1980--2001\")\n",
    "\n",
    "# RMSE Ours GRACE era\n",
    "our_rmse_post.dr.projplot_basins(spatial_dummy, ax=axs_rmse[1], **rmse_kwargs)\n",
    "axs_rmse[1].set(title=\"DeepRec, 2002--2019\")\n",
    "\n",
    "# RMSE GRACE\n",
    "csr_rmse_post.dr.projplot_basins(spatial_dummy, ax=axs_rmse[2], **rmse_kwargs)\n",
    "axs_rmse[2].set(title=\"GRACE, 2002--2019\")\n",
    "\n",
    "# NSE Ours Pre-GRACE\n",
    "p_nse = our_nse_pre.dr.projplot_basins(spatial_dummy, ax=axs_nse[0], **nse_kwargs)\n",
    "axs_nse[0].set(title=\"DeepRec, 1980--2001\")\n",
    "\n",
    "# NSE Ours GRACE era\n",
    "our_nse_post.dr.projplot_basins(spatial_dummy, ax=axs_nse[1], **nse_kwargs)\n",
    "axs_nse[1].set(title=\"DeepRec, 2002--2019\")\n",
    "\n",
    "# NSE GRACE\n",
    "csr_nse_post.dr.projplot_basins(spatial_dummy, ax=axs_nse[2], **nse_kwargs)\n",
    "axs_nse[2].set(title=\"GRACE, 2002--2019\")\n",
    "\n",
    "for ax in axs_geo:\n",
    "    # Add basinlines\n",
    "    gdf_basin_shapes.dr.projplot(ax=ax, **basinlines_kwargs)\n",
    "\n",
    "# Add colorbars\n",
    "subfigs[0].colorbar(p_rmse, ax=axs_rmse, label=\"RMSE (mm)\", **rmse_cbar_kwargs)\n",
    "subfigs[0].colorbar(p_nse, ax=axs_nse, label=\"NSE\", **nse_cbar_kwargs)\n",
    "\n",
    "\n",
    "### BOXPLOTS ###\n",
    "\n",
    "locator = ticker.MultipleLocator(10)\n",
    "\n",
    "# Iterate over different time periods\n",
    "for i, (ax, period, df_error) in enumerate(zip(axs_box, TIME_PERIODS, df_errors)):\n",
    "    # Plot\n",
    "    sns.boxplot(\n",
    "        df_error,\n",
    "        x=\"model_verbose\",\n",
    "        y=\"error\",\n",
    "        hue=\"model\",\n",
    "        palette=colors_dict,\n",
    "        showfliers=False,\n",
    "        width=0.5,\n",
    "        saturation=1,\n",
    "        ax=ax,\n",
    "        legend=True if i == 3 else False,\n",
    "    )\n",
    "    ax.set(ylabel=\"RMSE (mm)\", xlabel=None)\n",
    "    ax.set_title(period[0] + \"--\" + period[1])\n",
    "    ax.xaxis.set_visible(False)\n",
    "    ax.yaxis.grid()\n",
    "\n",
    "axs_box[0].set(ylim=(0, 35))\n",
    "\n",
    "# Move legend outside the axes\n",
    "leg = subfigs[2].legend(loc=\"outside right\")\n",
    "for text in leg.texts:\n",
    "    text.set_text(vars_verbose[text.get_text()])\n",
    "axs_box[3].legend().remove()\n",
    "\n",
    "### LETTERS ###\n",
    "\n",
    "for n, ax in enumerate(axs_geo):\n",
    "    ax.text(\n",
    "        0.0,\n",
    "        1.0 - 0.10,\n",
    "        string.ascii_lowercase[n],\n",
    "        transform=ax.transAxes,\n",
    "        size=\"x-large\",\n",
    "        weight=\"bold\",\n",
    "    )\n",
    "for n, ax in enumerate(axs_box):\n",
    "    ax.text(\n",
    "        0.0,\n",
    "        1.0 + 0.05,\n",
    "        string.ascii_lowercase[n + len(axs_geo)],\n",
    "        ha=\"center\",\n",
    "        transform=ax.transAxes,\n",
    "        size=\"x-large\",\n",
    "        weight=\"bold\",\n",
    "    )\n",
    "\n",
    "fig.savefig(FIGURE_DIR / \"bdgt_closure.pdf\", backend=\"pgf\")\n"
   ]
  }
 ],
 "metadata": {
  "kernelspec": {
   "display_name": ".venv",
   "language": "python",
   "name": "python3"
  },
  "language_info": {
   "codemirror_mode": {
    "name": "ipython",
    "version": 3
   },
   "file_extension": ".py",
   "mimetype": "text/x-python",
   "name": "python",
   "nbconvert_exporter": "python",
   "pygments_lexer": "ipython3",
   "version": "3.13.2"
  }
 },
 "nbformat": 4,
 "nbformat_minor": 2
}
