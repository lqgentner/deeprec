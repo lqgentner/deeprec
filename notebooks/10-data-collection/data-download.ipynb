{
 "cells": [
  {
   "cell_type": "markdown",
   "metadata": {},
   "source": [
    "# Dataset Downloads\n",
    "\n",
    "This notebooks handles the download of all datasets used in this study.\n"
   ]
  },
  {
   "cell_type": "code",
   "execution_count": 1,
   "metadata": {},
   "outputs": [
    {
     "name": "stdout",
     "output_type": "stream",
     "text": [
      "Download path: C:\\Users\\luisg\\Repositories\\deeprec\\data\\raw\n"
     ]
    }
   ],
   "source": [
    "import os\n",
    "import zipfile\n",
    "\n",
    "import cdsapi\n",
    "import pandas as pd\n",
    "import xarray as xr\n",
    "from tqdm.std import tqdm\n",
    "\n",
    "from deeprec.utils import ROOT_DIR, download_file, download_zip\n",
    "\n",
    "# Set download path\n",
    "DL_PATH = ROOT_DIR / \"data/raw\"\n",
    "DL_PATH.mkdir(parents=True, exist_ok=True)\n",
    "print(f\"Download path: {DL_PATH}\")"
   ]
  },
  {
   "cell_type": "markdown",
   "metadata": {},
   "source": [
    "## Mascons"
   ]
  },
  {
   "cell_type": "markdown",
   "metadata": {},
   "source": [
    "### JPL Mascons\n",
    "\n",
    "Global surface mass changes (land + ocean) updated monthly, and is provided on 0.5-degree global grids ([Dataset description](https://grace.jpl.nasa.gov/data/get-data/jpl_global_mascons/))."
   ]
  },
  {
   "cell_type": "code",
   "execution_count": 6,
   "metadata": {},
   "outputs": [],
   "source": [
    "start_date = \"2002-04-04\"\n",
    "end_date = \"2024-12-31\"\n",
    "\n",
    "dataset = \"TELLUS_GRAC-GRFO_MASCON_CRI_GRID_RL06.3_V4\"\n",
    "outdir = DL_PATH / \"targets/jpl-mascons\""
   ]
  },
  {
   "cell_type": "code",
   "execution_count": 3,
   "metadata": {},
   "outputs": [],
   "source": [
    "def to_podaac_datetime(date: str) -> str:\n",
    "    return pd.to_datetime(date).strftime(\"%Y-%m-%dT%H:%M:%SZ\")"
   ]
  },
  {
   "cell_type": "code",
   "execution_count": 7,
   "metadata": {
    "vscode": {
     "languageId": "powershell"
    }
   },
   "outputs": [
    {
     "name": "stdout",
     "output_type": "stream",
     "text": [
      "[2024-12-05 11:42:35,128] {podaac_data_downloader.py:317} INFO - Found 1 total files to download\n",
      "[2024-12-05 11:42:43,625] {podaac_data_downloader.py:358} INFO - 2024-12-05 11:42:43.625576 SUCCESS: https://archive.podaac.earthdata.nasa.gov/podaac-ops-cumulus-protected/TELLUS_GRAC-GRFO_MASCON_CRI_GRID_RL06.3_V4/GRCTellus.JPL.200204_202409.GLO.RL06.3M.MSCNv04CRI.nc\n",
      "[2024-12-05 11:42:43,625] {podaac_data_downloader.py:369} INFO - Downloaded Files: 1\n",
      "[2024-12-05 11:42:43,625] {podaac_data_downloader.py:370} INFO - Failed Files:     0\n",
      "[2024-12-05 11:42:43,625] {podaac_data_downloader.py:371} INFO - Skipped Files:    0\n",
      "[2024-12-05 11:42:43,625] {podaac_data_downloader.py:177} INFO - Success Count: 1\n",
      "[2024-12-05 11:42:44,027] {podaac_data_downloader.py:186} INFO - END\n",
      "\n",
      "\n"
     ]
    }
   ],
   "source": [
    "!(podaac-data-downloader -c { dataset } -d { outdir } -sd { to_podaac_datetime(start_date) } -ed { to_podaac_datetime(end_date) } -e \".nc\")"
   ]
  },
  {
   "cell_type": "markdown",
   "metadata": {},
   "source": [
    "### CSR Mascons\n",
    "\n",
    "[Website](https://www2.csr.utexas.edu/grace/RL06_mascons.html)"
   ]
  },
  {
   "cell_type": "code",
   "execution_count": null,
   "metadata": {},
   "outputs": [],
   "source": [
    "outdir = DL_PATH / \"targets/csr-mascons\"\n",
    "url = \"https://download.csr.utexas.edu/outgoing/grace/RL0603_mascons/CSR_GRACE_GRACE-FO_RL0603_Mascons_all-corrections.nc\"\n",
    "download_file(url, outdir)"
   ]
  },
  {
   "cell_type": "markdown",
   "metadata": {},
   "source": [
    "### GSFC Mascons\n",
    "\n",
    "[Website](https://earth.gsfc.nasa.gov/geo/data/grace-mascons)\n"
   ]
  },
  {
   "cell_type": "code",
   "execution_count": 4,
   "metadata": {},
   "outputs": [],
   "source": [
    "outdir = DL_PATH / \"targets/gsfc-mascons\"\n",
    "url = \"https://earth.gsfc.nasa.gov/sites/default/files/geo/gsfc.glb_.200204_202406_rl06v2.0_obp-ice6gd_halfdegree.nc\"\n",
    "download_file(url, outdir)"
   ]
  },
  {
   "cell_type": "markdown",
   "metadata": {},
   "source": [
    "## Hydrologic models\n",
    "\n",
    "### WaterGAP Global Hydrology Model (WGHM) 2.2e\n",
    "\n",
    "- [Dataset on the Goethe University Data Repository](https://gude.uni-frankfurt.de/entities/researchdata/c53bb505-a620-4860-b2a2-d5a6de74dbd9/details)\n",
    "- [Preprint of paper on WaterGAP 2.2e](https://doi.org/10.5194/gmd-2023-213)\n",
    "\n",
    "*Download links might change in the future, currently there is no public API available.*"
   ]
  },
  {
   "cell_type": "code",
   "execution_count": 4,
   "metadata": {},
   "outputs": [
    {
     "name": "stderr",
     "output_type": "stream",
     "text": [
      "100%|██████████| 4/4 [00:12<00:00,  3.12s/it, Downloading watergap22e_gswp3-w5e5]\n"
     ]
    }
   ],
   "source": [
    "outdir = DL_PATH / \"inputs/watergap22e\"\n",
    "urls = {\n",
    "    \"20crv-era5\": \"https://api.gude.uni-frankfurt.de/api/core/bitstreams/07183cd6-9d47-4cb2-bc60-00436b0ecd39/content\",\n",
    "    \"gswp3-era5\": \"https://api.gude.uni-frankfurt.de/api/core/bitstreams/879ce7c3-4d21-4ee1-a83c-e830b13b9d2e/content\",\n",
    "    \"20crv-w5e5\": \"https://api.gude.uni-frankfurt.de/api/core/bitstreams/2b22924a-0981-4f6c-886c-542d19db7783/content\",\n",
    "    \"gswp3-w5e5\": \"https://api.gude.uni-frankfurt.de/api/core/bitstreams/adee0d04-c414-420e-85ef-89d3e83e32e9/content\",\n",
    "}\n",
    "for name, url in (pbar := tqdm(urls.items())):\n",
    "    pbar.set_postfix_str(f\"Downloading watergap22e_{name}\")\n",
    "    download_file(url, outdir)"
   ]
  },
  {
   "cell_type": "markdown",
   "metadata": {},
   "source": [
    "## Weather and climate data"
   ]
  },
  {
   "cell_type": "markdown",
   "metadata": {},
   "source": [
    "### ERA5\n",
    "\n",
    "ERA5 data could be combined with the ISIMIP 20CRv3-ERA5 dataset to make up the missing years 2022 and 2023.\n",
    "\n",
    "- Temporal coverage: 1940 to present\n",
    "- Temporal frequency:\n",
    "  - hourly\n",
    "  - monthly averaged by hour of day (synoptic monthly means)\n",
    "  - monthly averaged\n",
    "- Spatial resolution:\n",
    "  - Reanalysis: 0.25° x 0.25° (atmosphere), 0.5° x 0.5° (ocean waves)\n",
    "  - Mean, spread and members: 0.5° x 0.5° (atmosphere), 1° x 1° (ocean waves)\n",
    "\n",
    "\n",
    "Useful links:\n",
    "- [CDS: ERA5 single levels monthly means](https://cds.climate.copernicus.eu/datasets/reanalysis-era5-single-levels-monthly-means)\n",
    "- [ERA5 data documentation](https://confluence.ecmwf.int/display/CKB/ERA5%3A+data+documentation)\n",
    "- [How to download ERA5](https://confluence.ecmwf.int/display/CKB/How+to+download+ERA5)"
   ]
  },
  {
   "cell_type": "code",
   "execution_count": 2,
   "metadata": {},
   "outputs": [
    {
     "name": "stderr",
     "output_type": "stream",
     "text": [
      "2024-12-05 13:23:41,111 INFO [2024-09-28T00:00:00] **Welcome to the New Climate Data Store (CDS)!** This new system is in its early days of full operations and still undergoing enhancements and fine tuning. Some disruptions are to be expected. Your \n",
      "[feedback](https://jira.ecmwf.int/plugins/servlet/desk/portal/1/create/202) is key to improve the user experience on the new CDS for the benefit of everyone. Thank you.\n",
      "2024-12-05 13:23:41,112 INFO [2024-09-26T00:00:00] Watch our [Forum](https://forum.ecmwf.int/) for Announcements, news and other discussed topics.\n",
      "2024-12-05 13:23:41,112 INFO [2024-09-16T00:00:00] Remember that you need to have an ECMWF account to use the new CDS. **Your old CDS credentials will not work in new CDS!**\n",
      "2024-12-05 13:23:41,113 WARNING [2024-06-16T00:00:00] CDS API syntax is changed and some keys or parameter names may have also changed. To avoid requests failing, please use the \"Show API request code\" tool on the dataset Download Form to check you are using the correct syntax for your API request.\n"
     ]
    },
    {
     "name": "stdout",
     "output_type": "stream",
     "text": [
      "========================================\n",
      "Downloading `2m_temperature`...\n"
     ]
    },
    {
     "name": "stderr",
     "output_type": "stream",
     "text": [
      "2024-12-05 13:23:44,626 WARNING [2024-10-10T00:00:00] The final validated ERA5 differs from ERA5T from July 2024 until further notice - please refer to our\n",
      "[Forum announcement](https://forum.ecmwf.int/t/final-validated-era5-product-to-differ-from-era5t-in-july-2024/6685)\n",
      "for details and watch it for further updates on this.\n",
      "2024-12-05 13:23:44,627 INFO Request ID is f955ee6e-2e61-48a4-8932-e385d8ab13a2\n",
      "2024-12-05 13:23:44,822 INFO status has been updated to accepted\n",
      "2024-12-05 13:24:01,235 INFO status has been updated to successful\n"
     ]
    },
    {
     "data": {
      "application/vnd.jupyter.widget-view+json": {
       "model_id": "61b86d910efc4769b3aaee3de9a74837",
       "version_major": 2,
       "version_minor": 0
      },
      "text/plain": [
       "458d2625383eebb0496ef65fb8522080.nc:   0%|          | 0.00/1.28G [00:00<?, ?B/s]"
      ]
     },
     "metadata": {},
     "output_type": "display_data"
    },
    {
     "name": "stdout",
     "output_type": "stream",
     "text": [
      "========================================\n",
      "Downloading `2m_dewpoint_temperature`...\n"
     ]
    },
    {
     "name": "stderr",
     "output_type": "stream",
     "text": [
      "2024-12-05 13:28:11,818 WARNING [2024-10-10T00:00:00] The final validated ERA5 differs from ERA5T from July 2024 until further notice - please refer to our\n",
      "[Forum announcement](https://forum.ecmwf.int/t/final-validated-era5-product-to-differ-from-era5t-in-july-2024/6685)\n",
      "for details and watch it for further updates on this.\n",
      "2024-12-05 13:28:11,819 INFO Request ID is fa7b5091-71b6-45d5-83a1-12852ad95f5d\n",
      "2024-12-05 13:28:13,183 INFO status has been updated to accepted\n",
      "2024-12-05 13:28:21,626 INFO status has been updated to running\n",
      "2024-12-05 13:30:07,425 WARNING Structural differences in grib fields detected when opening in xarray. Opening the grib file safely, however this may result in files with non-intuitive filenames.\n",
      "2024-12-05 13:32:32,196 INFO status has been updated to successful\n"
     ]
    },
    {
     "data": {
      "application/vnd.jupyter.widget-view+json": {
       "model_id": "96b124202cb7481084f4c716b650626c",
       "version_major": 2,
       "version_minor": 0
      },
      "text/plain": [
       "21a9f27481bfba6b8cb809a0bc2209d8.nc:   0%|          | 0.00/1.26G [00:00<?, ?B/s]"
      ]
     },
     "metadata": {},
     "output_type": "display_data"
    },
    {
     "name": "stdout",
     "output_type": "stream",
     "text": [
      "========================================\n",
      "Downloading `high_vegetation_cover`...\n"
     ]
    },
    {
     "name": "stderr",
     "output_type": "stream",
     "text": [
      "2024-12-05 13:36:30,193 WARNING [2024-10-10T00:00:00] The final validated ERA5 differs from ERA5T from July 2024 until further notice - please refer to our\n",
      "[Forum announcement](https://forum.ecmwf.int/t/final-validated-era5-product-to-differ-from-era5t-in-july-2024/6685)\n",
      "for details and watch it for further updates on this.\n",
      "2024-12-05 13:36:30,194 INFO Request ID is 7b3736d2-42f3-40bc-92d4-c6abe0f5206d\n",
      "2024-12-05 13:36:30,265 INFO status has been updated to accepted\n",
      "2024-12-05 13:36:39,033 INFO status has been updated to running\n",
      "2024-12-05 13:39:30,270 WARNING Structural differences in grib fields detected when opening in xarray. Opening the grib file safely, however this may result in files with non-intuitive filenames.\n",
      "2024-12-05 13:40:56,961 INFO status has been updated to successful\n"
     ]
    },
    {
     "data": {
      "application/vnd.jupyter.widget-view+json": {
       "model_id": "fe7408566b6c47408fd43d3737b5a1a0",
       "version_major": 2,
       "version_minor": 0
      },
      "text/plain": [
       "e69ec12e3b8a975846d3d67b474b1db9.nc:   0%|          | 0.00/101M [00:00<?, ?B/s]"
      ]
     },
     "metadata": {},
     "output_type": "display_data"
    },
    {
     "name": "stdout",
     "output_type": "stream",
     "text": [
      "========================================\n",
      "Downloading `low_vegetation_cover`...\n"
     ]
    },
    {
     "name": "stderr",
     "output_type": "stream",
     "text": [
      "2024-12-05 13:41:11,973 WARNING [2024-10-10T00:00:00] The final validated ERA5 differs from ERA5T from July 2024 until further notice - please refer to our\n",
      "[Forum announcement](https://forum.ecmwf.int/t/final-validated-era5-product-to-differ-from-era5t-in-july-2024/6685)\n",
      "for details and watch it for further updates on this.\n",
      "2024-12-05 13:41:11,974 INFO Request ID is 6ff9fa94-8b25-4d1f-a6ee-3c0f69512d97\n",
      "2024-12-05 13:41:13,100 INFO status has been updated to accepted\n",
      "2024-12-05 13:41:22,984 INFO status has been updated to running\n",
      "2024-12-05 13:44:10,465 WARNING Structural differences in grib fields detected when opening in xarray. Opening the grib file safely, however this may result in files with non-intuitive filenames.\n",
      "2024-12-05 13:44:10,467 INFO status has been updated to successful\n"
     ]
    },
    {
     "data": {
      "application/vnd.jupyter.widget-view+json": {
       "model_id": "6b3903c066d443bbac5c727754af8db3",
       "version_major": 2,
       "version_minor": 0
      },
      "text/plain": [
       "5dfcb2cefc574ccc0a31b05e076ace08.nc:   0%|          | 0.00/124M [00:00<?, ?B/s]"
      ]
     },
     "metadata": {},
     "output_type": "display_data"
    },
    {
     "name": "stdout",
     "output_type": "stream",
     "text": [
      "========================================\n",
      "Downloading `evaporation`...\n"
     ]
    },
    {
     "name": "stderr",
     "output_type": "stream",
     "text": [
      "2024-12-05 13:44:16,440 WARNING [2024-10-10T00:00:00] The final validated ERA5 differs from ERA5T from July 2024 until further notice - please refer to our\n",
      "[Forum announcement](https://forum.ecmwf.int/t/final-validated-era5-product-to-differ-from-era5t-in-july-2024/6685)\n",
      "for details and watch it for further updates on this.\n",
      "2024-12-05 13:44:16,440 INFO Request ID is 142c4273-5441-41c9-abfb-a3e6b0737ca3\n",
      "2024-12-05 13:44:16,867 INFO status has been updated to accepted\n",
      "2024-12-05 13:44:31,132 INFO status has been updated to running\n",
      "2024-12-05 13:46:16,266 WARNING Structural differences in grib fields detected when opening in xarray. Opening the grib file safely, however this may result in files with non-intuitive filenames.\n",
      "2024-12-05 13:48:42,552 INFO status has been updated to successful\n"
     ]
    },
    {
     "data": {
      "application/vnd.jupyter.widget-view+json": {
       "model_id": "2e7131463d424488bc16b3e3e8b618a8",
       "version_major": 2,
       "version_minor": 0
      },
      "text/plain": [
       "ebcc0232bdbac3efa3f0148115d787ae.nc:   0%|          | 0.00/1.61G [00:00<?, ?B/s]"
      ]
     },
     "metadata": {},
     "output_type": "display_data"
    },
    {
     "name": "stdout",
     "output_type": "stream",
     "text": [
      "========================================\n",
      "Downloading `potential_evaporation`...\n"
     ]
    },
    {
     "name": "stderr",
     "output_type": "stream",
     "text": [
      "2024-12-05 13:53:10,880 WARNING [2024-10-10T00:00:00] The final validated ERA5 differs from ERA5T from July 2024 until further notice - please refer to our\n",
      "[Forum announcement](https://forum.ecmwf.int/t/final-validated-era5-product-to-differ-from-era5t-in-july-2024/6685)\n",
      "for details and watch it for further updates on this.\n",
      "2024-12-05 13:53:10,880 INFO Request ID is be789253-72fb-4556-87d9-be96c4db0838\n",
      "2024-12-05 13:53:13,543 INFO status has been updated to accepted\n",
      "2024-12-05 13:53:14,611 INFO status has been updated to running\n",
      "2024-12-05 13:55:12,456 WARNING Structural differences in grib fields detected when opening in xarray. Opening the grib file safely, however this may result in files with non-intuitive filenames.\n",
      "2024-12-05 13:56:10,491 INFO status has been updated to successful\n"
     ]
    },
    {
     "data": {
      "application/vnd.jupyter.widget-view+json": {
       "model_id": "70c71622f3b4471ca035a3638c826894",
       "version_major": 2,
       "version_minor": 0
      },
      "text/plain": [
       "eb7584125878247d38f0a1d9b72d3dfc.nc:   0%|          | 0.00/657M [00:00<?, ?B/s]"
      ]
     },
     "metadata": {},
     "output_type": "display_data"
    },
    {
     "name": "stdout",
     "output_type": "stream",
     "text": [
      "========================================\n",
      "Downloading `runoff`...\n"
     ]
    },
    {
     "name": "stderr",
     "output_type": "stream",
     "text": [
      "2024-12-05 13:58:19,906 WARNING [2024-10-10T00:00:00] The final validated ERA5 differs from ERA5T from July 2024 until further notice - please refer to our\n",
      "[Forum announcement](https://forum.ecmwf.int/t/final-validated-era5-product-to-differ-from-era5t-in-july-2024/6685)\n",
      "for details and watch it for further updates on this.\n",
      "2024-12-05 13:58:19,907 INFO Request ID is 8a039556-c4d0-40a1-a2b0-51cd290cc8c2\n",
      "2024-12-05 13:58:22,380 INFO status has been updated to accepted\n",
      "2024-12-05 13:58:24,352 INFO status has been updated to running\n",
      "2024-12-05 14:00:29,984 WARNING Structural differences in grib fields detected when opening in xarray. Opening the grib file safely, however this may result in files with non-intuitive filenames.\n",
      "2024-12-05 14:01:28,045 INFO status has been updated to successful\n"
     ]
    },
    {
     "data": {
      "application/vnd.jupyter.widget-view+json": {
       "model_id": "0230b6363daa492c97c30dda3b972446",
       "version_major": 2,
       "version_minor": 0
      },
      "text/plain": [
       "918d8e4f91eb5e76ebfd637d6bf41bac.nc:   0%|          | 0.00/345M [00:00<?, ?B/s]"
      ]
     },
     "metadata": {},
     "output_type": "display_data"
    },
    {
     "name": "stdout",
     "output_type": "stream",
     "text": [
      "========================================\n",
      "Downloading `snowfall`...\n"
     ]
    },
    {
     "name": "stderr",
     "output_type": "stream",
     "text": [
      "2024-12-05 14:01:45,969 WARNING [2024-10-10T00:00:00] The final validated ERA5 differs from ERA5T from July 2024 until further notice - please refer to our\n",
      "[Forum announcement](https://forum.ecmwf.int/t/final-validated-era5-product-to-differ-from-era5t-in-july-2024/6685)\n",
      "for details and watch it for further updates on this.\n",
      "2024-12-05 14:01:45,970 INFO Request ID is 9e16ddbf-1326-4810-9e8c-d628d80336da\n",
      "2024-12-05 14:01:46,131 INFO status has been updated to accepted\n",
      "2024-12-05 14:01:51,580 INFO status has been updated to running\n",
      "2024-12-05 14:02:00,342 INFO status has been updated to successful\n"
     ]
    },
    {
     "data": {
      "application/vnd.jupyter.widget-view+json": {
       "model_id": "2ef27826c0814720b3beb4afd20f5045",
       "version_major": 2,
       "version_minor": 0
      },
      "text/plain": [
       "e09251f0605b89b3e79f1303bd516876.nc:   0%|          | 0.00/629M [00:00<?, ?B/s]"
      ]
     },
     "metadata": {},
     "output_type": "display_data"
    },
    {
     "name": "stdout",
     "output_type": "stream",
     "text": [
      "========================================\n",
      "Downloading `snowmelt`...\n"
     ]
    },
    {
     "name": "stderr",
     "output_type": "stream",
     "text": [
      "2024-12-05 14:03:13,861 WARNING [2024-10-10T00:00:00] The final validated ERA5 differs from ERA5T from July 2024 until further notice - please refer to our\n",
      "[Forum announcement](https://forum.ecmwf.int/t/final-validated-era5-product-to-differ-from-era5t-in-july-2024/6685)\n",
      "for details and watch it for further updates on this.\n",
      "2024-12-05 14:03:13,862 INFO Request ID is 5d80a23c-400a-4193-8cab-f714c481227f\n",
      "2024-12-05 14:03:14,048 INFO status has been updated to accepted\n",
      "2024-12-05 14:03:17,946 INFO status has been updated to running\n",
      "2024-12-05 14:03:20,531 INFO status has been updated to successful\n"
     ]
    },
    {
     "data": {
      "application/vnd.jupyter.widget-view+json": {
       "model_id": "cb400063430f4f179bdd4f32bb004547",
       "version_major": 2,
       "version_minor": 0
      },
      "text/plain": [
       "46d4dc2dcbb45ee995f5103cab8b3eef.nc:   0%|          | 0.00/149M [00:00<?, ?B/s]"
      ]
     },
     "metadata": {},
     "output_type": "display_data"
    },
    {
     "name": "stdout",
     "output_type": "stream",
     "text": [
      "========================================\n",
      "Downloading `snow_depth`...\n"
     ]
    },
    {
     "name": "stderr",
     "output_type": "stream",
     "text": [
      "2024-12-05 14:03:24,773 WARNING [2024-10-10T00:00:00] The final validated ERA5 differs from ERA5T from July 2024 until further notice - please refer to our\n",
      "[Forum announcement](https://forum.ecmwf.int/t/final-validated-era5-product-to-differ-from-era5t-in-july-2024/6685)\n",
      "for details and watch it for further updates on this.\n",
      "2024-12-05 14:03:24,773 INFO Request ID is 03421b05-d581-4223-83c5-19a377deb0b4\n",
      "2024-12-05 14:03:26,089 INFO status has been updated to accepted\n",
      "2024-12-05 14:03:33,123 INFO status has been updated to successful\n"
     ]
    },
    {
     "data": {
      "application/vnd.jupyter.widget-view+json": {
       "model_id": "e666e7a9a49248bbaf971a7f7a13d8b0",
       "version_major": 2,
       "version_minor": 0
      },
      "text/plain": [
       "d4ff72291f4010abea99ff04ee92fb0b.nc:   0%|          | 0.00/264M [00:00<?, ?B/s]"
      ]
     },
     "metadata": {},
     "output_type": "display_data"
    },
    {
     "name": "stdout",
     "output_type": "stream",
     "text": [
      "========================================\n",
      "Downloading `snow_evaporation`...\n"
     ]
    },
    {
     "name": "stderr",
     "output_type": "stream",
     "text": [
      "2024-12-05 14:04:03,015 WARNING [2024-10-10T00:00:00] The final validated ERA5 differs from ERA5T from July 2024 until further notice - please refer to our\n",
      "[Forum announcement](https://forum.ecmwf.int/t/final-validated-era5-product-to-differ-from-era5t-in-july-2024/6685)\n",
      "for details and watch it for further updates on this.\n",
      "2024-12-05 14:04:03,015 INFO Request ID is e5d85463-5354-4d40-80f2-c45ef2f0ca80\n",
      "2024-12-05 14:04:03,076 INFO status has been updated to accepted\n",
      "2024-12-05 14:04:08,917 INFO status has been updated to running\n",
      "2024-12-05 14:04:15,667 INFO status has been updated to successful\n"
     ]
    },
    {
     "data": {
      "application/vnd.jupyter.widget-view+json": {
       "model_id": "afa8d371996e482e8a16e2a3d3b31292",
       "version_major": 2,
       "version_minor": 0
      },
      "text/plain": [
       "b706afee74e5fedba79efaf876a24129.nc:   0%|          | 0.00/430M [00:00<?, ?B/s]"
      ]
     },
     "metadata": {},
     "output_type": "display_data"
    },
    {
     "name": "stdout",
     "output_type": "stream",
     "text": [
      "========================================\n",
      "Downloading `surface_pressure`...\n"
     ]
    },
    {
     "name": "stderr",
     "output_type": "stream",
     "text": [
      "2024-12-05 14:04:26,714 WARNING [2024-10-10T00:00:00] The final validated ERA5 differs from ERA5T from July 2024 until further notice - please refer to our\n",
      "[Forum announcement](https://forum.ecmwf.int/t/final-validated-era5-product-to-differ-from-era5t-in-july-2024/6685)\n",
      "for details and watch it for further updates on this.\n",
      "2024-12-05 14:04:26,714 INFO Request ID is dd87fccf-86b6-46df-87dc-dc281918a5d7\n",
      "2024-12-05 14:04:28,536 INFO status has been updated to accepted\n",
      "2024-12-05 14:04:35,523 INFO status has been updated to running\n",
      "2024-12-05 14:06:30,877 WARNING Structural differences in grib fields detected when opening in xarray. Opening the grib file safely, however this may result in files with non-intuitive filenames.\n",
      "2024-12-05 14:08:55,565 INFO status has been updated to successful\n"
     ]
    },
    {
     "data": {
      "application/vnd.jupyter.widget-view+json": {
       "model_id": "7b7f3fd5c5de40d6aff1478023711a2b",
       "version_major": 2,
       "version_minor": 0
      },
      "text/plain": [
       "9296bb89cf477e6d853a80e2197d90b6.nc:   0%|          | 0.00/1.24G [00:00<?, ?B/s]"
      ]
     },
     "metadata": {},
     "output_type": "display_data"
    },
    {
     "name": "stdout",
     "output_type": "stream",
     "text": [
      "========================================\n",
      "Downloading `leaf_area_index_high_vegetation`...\n"
     ]
    },
    {
     "name": "stderr",
     "output_type": "stream",
     "text": [
      "2024-12-05 14:12:19,249 WARNING [2024-10-10T00:00:00] The final validated ERA5 differs from ERA5T from July 2024 until further notice - please refer to our\n",
      "[Forum announcement](https://forum.ecmwf.int/t/final-validated-era5-product-to-differ-from-era5t-in-july-2024/6685)\n",
      "for details and watch it for further updates on this.\n",
      "2024-12-05 14:12:19,250 INFO Request ID is 28468968-6f95-4929-a54f-bc509edca2a6\n",
      "2024-12-05 14:12:20,183 INFO status has been updated to accepted\n",
      "2024-12-05 14:12:25,054 INFO status has been updated to running\n",
      "2024-12-05 14:14:19,804 WARNING Structural differences in grib fields detected when opening in xarray. Opening the grib file safely, however this may result in files with non-intuitive filenames.\n",
      "2024-12-05 14:15:18,043 INFO status has been updated to successful\n"
     ]
    },
    {
     "data": {
      "application/vnd.jupyter.widget-view+json": {
       "model_id": "8010f21709574c91b7782ef3198da23d",
       "version_major": 2,
       "version_minor": 0
      },
      "text/plain": [
       "ad3af6c8611bccca0680ba5499eec8f2.nc:   0%|          | 0.00/372M [00:00<?, ?B/s]"
      ]
     },
     "metadata": {},
     "output_type": "display_data"
    },
    {
     "name": "stdout",
     "output_type": "stream",
     "text": [
      "========================================\n",
      "Downloading `leaf_area_index_low_vegetation`...\n"
     ]
    },
    {
     "name": "stderr",
     "output_type": "stream",
     "text": [
      "2024-12-05 14:16:30,744 WARNING [2024-10-10T00:00:00] The final validated ERA5 differs from ERA5T from July 2024 until further notice - please refer to our\n",
      "[Forum announcement](https://forum.ecmwf.int/t/final-validated-era5-product-to-differ-from-era5t-in-july-2024/6685)\n",
      "for details and watch it for further updates on this.\n",
      "2024-12-05 14:16:30,745 INFO Request ID is bf9d8c03-0f81-44dd-a9b8-7e537b3466dd\n",
      "2024-12-05 14:16:31,642 INFO status has been updated to accepted\n",
      "2024-12-05 14:16:35,983 INFO status has been updated to running\n",
      "2024-12-05 14:18:31,529 WARNING Structural differences in grib fields detected when opening in xarray. Opening the grib file safely, however this may result in files with non-intuitive filenames.\n",
      "2024-12-05 14:19:29,638 INFO status has been updated to successful\n"
     ]
    },
    {
     "data": {
      "application/vnd.jupyter.widget-view+json": {
       "model_id": "95c07ba4e4df4cf2a9683de59798133e",
       "version_major": 2,
       "version_minor": 0
      },
      "text/plain": [
       "638856ed3fae44e9cbe2b77fb95d167d.nc:   0%|          | 0.00/426M [00:00<?, ?B/s]"
      ]
     },
     "metadata": {},
     "output_type": "display_data"
    },
    {
     "name": "stdout",
     "output_type": "stream",
     "text": [
      "========================================\n",
      "Downloading `sub_surface_runoff`...\n"
     ]
    },
    {
     "name": "stderr",
     "output_type": "stream",
     "text": [
      "2024-12-05 14:20:01,974 WARNING [2024-10-10T00:00:00] The final validated ERA5 differs from ERA5T from July 2024 until further notice - please refer to our\n",
      "[Forum announcement](https://forum.ecmwf.int/t/final-validated-era5-product-to-differ-from-era5t-in-july-2024/6685)\n",
      "for details and watch it for further updates on this.\n",
      "2024-12-05 14:20:01,974 INFO Request ID is 2ab664e4-cd73-4602-b9ef-b28447e7d1ac\n",
      "2024-12-05 14:20:02,112 INFO status has been updated to accepted\n",
      "2024-12-05 14:20:11,790 INFO status has been updated to running\n",
      "2024-12-05 14:22:01,617 WARNING Structural differences in grib fields detected when opening in xarray. Opening the grib file safely, however this may result in files with non-intuitive filenames.\n",
      "2024-12-05 14:23:00,232 INFO status has been updated to successful\n"
     ]
    },
    {
     "data": {
      "application/vnd.jupyter.widget-view+json": {
       "model_id": "1f7cce44fe1045b39da3dd24cc87d40f",
       "version_major": 2,
       "version_minor": 0
      },
      "text/plain": [
       "d0721bc9d9865c1786c47b125f3eb96c.nc:   0%|          | 0.00/319M [00:00<?, ?B/s]"
      ]
     },
     "metadata": {},
     "output_type": "display_data"
    },
    {
     "name": "stdout",
     "output_type": "stream",
     "text": [
      "========================================\n",
      "Downloading `surface_runoff`...\n"
     ]
    },
    {
     "name": "stderr",
     "output_type": "stream",
     "text": [
      "2024-12-05 14:23:34,376 WARNING [2024-10-10T00:00:00] The final validated ERA5 differs from ERA5T from July 2024 until further notice - please refer to our\n",
      "[Forum announcement](https://forum.ecmwf.int/t/final-validated-era5-product-to-differ-from-era5t-in-july-2024/6685)\n",
      "for details and watch it for further updates on this.\n",
      "2024-12-05 14:23:34,377 INFO Request ID is b53ee607-2d5e-4b5f-971d-4f3c7fe5a092\n",
      "2024-12-05 14:23:37,018 INFO status has been updated to accepted\n",
      "2024-12-05 14:23:39,623 INFO status has been updated to running\n",
      "2024-12-05 14:25:37,517 WARNING Structural differences in grib fields detected when opening in xarray. Opening the grib file safely, however this may result in files with non-intuitive filenames.\n",
      "2024-12-05 15:07:06,539 INFO status has been updated to successful\n"
     ]
    },
    {
     "data": {
      "application/vnd.jupyter.widget-view+json": {
       "model_id": "ee17fb62251f429eb5d87cbe96a3c882",
       "version_major": 2,
       "version_minor": 0
      },
      "text/plain": [
       "2b2a874d546651d65c564d9d3bd5c605.nc:   0%|          | 0.00/264M [00:00<?, ?B/s]"
      ]
     },
     "metadata": {},
     "output_type": "display_data"
    },
    {
     "name": "stdout",
     "output_type": "stream",
     "text": [
      "========================================\n",
      "Downloading `volumetric_soil_water_layer_1`...\n"
     ]
    },
    {
     "name": "stderr",
     "output_type": "stream",
     "text": [
      "2024-12-05 15:07:45,560 WARNING [2024-10-10T00:00:00] The final validated ERA5 differs from ERA5T from July 2024 until further notice - please refer to our\n",
      "[Forum announcement](https://forum.ecmwf.int/t/final-validated-era5-product-to-differ-from-era5t-in-july-2024/6685)\n",
      "for details and watch it for further updates on this.\n",
      "2024-12-05 15:07:45,560 INFO Request ID is 42faea0a-e1ae-4cfe-9906-edbd5f095830\n",
      "2024-12-05 15:07:45,998 INFO status has been updated to accepted\n",
      "2024-12-05 15:07:51,656 INFO status has been updated to running\n",
      "2024-12-05 15:10:41,232 WARNING Structural differences in grib fields detected when opening in xarray. Opening the grib file safely, however this may result in files with non-intuitive filenames.\n",
      "2024-12-05 15:12:12,922 INFO status has been updated to successful\n"
     ]
    },
    {
     "data": {
      "application/vnd.jupyter.widget-view+json": {
       "model_id": "b825d546523b414abf79d8ea3a53b94d",
       "version_major": 2,
       "version_minor": 0
      },
      "text/plain": [
       "27491e4d9702e5444c7080f1717371dc.nc:   0%|          | 0.00/748M [00:00<?, ?B/s]"
      ]
     },
     "metadata": {},
     "output_type": "display_data"
    },
    {
     "name": "stdout",
     "output_type": "stream",
     "text": [
      "========================================\n",
      "Downloading `volumetric_soil_water_layer_2`...\n"
     ]
    },
    {
     "name": "stderr",
     "output_type": "stream",
     "text": [
      "2024-12-05 15:14:27,918 WARNING [2024-10-10T00:00:00] The final validated ERA5 differs from ERA5T from July 2024 until further notice - please refer to our\n",
      "[Forum announcement](https://forum.ecmwf.int/t/final-validated-era5-product-to-differ-from-era5t-in-july-2024/6685)\n",
      "for details and watch it for further updates on this.\n",
      "2024-12-05 15:14:27,924 INFO Request ID is c4bf8384-bb1c-4430-bf90-a1fcd1401378\n",
      "2024-12-05 15:14:27,999 INFO status has been updated to accepted\n",
      "2024-12-05 15:14:34,267 INFO status has been updated to running\n",
      "2024-12-05 15:16:25,983 WARNING Structural differences in grib fields detected when opening in xarray. Opening the grib file safely, however this may result in files with non-intuitive filenames.\n",
      "2024-12-05 15:17:23,877 INFO status has been updated to successful\n"
     ]
    },
    {
     "data": {
      "application/vnd.jupyter.widget-view+json": {
       "model_id": "ed8986cf78b5454a8690fb7e5f76f12a",
       "version_major": 2,
       "version_minor": 0
      },
      "text/plain": [
       "60120282ac754c5b3bc5a80375e22115.nc:   0%|          | 0.00/718M [00:00<?, ?B/s]"
      ]
     },
     "metadata": {},
     "output_type": "display_data"
    },
    {
     "name": "stdout",
     "output_type": "stream",
     "text": [
      "========================================\n",
      "Downloading `volumetric_soil_water_layer_3`...\n"
     ]
    },
    {
     "name": "stderr",
     "output_type": "stream",
     "text": [
      "2024-12-05 15:20:05,025 WARNING [2024-10-10T00:00:00] The final validated ERA5 differs from ERA5T from July 2024 until further notice - please refer to our\n",
      "[Forum announcement](https://forum.ecmwf.int/t/final-validated-era5-product-to-differ-from-era5t-in-july-2024/6685)\n",
      "for details and watch it for further updates on this.\n",
      "2024-12-05 15:20:05,026 INFO Request ID is 1e7e38ba-d6b6-4eb7-ba60-af8fd88063f2\n",
      "2024-12-05 15:20:05,285 INFO status has been updated to accepted\n",
      "2024-12-05 15:20:12,406 INFO status has been updated to running\n",
      "2024-12-05 15:22:03,179 WARNING Structural differences in grib fields detected when opening in xarray. Opening the grib file safely, however this may result in files with non-intuitive filenames.\n",
      "2024-12-05 15:24:29,195 INFO status has been updated to successful\n"
     ]
    },
    {
     "data": {
      "application/vnd.jupyter.widget-view+json": {
       "model_id": "8981a25c97164e1bb60aff6162a8e69c",
       "version_major": 2,
       "version_minor": 0
      },
      "text/plain": [
       "3a098a403b8fb8b23bc852bb2e0ec1cd.nc:   0%|          | 0.00/707M [00:00<?, ?B/s]"
      ]
     },
     "metadata": {},
     "output_type": "display_data"
    },
    {
     "name": "stdout",
     "output_type": "stream",
     "text": [
      "========================================\n",
      "Downloading `volumetric_soil_water_layer_4`...\n"
     ]
    },
    {
     "name": "stderr",
     "output_type": "stream",
     "text": [
      "2024-12-05 15:26:25,132 WARNING [2024-10-10T00:00:00] The final validated ERA5 differs from ERA5T from July 2024 until further notice - please refer to our\n",
      "[Forum announcement](https://forum.ecmwf.int/t/final-validated-era5-product-to-differ-from-era5t-in-july-2024/6685)\n",
      "for details and watch it for further updates on this.\n",
      "2024-12-05 15:26:25,132 INFO Request ID is d1e39218-b346-4241-8960-700c1962c1e3\n",
      "2024-12-05 15:26:25,234 INFO status has been updated to accepted\n",
      "2024-12-05 15:26:30,230 INFO status has been updated to running\n",
      "2024-12-05 15:28:20,010 WARNING Structural differences in grib fields detected when opening in xarray. Opening the grib file safely, however this may result in files with non-intuitive filenames.\n",
      "2024-12-05 15:29:17,876 INFO status has been updated to successful\n"
     ]
    },
    {
     "data": {
      "application/vnd.jupyter.widget-view+json": {
       "model_id": "1256944bb0a043e4b591c6782ad14361",
       "version_major": 2,
       "version_minor": 0
      },
      "text/plain": [
       "b900c1c6aa64cd4229ed330da3fdfc2c.nc:   0%|          | 0.00/449M [00:00<?, ?B/s]"
      ]
     },
     "metadata": {},
     "output_type": "display_data"
    },
    {
     "name": "stdout",
     "output_type": "stream",
     "text": [
      "Download completed.\n"
     ]
    }
   ],
   "source": [
    "START_YEAR = 1940\n",
    "END_YEAR = 2023\n",
    "VARIABLES = [\n",
    "    \"total_precipitation\",\n",
    "    \"2m_temperature\",\n",
    "    \"2m_dewpoint_temperature\",\n",
    "    \"high_vegetation_cover\",\n",
    "    \"low_vegetation_cover\",\n",
    "    \"evaporation\",\n",
    "    \"potential_evaporation\",\n",
    "    \"runoff\",\n",
    "    \"snowfall\",\n",
    "    \"snowmelt\",\n",
    "    \"snow_depth\",\n",
    "    \"snow_evaporation\",\n",
    "    \"surface_pressure\",\n",
    "    \"leaf_area_index_high_vegetation\",\n",
    "    \"leaf_area_index_low_vegetation\",\n",
    "    \"sub_surface_runoff\",\n",
    "    \"surface_runoff\",\n",
    "    \"volumetric_soil_water_layer_1\",\n",
    "    \"volumetric_soil_water_layer_2\",\n",
    "    \"volumetric_soil_water_layer_3\",\n",
    "    \"volumetric_soil_water_layer_4\",\n",
    "]\n",
    "\n",
    "dataset_path = DL_PATH / \"inputs/era5-monthly\"\n",
    "dataset_path.mkdir(exist_ok=True)\n",
    "\n",
    "c = cdsapi.Client()\n",
    "dataset = \"reanalysis-era5-single-levels-monthly-means\"\n",
    "for variable in VARIABLES:\n",
    "    print(f\"{'=' * 40}\")\n",
    "    print(f\"Downloading `{variable}`...\")\n",
    "\n",
    "    request = {\n",
    "        \"product_type\": [\"monthly_averaged_reanalysis\"],\n",
    "        \"variable\": [variable],\n",
    "        \"year\": [f\"{year}\" for year in range(START_YEAR, END_YEAR + 1)],\n",
    "        \"month\": [f\"{month:02}\" for month in range(1, 12 + 1)],\n",
    "        \"time\": [\"00:00\"],\n",
    "        \"data_format\": \"netcdf\",\n",
    "        \"download_format\": \"unarchived\",\n",
    "    }\n",
    "    dataset_file = dataset_path / f\"era5-monthly_{variable}_{START_YEAR}-{END_YEAR}.nc\"\n",
    "    c.retrieve(dataset, request, dataset_file)\n",
    "\n",
    "print(\"Download completed.\")"
   ]
  },
  {
   "cell_type": "markdown",
   "metadata": {},
   "source": [
    "### NOAA Reconstructed Sea Surface Temperature\n",
    "\n",
    "Download the sea surface temperatures (SST) for calculating the Ocenanic Nino index (ONI). The ONI climate indices provided by [NOAA](https://psl.noaa.gov/data/climateindices/list/) only span to 1950.\n",
    "\n",
    "[Dataset description](https://psl.noaa.gov/data/gridded/data.noaa.ersst.v5.html)"
   ]
  },
  {
   "cell_type": "code",
   "execution_count": 2,
   "metadata": {},
   "outputs": [],
   "source": [
    "outdir = DL_PATH / \"inputs/noaa-ersst-v5\"\n",
    "url = \"https://downloads.psl.noaa.gov/Datasets/noaa.ersst.v5/sst.mnmean.nc\"\n",
    "download_file(url, outdir)"
   ]
  },
  {
   "cell_type": "markdown",
   "metadata": {},
   "source": [
    "### Glacier mass change\n",
    "\n",
    "[Dataset description](https://cds.climate.copernicus.eu/datasets/derived-gridded-glacier-mass-change)"
   ]
  },
  {
   "cell_type": "code",
   "execution_count": 8,
   "metadata": {},
   "outputs": [
    {
     "name": "stderr",
     "output_type": "stream",
     "text": [
      "2024-12-05 11:01:41,093 INFO [2024-09-28T00:00:00] **Welcome to the New Climate Data Store (CDS)!** This new system is in its early days of full operations and still undergoing enhancements and fine tuning. Some disruptions are to be expected. Your \n",
      "[feedback](https://jira.ecmwf.int/plugins/servlet/desk/portal/1/create/202) is key to improve the user experience on the new CDS for the benefit of everyone. Thank you.\n",
      "2024-12-05 11:01:41,093 INFO [2024-09-26T00:00:00] Watch our [Forum](https://forum.ecmwf.int/) for Announcements, news and other discussed topics.\n",
      "2024-12-05 11:01:41,094 INFO [2024-09-16T00:00:00] Remember that you need to have an ECMWF account to use the new CDS. **Your old CDS credentials will not work in new CDS!**\n",
      "2024-12-05 11:01:41,094 WARNING [2024-06-16T00:00:00] CDS API syntax is changed and some keys or parameter names may have also changed. To avoid requests failing, please use the \"Show API request code\" tool on the dataset Download Form to check you are using the correct syntax for your API request.\n",
      "2024-12-05 11:01:43,302 INFO [2024-04-29T00:00:00] Version WGMS-FOG-2022-09 will be deprecated in the near future. Users are advised to use the latest version.\n",
      "2024-12-05 11:01:43,302 INFO Request ID is 58edb837-9e6c-40dd-90f7-651a36ea50a6\n",
      "2024-12-05 11:01:47,082 INFO status has been updated to accepted\n",
      "2024-12-05 11:01:48,193 INFO status has been updated to successful\n"
     ]
    },
    {
     "data": {
      "application/vnd.jupyter.widget-view+json": {
       "model_id": "fa5d03cfb6aa4a3584a841ccf0e43e99",
       "version_major": 2,
       "version_minor": 0
      },
      "text/plain": [
       "617ff9b5a8163916054bb6132545eced.zip:   0%|          | 0.00/467M [00:00<?, ?B/s]"
      ]
     },
     "metadata": {},
     "output_type": "display_data"
    },
    {
     "name": "stdout",
     "output_type": "stream",
     "text": [
      "Download completed.\n"
     ]
    }
   ],
   "source": [
    "START_YEAR = 1975\n",
    "END_YEAR = 2021\n",
    "\n",
    "dataset_path = DL_PATH / \"inputs/wgms-fog\"\n",
    "dataset_path.mkdir(exist_ok=True)\n",
    "dataset_file = dataset_path / \"wgms_fog_2023_09.zip\"\n",
    "\n",
    "c = cdsapi.Client()\n",
    "dataset = \"derived-gridded-glacier-mass-change\"\n",
    "request = {\n",
    "    \"variable\": \"glacier_mass_change\",\n",
    "    \"hydrological_year\": [\n",
    "        f\"{year}_{(year + 1) % 100:02}\" for year in range(START_YEAR, END_YEAR + 1)\n",
    "    ],\n",
    "    \"product_version\": \"wgms_fog_2023_09\",\n",
    "}\n",
    "c.retrieve(dataset, request, dataset_file)\n",
    "print(\"Download completed.\")"
   ]
  },
  {
   "cell_type": "code",
   "execution_count": null,
   "metadata": {},
   "outputs": [],
   "source": [
    "# Extract ZIP\n",
    "with zipfile.ZipFile(dataset_file) as zip_file:\n",
    "    zip_file.extractall(dataset_path)\n",
    "# Remove ZIP\n",
    "dataset_file.unlink()\n",
    "\n",
    "# Combine yearly files\n",
    "yearly_files = list(dataset_path.glob(\"*.nc4\"))\n",
    "with xr.open_mfdataset(yearly_files) as ds:\n",
    "    ds.to_netcdf(dataset_path / \"wgms-fog-2023-09_glacier-mass-change.nc\")\n",
    "# Remove yearly files\n",
    "for file in yearly_files:\n",
    "    file.unlink()"
   ]
  },
  {
   "cell_type": "markdown",
   "metadata": {},
   "source": [
    "## Human influences"
   ]
  },
  {
   "cell_type": "markdown",
   "metadata": {},
   "source": [
    "### ISIMIP Land Use\n",
    "\n",
    "[Data set description](https://www.isimip.org/gettingstarted/input-data-bias-adjustment/details/82/)"
   ]
  },
  {
   "cell_type": "code",
   "execution_count": 4,
   "metadata": {},
   "outputs": [
    {
     "name": "stderr",
     "output_type": "stream",
     "text": [
      "Downloading landuse: 100%|██████████| 5/5 [00:11<00:00,  2.38s/it, urbanareas]\n"
     ]
    }
   ],
   "source": [
    "outdir = DL_PATH / \"inputs/landuse\"\n",
    "urls = {\n",
    "    \"5crops\": \"https://files.isimip.org/ISIMIP3a/InputData/socioeconomic/landuse/histsoc/landuse-5crops_histsoc_annual_1901_2021.nc\",\n",
    "    \"15crops\": \"https://files.isimip.org/ISIMIP3a/InputData/socioeconomic/landuse/histsoc/landuse-15crops_histsoc_annual_1901_2021.nc\",\n",
    "    \"pastures\": \"https://files.isimip.org/ISIMIP3a/InputData/socioeconomic/landuse/histsoc/landuse-pastures_histsoc_annual_1901_2021.nc\",\n",
    "    \"totals\": \"https://files.isimip.org/ISIMIP3a/InputData/socioeconomic/landuse/histsoc/landuse-totals_histsoc_annual_1901_2021.nc\",\n",
    "    \"urbanareas\": \"https://files.isimip.org/ISIMIP3a/InputData/socioeconomic/landuse/histsoc/landuse-urbanareas_histsoc_annual_1901_2021.nc\",\n",
    "}\n",
    "for name, url in (pbar := tqdm(urls.items(), desc=\"Downloading landuse\")):\n",
    "    pbar.set_postfix_str(name)\n",
    "    download_file(url, outdir)"
   ]
  },
  {
   "cell_type": "markdown",
   "metadata": {},
   "source": [
    "### ISIMIP Lake area fraction\n",
    "\n",
    "[Data set description](https://www.isimip.org/gettingstarted/input-data-bias-adjustment/details/132/)"
   ]
  },
  {
   "cell_type": "code",
   "execution_count": 3,
   "metadata": {},
   "outputs": [],
   "source": [
    "outdir = DL_PATH / \"inputs/pctlake\"\n",
    "url = \"https://files.isimip.org/ISIMIP3a/InputData/socioeconomic/lakes/histsoc/pctlake_histsoc_1901_2021.nc\"\n",
    "download_file(url, outdir)"
   ]
  },
  {
   "cell_type": "markdown",
   "metadata": {},
   "source": [
    "## Shapes"
   ]
  },
  {
   "cell_type": "markdown",
   "metadata": {},
   "source": [
    "### GRDC Major River Basins\n",
    "\n",
    "Major river basins by the Global Runoff Data Center. The basins incorporate HydroBASINS data and are named. They are available as Shapefile and geoJSON\n",
    "\n",
    "- [Description](https://www.bafg.de/GRDC/EN/02_srvcs/22_gslrs/221_MRB/riverbasins_node.html)\n",
    "- [Map and download](https://mrb.grdc.bafg.de/)"
   ]
  },
  {
   "cell_type": "code",
   "execution_count": null,
   "metadata": {},
   "outputs": [
    {
     "name": "stdout",
     "output_type": "stream",
     "text": [
      "Download completed.\n"
     ]
    }
   ],
   "source": [
    "url = \"https://grdc.bafg.de/downloads/GRDC_Major_River_Basins_shp.zip\"\n",
    "path = DL_PATH / \"shapefiles/mrb\"\n",
    "\n",
    "download_zip(url, path)\n",
    "print(\"Download completed.\")"
   ]
  },
  {
   "cell_type": "markdown",
   "metadata": {},
   "source": [
    "### NaturalEarth 1:50 countries\n",
    "\n",
    "[Description](https://www.naturalearthdata.com/downloads/50m-cultural-vectors/50m-admin-0-countries-2/)"
   ]
  },
  {
   "cell_type": "code",
   "execution_count": null,
   "metadata": {},
   "outputs": [
    {
     "name": "stdout",
     "output_type": "stream",
     "text": [
      "Download completed.\n"
     ]
    }
   ],
   "source": [
    "url = \"https://naturalearth.s3.amazonaws.com/5.0.1/50m_cultural/ne_50m_admin_0_countries.zip\"\n",
    "path = DL_PATH / \"shapefiles/naturalearth\"\n",
    "\n",
    "download_zip(url, path)\n",
    "print(\"Download completed.\")"
   ]
  },
  {
   "cell_type": "markdown",
   "metadata": {},
   "source": [
    "## Previous TWS reconstructions\n",
    "### Humphrey, 2019\n",
    "\n",
    "[Data on figshare](https://figshare.com/articles/dataset/GRACE-REC_A_reconstruction_of_climate-driven_water_storage_changes_over_the_last_century/7670849)"
   ]
  },
  {
   "cell_type": "code",
   "execution_count": 16,
   "metadata": {},
   "outputs": [
    {
     "name": "stdout",
     "output_type": "stream",
     "text": [
      "Download completed.\n"
     ]
    }
   ],
   "source": [
    "url = \"https://figshare.com/ndownloader/files/17990285\"\n",
    "path = DL_PATH / \"reconstructions/humphrey\"\n",
    "path.mkdir(parents=True, exist_ok=True)\n",
    "\n",
    "download_zip(url, path)\n",
    "print(\"Download completed.\")"
   ]
  },
  {
   "cell_type": "markdown",
   "metadata": {},
   "source": [
    "### Li, 2021\n",
    "\n",
    "[Download here on DRYAD](https://datadryad.org/stash/dataset/doi:10.5061/dryad.z612jm6bt)"
   ]
  },
  {
   "cell_type": "markdown",
   "metadata": {},
   "source": [
    "### Chandanpurkar, 2022\n",
    "\n",
    "[Data on zenodo](https://zenodo.org/records/6659543)"
   ]
  },
  {
   "cell_type": "code",
   "execution_count": 15,
   "metadata": {},
   "outputs": [
    {
     "name": "stdout",
     "output_type": "stream",
     "text": [
      "Download completed.\n"
     ]
    }
   ],
   "source": [
    "url = \"https://zenodo.org/records/6659543/files/tws_cseof_v1.nc\"\n",
    "path = DL_PATH / \"reconstructions/chandanpurkar\"\n",
    "\n",
    "download_file(url, path)\n",
    "print(\"Download completed.\")\n"
   ]
  },
  {
   "cell_type": "markdown",
   "metadata": {},
   "source": [
    "### Yin, 2023\n",
    "\n",
    "[Data on zenodo](https://zenodo.org/records/10040927)"
   ]
  },
  {
   "cell_type": "code",
   "execution_count": null,
   "metadata": {},
   "outputs": [],
   "source": [
    "path = DL_PATH / \"reconstructions/yin\"\n",
    "urls = [\n",
    "    \"https://zenodo.org/records/10040927/files/CSR-based%20GTWS-MLrec%20TWS.nc\",\n",
    "    \"https://zenodo.org/records/10040927/files/GSFC-based%20GTWS-MLrec%20TWS.nc\",\n",
    "    \"https://zenodo.org/records/10040927/files/JPL-based%20GTWS-MLrec%20TWS.nc\",\n",
    "]\n",
    "\n",
    "for url in tqdm(urls):\n",
    "    download_file(url, path)\n"
   ]
  },
  {
   "cell_type": "markdown",
   "metadata": {},
   "source": [
    "### Palazzoli, 2025\n",
    "\n",
    "[Data on zenodo](https://zenodo.org/records/10953658)"
   ]
  },
  {
   "cell_type": "code",
   "execution_count": null,
   "metadata": {},
   "outputs": [],
   "source": [
    "url = \"https://zenodo.org/records/10953658/files/GRAiCE_BiLSTM.nc\"\n",
    "path = DL_PATH / \"reconstructions/palazzoli\"\n",
    "\n",
    "download_file(url, path)\n",
    "print(\"Download completed.\")\n"
   ]
  }
 ],
 "metadata": {
  "kernelspec": {
   "display_name": ".venv",
   "language": "python",
   "name": "python3"
  },
  "language_info": {
   "codemirror_mode": {
    "name": "ipython",
    "version": 3
   },
   "file_extension": ".py",
   "mimetype": "text/x-python",
   "name": "python",
   "nbconvert_exporter": "python",
   "pygments_lexer": "ipython3",
   "version": "3.12.8"
  }
 },
 "nbformat": 4,
 "nbformat_minor": 2
}
